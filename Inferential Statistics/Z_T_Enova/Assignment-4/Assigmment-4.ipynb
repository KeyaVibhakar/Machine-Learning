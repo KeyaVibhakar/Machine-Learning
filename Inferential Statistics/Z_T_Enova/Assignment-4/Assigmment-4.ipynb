{
 "cells": [
  {
   "cell_type": "markdown",
   "metadata": {},
   "source": [
    "# One sample and two sample  (test for mean and not for proportion) "
   ]
  },
  {
   "cell_type": "code",
   "execution_count": 1,
   "metadata": {},
   "outputs": [],
   "source": [
    "import numpy       as np\n",
    "import pandas      as pd\n",
    "import scipy.stats as stats"
   ]
  },
  {
   "cell_type": "markdown",
   "metadata": {},
   "source": [
    "### 1) Z test\n",
    "\n",
    "A one sample Z test is one of the most basic types of hypothesis test.\n"
   ]
  },
  {
   "cell_type": "markdown",
   "metadata": {},
   "source": [
    "### Example 1: \n",
    "\n",
    "A principal of a prestigious city college claims that the average intelligence of the students of the college is above average. \n",
    "\n",
    "A random sample of 100 students IQ scores have  a mean score of 115. The mean population mean IQ is 100 with a standard deviation of 15.\n",
    "\n",
    "Is there sufficient evidence to support the principal's claim?"
   ]
  },
  {
   "cell_type": "code",
   "execution_count": 2,
   "metadata": {},
   "outputs": [
    {
     "name": "stdout",
     "output_type": "stream",
     "text": [
      "Se is :  1.5\n",
      "Zscore of sample mean is :  10.0\n",
      "Lower limit of the rejection region is :  1.6448536269514729\n",
      "\n",
      "There IS enough evidence to prove principals claim\n"
     ]
    }
   ],
   "source": [
    "#H0 = IQ <= mu (100)\n",
    "#H1 = IQ > mu (100)\n",
    "# Z-test method\n",
    "\n",
    "n = 100\n",
    "mu = 100\n",
    "sigma = 15\n",
    "xbar = 115\n",
    "alpha = 0.05\n",
    "\n",
    "se = sigma/np.sqrt(n)\n",
    "\n",
    "zscore = (xbar-mu)/se\n",
    "\n",
    "rejection_region = stats.norm.isf(0.05)\n",
    "\n",
    "# Since it's a one-tailed right-tailed test ->\n",
    "# If the zscore > rejection_region, \n",
    "#    There's enough evidence to reject H0. Hence, we accept H1\n",
    "# Else, \n",
    "#    We fail to reject H0. Hence, we accept H0 \n",
    "\n",
    "print('Se is : ', se)\n",
    "print('Zscore of sample mean is : ', zscore)\n",
    "print('Lower limit of the rejection region is : ', rejection_region)\n",
    "print('\\nThere {0} enough evidence to prove principal''s claim'.format(np.where(zscore>=rejection_region, 'IS','IS NOT')))\n"
   ]
  },
  {
   "cell_type": "markdown",
   "metadata": {},
   "source": [
    "### 2) t test"
   ]
  },
  {
   "cell_type": "markdown",
   "metadata": {},
   "source": [
    "### One sample t test"
   ]
  },
  {
   "cell_type": "markdown",
   "metadata": {},
   "source": [
    "### Example 2\n",
    "\n",
    "Suppose that a doctor claims that 17 year olds have an average body temperature that is higher than the commonly accepted average human temperature of 98.6 degree F.\n",
    "\n",
    "A simple random statistical sample of 25 people, each of age 17 is selected. \n",
    "\n",
    "| ID | Temperature |\n",
    "| --- | ----- |\n",
    "| 1 | 98.56 | \n",
    "| 2 | 98.66 |\n",
    "| 3 | 97.54 |\n",
    "| 4 | 98.71 |\n",
    "| 5 | 99.22 |\n",
    "| 6 | 99.49 |\n",
    "| 7 | 98.14 |\n",
    "| 8 | 98.84 |\n",
    "| 9 | 99.28 |\n",
    "| 10 | 98.48 |\n",
    "| 11 | 98.88 |\n",
    "| 12 | 97.29 |\n",
    "| 13 | 98.88 |\n",
    "| 14 | 99.07 |\n",
    "| 15 | 98.81 |\n",
    "| 16 | 99.49 |\n",
    "| 17 | 98.57 |\n",
    "| 18 | 97.98 |\n",
    "| 19 | 97.75 |\n",
    "| 20 | 97.69 |\n",
    "| 21 | 99.28 |\n",
    "| 22 | 98.52 |\n",
    "| 23 | 98.82 |\n",
    "| 24 | 98.81 |\n",
    "| 25 | 98.22 |\n"
   ]
  },
  {
   "cell_type": "code",
   "execution_count": 4,
   "metadata": {},
   "outputs": [
    {
     "name": "stdout",
     "output_type": "stream",
     "text": [
      "-0.006668602694974533\n",
      "tstat =  -0.006668602694974533\n",
      "critical_value =  1.7108820799094282\n",
      "True\n",
      "-0.006668602694974534\n",
      "0.4973671933764293\n"
     ]
    }
   ],
   "source": [
    "temperature = np.array([98.56, 98.66, 97.54, 98.71, 99.22, 99.49, 98.14, 98.84,\\\n",
    "                         99.28, 98.48, 98.88, 97.29, 98.88, 99.07, 98.81, 99.49,\\\n",
    "                         98.57, 97.98, 97.75, 97.69, 99.28, 98.52, 98.82, 98.81, 98.22])            \n",
    "\n",
    "# H0 = 17 years' body temperature is not higher\n",
    "# H1 = 17 year's body temperature is higher\n",
    "\n",
    "\n",
    "mu = 98.6\n",
    "n = 25\n",
    "xbar = temperature.mean()\n",
    "S = temperature.std(ddof=1)\n",
    "alpha = 0.05\n",
    "\n",
    "se = S / np.sqrt(n)\n",
    "\n",
    "# Using Critical Value:\n",
    "\n",
    "tstat = (xbar - mu)/ se\n",
    "print(tstat)\n",
    "critical_value = stats.t.isf(0.05, df=n-1)\n",
    "reject_H = tstat <= critical_value\n",
    "print('tstat = ', tstat)\n",
    "print('critical_value = ',critical_value)\n",
    "print(reject_H)\n",
    "\n",
    "\n",
    "# Using p-Value:\n",
    "\n",
    "p_value = stats.t.cdf(tstat, df=n-1)\n",
    "p_value\n",
    "\n",
    "# Using stats library:\n",
    "\n",
    "tcrit, p_value_two_side = stats.ttest_1samp(temperature, mu)\n",
    "p_value_rt_side = p_value_two_side / 2\n",
    "print(tcrit)\n",
    "print(p_value_rt_side)"
   ]
  },
  {
   "cell_type": "markdown",
   "metadata": {},
   "source": [
    "### Two sample t test - Unpaired Data"
   ]
  },
  {
   "cell_type": "markdown",
   "metadata": {},
   "source": [
    "### Example 3"
   ]
  },
  {
   "cell_type": "markdown",
   "metadata": {},
   "source": [
    "Compare two unrelated samples. Data was collected on the weight loss of 16 women and 20 men enrolled in a weight reduction program.\n",
    "At $\\alpha$ = 0.05, test whether the weight loss of these two samples is different."
   ]
  },
  {
   "cell_type": "code",
   "execution_count": 5,
   "metadata": {},
   "outputs": [],
   "source": [
    "Weight_loss_Male   = [ 3.69, 4.12, 4.65, 3.19,  4.34, 3.68, 4.12, 4.50, 3.70, 3.09,3.65, 4.73, 3.93, 3.46, 3.28, 4.43, 4.13, 3.62, 3.71, 2.92]\n",
    "Weight_loss_Female = [2.99, 1.80, 3.79, 4.12, 1.76, 3.50, 3.61, 2.32, 3.67, 4.26, 4.57, 3.01, 3.82, 4.33, 3.40, 3.86]"
   ]
  },
  {
   "cell_type": "code",
   "execution_count": 6,
   "metadata": {},
   "outputs": [
    {
     "name": "stdout",
     "output_type": "stream",
     "text": [
      "Fstat :  0.3763228234982662\n",
      "F - critical value :  2.339819281665458\n",
      "equal-variance =  True\n",
      "\n",
      "\n",
      "UCL and LCL : 2.032244509317719  and  -2.032244509317719\n",
      "\n",
      "\n",
      "\n",
      "\n",
      "Using T-statistics if equal-variance = True (pooled-variance formula)\n",
      "-------------------------------------------\n",
      "t-statistics :  1.8271882959812857\n",
      "Does t-statistics lies in rejection regions :  No\n",
      "Did we fail to reject H0? :  Yes\n",
      "t_statistic using ttest_ind method :  1.827188295981286\n"
     ]
    }
   ],
   "source": [
    "Wt_loss_Male = np.array(Weight_loss_Male)\n",
    "Wt_loss_Female = np.array(Weight_loss_Female)\n",
    "\n",
    "xbar1 = Wt_loss_Male.mean()\n",
    "xbar2 = Wt_loss_Female.mean()\n",
    "\n",
    "S1 = Wt_loss_Male.std(ddof=1)\n",
    "S2 = Wt_loss_Female.std(ddof=1)\n",
    "\n",
    "n1 = len(Wt_loss_Male)\n",
    "n2 = len(Wt_loss_Female)\n",
    "\n",
    "\n",
    "# F Test - to test whether two independent populations have the same variability\n",
    "\n",
    "Fstat = (S1**2)/(S2**2)\n",
    "f_crit = stats.f.isf(q = 0.05, dfn = n1-1, dfd = n2-1)\n",
    "equal_variance = Fstat < f_crit\n",
    "print('Fstat : ', Fstat)\n",
    "print('F - critical value : ',f_crit)\n",
    "print('equal-variance = ',equal_variance)\n",
    "print('\\n')\n",
    "\n",
    "#H0 = mu1 = mu2\n",
    "#H1 = mu1 != mu2\n",
    "\n",
    "\n",
    "dof = n1+n2-2\n",
    "UCL = stats.t.isf(0.025, df=dof)\n",
    "LCL = stats.t.ppf(0.025, df=dof)\n",
    "\n",
    "print('UCL and LCL :', UCL, ' and ', LCL)\n",
    "print('\\n')\n",
    "\n",
    "# Calculation of 'se1' and 'se2' differs; for equal-variance = True/False.\n",
    "# Formula for T-statistic calculation remains same; for equal-variance = True/False.\n",
    "\n",
    "'''\n",
    "print('Calculation of se1 and se2 differs; for equal-variance = True/False.')\n",
    "print('Formula for T-statistic calculation remains same; for equal-variance = True/False.\\n\\n')\n",
    "\n",
    "\n",
    "# Using T-statistics if equal-variance = False (separate-variance formula)\n",
    "\n",
    "print('Using T-statistics if equal-variance = False (separate-variance formula)')\n",
    "print('-------------------------------------------')\n",
    "\n",
    "se1 = (np.power(S1,2)/n1)\n",
    "se2 = (np.power(S2,2)/n2)\n",
    "\n",
    "tstat = (xbar1 - xbar2)/np.sqrt(se1 + se2)\n",
    "accept_H0 = LCL <= tstat <= UCL \n",
    "\n",
    "print('t-statistics : ', tstat)\n",
    "print('Does t-statistics lies in rejection regions : ',np.where(accept_H0,'No','Yes'))\n",
    "print('Did we fail to reject H0? : ',np.where(accept_H0,'Yes','No')) \n",
    "\n",
    "t_statistic, p_value  =  stats.ttest_ind(Weight_loss_Male,Weight_loss_Female, equal_var=False)\n",
    "print('t_statistic using ttest_ind method : ', t_statistic)\n",
    "\n",
    "'''\n",
    "\n",
    "# Using T-statistics if equal-variance = True (pooled-variance formula)\n",
    "print('\\n')\n",
    "print('Using T-statistics if equal-variance = True (pooled-variance formula)')\n",
    "print('-------------------------------------------')\n",
    "\n",
    "numerator = ((n1 - 1) * np.power(S1,2)) + ((n2 - 1) * np.power(S2,2))  \n",
    "denominator = ((n1 - 1) + (n2 - 1))\n",
    "\n",
    "S = numerator / denominator\n",
    "se_1 = S/n1\n",
    "se_2 = S/n2\n",
    "\n",
    "tstat1 = (xbar1 - xbar2) / np.sqrt(se_1 + se_2)\n",
    "accept1_H0 = LCL <= tstat1 <= UCL \n",
    "\n",
    "print('t-statistics : ', tstat1)\n",
    "print('Does t-statistics lies in rejection regions : ',np.where(accept1_H0,'No','Yes'))\n",
    "print('Did we fail to reject H0? : ',np.where(accept1_H0,'Yes','No')) \n",
    "t_statistic, p_value  =  stats.ttest_ind(Weight_loss_Male,Weight_loss_Female, equal_var=True)\n",
    "print('t_statistic using ttest_ind method : ' ,t_statistic)"
   ]
  },
  {
   "cell_type": "markdown",
   "metadata": {},
   "source": [
    "### Example 4"
   ]
  },
  {
   "cell_type": "markdown",
   "metadata": {},
   "source": [
    "Compare the following two unrelated samples. Data was collected on the weight of women and men enrolled in a weight reduction program.\n",
    "At $\\alpha$ = 0.05, test whether the weight of these two samples is different."
   ]
  },
  {
   "cell_type": "code",
   "execution_count": 7,
   "metadata": {
    "scrolled": true
   },
   "outputs": [],
   "source": [
    "Weight_Female       =  [ 53.8, 54.4, 51.2, 52.5, 61.0, 50.6, 51.6, 70.0]\n",
    "Weight_Male         =  [ 72.5, 80.3, 71.3, 67.7, 66.2, 73.4, 61.3, 76.8]"
   ]
  },
  {
   "cell_type": "code",
   "execution_count": 8,
   "metadata": {},
   "outputs": [
    {
     "name": "stdout",
     "output_type": "stream",
     "text": [
      "UCL and LCL : 2.1447866879169277  and  -2.1447866879169277\n",
      "\n",
      "\n",
      "Using T-statistics if equal-variance = False\n",
      "-------------------------------------------\n",
      "t-statistics :  -4.886344172533443\n",
      "Does t-statistics lies in rejection regions :  Yes\n",
      "Did we fail to reject H0? :  No\n",
      "t_statistic using ttest_ind method :  -4.886344172533444\n",
      "\n",
      "\n",
      "Using T-statistics if equal-variance = True\n",
      "-------------------------------------------\n",
      "t-statistics :  -4.886344172533443\n",
      "Does t-statistics lies in rejection regions :  Yes\n",
      "Did we fail to reject H0? :  No\n",
      "t_statistic using ttest_ind method :  -4.886344172533444\n"
     ]
    }
   ],
   "source": [
    "wt_Female = np.array(Weight_Female)\n",
    "wt_Male = np.array(Weight_Male)\n",
    "\n",
    "xbar1 = wt_Female.mean()\n",
    "xbar2 = wt_Male.mean()\n",
    "\n",
    "S1 = wt_Female.std(ddof=1)\n",
    "S2 = wt_Male.std(ddof=1)\n",
    "\n",
    "n1 = len(wt_Female)\n",
    "n2 = len(wt_Male)\n",
    "\n",
    "dof = n1 + n2 - 2\n",
    "UCL = stats.t.isf(0.025,df=dof)\n",
    "LCL = stats.t.ppf(0.025,df=dof)\n",
    "\n",
    "print('UCL and LCL :', UCL, ' and ', LCL)\n",
    "print('\\n')\n",
    "\n",
    "# Using T-statistics if equal-variance = False\n",
    "print('Using T-statistics if equal-variance = False')\n",
    "print('-------------------------------------------')\n",
    "\n",
    "se1 = np.power(S1,2)/n1\n",
    "se2 = np.power(S2,2)/n2\n",
    "\n",
    "tstat = (xbar1 - xbar2)/np.sqrt(se1 + se2)\n",
    "accept_H0 = LCL <= tstat <= UCL \n",
    "\n",
    "print('t-statistics : ', tstat)\n",
    "print('Does t-statistics lies in rejection regions : ',np.where(accept_H0,'No','Yes'))\n",
    "print('Did we fail to reject H0? : ',np.where(accept_H0,'Yes','No')) \n",
    "\n",
    "t_statistic, p_value  =  stats.ttest_ind(wt_Female,wt_Male, equal_var=False)\n",
    "print('t_statistic using ttest_ind method : ', t_statistic)\n",
    "\n",
    "print('\\n')\n",
    "# Using T-statistics if equal-variance = True\n",
    "print('Using T-statistics if equal-variance = True')\n",
    "print('-------------------------------------------')\n",
    "\n",
    "numerator = ((n1 - 1) * np.power(S1,2)) + ((n2 - 1) * np.power(S2,2))  \n",
    "denominator = ((n1 - 1) + (n2 - 1))\n",
    "\n",
    "S = numerator/denominator\n",
    "\n",
    "se_1 = S/n1\n",
    "se_2 = S/n2\n",
    "\n",
    "tstat1 = (xbar1 - xbar2)/np.sqrt(se_1+se_2)\n",
    "accept1_H0 = LCL <= tstat1 <= UCL \n",
    "\n",
    "print('t-statistics : ', tstat1)\n",
    "print('Does t-statistics lies in rejection regions : ',np.where(accept1_H0,'No','Yes'))\n",
    "print('Did we fail to reject H0? : ',np.where(accept1_H0,'Yes','No')) \n",
    "\n",
    "t_statistic, p_value  =  stats.ttest_ind(wt_Female,wt_Male, equal_var=True)\n",
    "print('t_statistic using ttest_ind method : ' ,t_statistic)"
   ]
  },
  {
   "cell_type": "markdown",
   "metadata": {},
   "source": [
    "## Two sample t test for paired data"
   ]
  },
  {
   "cell_type": "markdown",
   "metadata": {},
   "source": [
    "### Example 6"
   ]
  },
  {
   "cell_type": "markdown",
   "metadata": {},
   "source": [
    "Compare two related samples. Data was collected on the marks scored by 25 students in their final practice exam and the marks scored by the students after attending special coaching classes conducted by their college.\n",
    "At 5% level of significance, is there any evidence that the coaching classes has any effect on the marks scored."
   ]
  },
  {
   "cell_type": "code",
   "execution_count": 9,
   "metadata": {},
   "outputs": [],
   "source": [
    "Marks_before = [ 52, 56, 61, 47, 58, 52, 56, 60, 52, 46, 51, 62, 54, 50, 48, 59, 56, 51, 52, 44, 52, 45, 57, 60, 45]\n",
    "\n",
    "Marks_after  = [62, 64, 40, 65, 76, 82, 53, 68, 77, 60, 69, 34, 69, 73, 67, 82, 62, 49, 44, 43, 77, 61, 67, 67, 54]"
   ]
  },
  {
   "cell_type": "code",
   "execution_count": 10,
   "metadata": {},
   "outputs": [
    {
     "name": "stdout",
     "output_type": "stream",
     "text": [
      "P Value 0.002\n",
      "t_statistic  3.404831324883169\n",
      "\n",
      "\n",
      "P Value 0.002\n",
      "t_statistic  3.404831324883169\n",
      "Coaching classes has effect on marks :  False\n"
     ]
    }
   ],
   "source": [
    "Marks_after = np.array(Marks_after)\n",
    "Marks_before = np.array(Marks_before)\n",
    "alpha = 0.05\n",
    "\n",
    "D = Marks_after - Marks_before\n",
    "t_statistic, p_value  =  stats.ttest_1samp(D,0)\n",
    "print('P Value %1.3f' % p_value) \n",
    "print('t_statistic ', t_statistic) \n",
    "\n",
    "print('\\n')\n",
    "\n",
    "t_statistic, p_value  =  stats.ttest_rel(Marks_after, Marks_before )\n",
    "print('P Value %1.3f' % p_value) \n",
    "print('t_statistic ', t_statistic) \n",
    "\n",
    "effect = p_value > alpha\n",
    "print('Coaching classes has effect on marks : ', effect)"
   ]
  },
  {
   "cell_type": "markdown",
   "metadata": {},
   "source": [
    "### Example 7\n",
    "** Alchohol consumption before and after love failure is given in the following table. Conduct a paired t test to check whether the alcholhol consumption is more after the love failure at 5% level of significance.**"
   ]
  },
  {
   "cell_type": "code",
   "execution_count": 11,
   "metadata": {},
   "outputs": [
    {
     "name": "stdout",
     "output_type": "stream",
     "text": [
      "[ -62   85 -175   86  -14 -105  -60  133   62   88  -31 -106  -95  126\n",
      "   63  112    7   70  -86  132]\n",
      "Mean is 11.50 and standard deviation is 95.68\n"
     ]
    }
   ],
   "source": [
    "Alchohol_Consumption_before = np.array([470, 354, 496, 351, 349, 449, 378, 359, 469, 329, 389, 497, 493, 268, 445, 287, 338, 271, 412, 335])\n",
    "Alchohol_Consumption_after  = np.array([408, 439, 321, 437, 335, 344, 318, 492, 531, 417, 358, 391, 398, 394, 508, 399, 345, 341, 326, 467])\n",
    "\n",
    "D  = Alchohol_Consumption_after -Alchohol_Consumption_before\n",
    "print(D)\n",
    "print('Mean is %3.2f and standard deviation is %3.2f' %(D.mean(),np.std(D,ddof = 1)))"
   ]
  },
  {
   "cell_type": "code",
   "execution_count": 12,
   "metadata": {},
   "outputs": [
    {
     "name": "stdout",
     "output_type": "stream",
     "text": [
      "P Value 0.597\n",
      "t_statistic   0.5375404241815105\n",
      "\n",
      "\n",
      "P Value 0.597\n",
      "t_statistic   0.5375404241815105\n",
      "\n",
      "\n",
      "The alchohol consumption is more after love failure :  True\n"
     ]
    }
   ],
   "source": [
    "alpha = 0.05\n",
    "\n",
    "t_statistic, p_value  =  stats.ttest_1samp(D, 0)\n",
    "print('P Value %1.3f' % p_value)\n",
    "print('t_statistic  ', t_statistic)\n",
    "print('\\n')  \n",
    "t_statistic, p_value  =  stats.ttest_rel(Alchohol_Consumption_after, Alchohol_Consumption_before )\n",
    "print('P Value %1.3f' % p_value)  \n",
    "print('t_statistic  ', t_statistic)\n",
    "\n",
    "print('\\n')\n",
    "effect = p_value > alpha\n",
    "print('The alchohol consumption is more after love failure : ', effect)\n"
   ]
  },
  {
   "cell_type": "markdown",
   "metadata": {},
   "source": [
    "### Example 8"
   ]
  },
  {
   "cell_type": "markdown",
   "metadata": {},
   "source": [
    "Sugar consumption in grams of 20 patients (both diabetic and non-diabetic) are given below:**\n",
    "\n",
    "*At 5% level of significance, is there evidence that the mean sugar consumption is different for diabetic and non-diabetic?**    In the following table, 0 means diabetic and 1 means non-diabetic.*\n",
    "    "
   ]
  },
  {
   "cell_type": "code",
   "execution_count": 13,
   "metadata": {},
   "outputs": [
    {
     "name": "stdout",
     "output_type": "stream",
     "text": [
      "sugar_diabetic :  [ 9.31  7.76 11.51 12.59 11.85  9.99  7.48  8.79  9.68  9.19]\n",
      "sugar_nondiabetic :  [ 6.98  7.88  8.49 10.05  8.8  10.88  6.13  7.9   7.05  8.69  8.58  8.11]\n",
      "\n",
      "\n",
      "P Value 0.028\n",
      "t_statistic   2.3730593333971224\n",
      "Mean sugar consumption is different for diabetic and non-diabetic :  False\n"
     ]
    }
   ],
   "source": [
    "weight               = np.array([[9.31, 0],[7.76, 0],[6.98, 1],[7.88, 1],[8.49, 1],[10.05, 1],[8.80, 1],[10.88, 1],[6.13, 1],[7.90, 1], \\\n",
    "                            [11.51, 0],[12.59, 0],[7.05, 1],[11.85, 0],[9.99, 0],[7.48, 0],[8.79, 0],[8.69, 1],[9.68, 0],[8.58, 1],\\\n",
    "                           [9.19, 0],[8.11, 1]])\n",
    "\n",
    "alpha = 0.05\n",
    "\n",
    "sugar_diabetic       = weight[:,1] == 0\n",
    "sugar_diabetic       = weight[sugar_diabetic][:,0]\n",
    "sugar_nondiabetic    = weight[:,1] == 1\n",
    "sugar_nondiabetic    = weight[sugar_nondiabetic][:,0] \n",
    "\n",
    "print('sugar_diabetic : ',sugar_diabetic)\n",
    "print('sugar_nondiabetic : ',sugar_nondiabetic)\n",
    "print('\\n')\n",
    "\n",
    "t_statistic, p_value = stats.ttest_ind(sugar_diabetic,sugar_nondiabetic)\n",
    "print('P Value %1.3f' % p_value)  \n",
    "print('t_statistic  ', t_statistic)\n",
    "\n",
    "different = p_value > alpha\n",
    "print('Mean sugar consumption is different for diabetic and non-diabetic : ',different)"
   ]
  }
 ],
 "metadata": {
  "kernelspec": {
   "display_name": "Python 3",
   "language": "python",
   "name": "python3"
  },
  "language_info": {
   "codemirror_mode": {
    "name": "ipython",
    "version": 3
   },
   "file_extension": ".py",
   "mimetype": "text/x-python",
   "name": "python",
   "nbconvert_exporter": "python",
   "pygments_lexer": "ipython3",
   "version": "3.7.1"
  }
 },
 "nbformat": 4,
 "nbformat_minor": 2
}
