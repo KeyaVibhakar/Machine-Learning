{
 "cells": [
  {
   "cell_type": "markdown",
   "metadata": {},
   "source": [
    "**About Data :**\n",
    "\n",
    "In 2013, students of the Statistics class at FSEV UK were asked to invite their friends to participate in this survey.\n",
    "\n",
    "The data file (responses.csv) consists of 1010 rows and 150 columns (139 integers and 11 categorical).\n",
    "\n",
    "dataset - responses.csv \n",
    "\n",
    "For convenience, the original variable names were shortened in the data file.\n",
    "\n",
    "The data contain missing values.\n",
    "\n",
    "The survey was presented to participants in both electronic and written form.\n",
    "\n",
    "The original questionnaire was in Slovak language and was later translated into English.\n",
    "\n",
    "All participants were of Slovakian nationality, aged between 15-30.\n",
    "\n",
    "For this Project we are considering 2 sections of data - Health Habits and Spending Habits\n",
    "\n",
    "Health Habits - I live a very healthy lifestyle. \n",
    "Here Strongly disagree 1-2-3-4-5 Strongly agree\n",
    "\n",
    "Spending Habits - I save all the money I can.: \n",
    "Strongly disagree 1-2-3-4-5 Strongly agree\n",
    "\n",
    "---------------------------------------------------------------------------------------------------------------\n",
    "\n",
    "The Agenda is to find whether Spending Habits and Healthy Lifestyle is related to Gender and Place or not.\n",
    "\n",
    "Steps :\n",
    "\n",
    "Load the data and extract the relevant columns.\n",
    "\n",
    "Hint : Relevant Columns will be Finances, Gender, Village-Town and Healthy Eating.\n",
    "\n",
    "Explore the data and understand how the data is distributed? Is there any outlier or missing value? And Share your insights.\n",
    "\n",
    "**Create Hypothesis on the following questions:**\n",
    "\n",
    "1)\tIs saving money (finances) gender dependant?\n",
    "\n",
    "2)\tIs there any differences in money saving (finances) between people from city or village?\n",
    "\n",
    "3)\tDo Women have a Healthier Lifestyle than Men?\n",
    "\n",
    "4)\tAre Village People Healthier than City People?\n",
    "\n",
    "Perform the required statistical tests to validate/reject the Hypothesis in above step. State your insights and conclusions."
   ]
  },
  {
   "cell_type": "code",
   "execution_count": 241,
   "metadata": {},
   "outputs": [],
   "source": [
    "import pandas as pd\n",
    "import numpy as np\n",
    "import matplotlib.pyplot as plt\n",
    "import seaborn as sns\n",
    "import scipy.stats as stats"
   ]
  },
  {
   "cell_type": "code",
   "execution_count": 104,
   "metadata": {},
   "outputs": [],
   "source": [
    "data = pd.read_csv('responses.csv',dtype = { \"Finances\" : \"category\",\n",
    "                                                \"Gender\" : \"category\", \n",
    "                                                \"Village - town\" : \"category\",\n",
    "                                                \"Healthy eating\" : \"category\"\n",
    "                                              },\n",
    "                                        usecols = {\"Finances\", \"Gender\", \"Village - town\", \"Healthy eating\"})\n",
    "                                "
   ]
  },
  {
   "cell_type": "code",
   "execution_count": 105,
   "metadata": {},
   "outputs": [],
   "source": [
    "data.rename(inplace=True, columns = {\"Healthy eating\": \"Lifestyle\", \n",
    "                     \"Village - town\":\"Location\"})"
   ]
  },
  {
   "cell_type": "code",
   "execution_count": 106,
   "metadata": {},
   "outputs": [
    {
     "data": {
      "text/html": [
       "<div>\n",
       "<style scoped>\n",
       "    .dataframe tbody tr th:only-of-type {\n",
       "        vertical-align: middle;\n",
       "    }\n",
       "\n",
       "    .dataframe tbody tr th {\n",
       "        vertical-align: top;\n",
       "    }\n",
       "\n",
       "    .dataframe thead th {\n",
       "        text-align: right;\n",
       "    }\n",
       "</style>\n",
       "<table border=\"1\" class=\"dataframe\">\n",
       "  <thead>\n",
       "    <tr style=\"text-align: right;\">\n",
       "      <th></th>\n",
       "      <th>Lifestyle</th>\n",
       "      <th>Finances</th>\n",
       "      <th>Gender</th>\n",
       "      <th>Location</th>\n",
       "    </tr>\n",
       "  </thead>\n",
       "  <tbody>\n",
       "    <tr>\n",
       "      <th>count</th>\n",
       "      <td>1007</td>\n",
       "      <td>1007</td>\n",
       "      <td>1004</td>\n",
       "      <td>1006</td>\n",
       "    </tr>\n",
       "    <tr>\n",
       "      <th>unique</th>\n",
       "      <td>5</td>\n",
       "      <td>5</td>\n",
       "      <td>2</td>\n",
       "      <td>2</td>\n",
       "    </tr>\n",
       "    <tr>\n",
       "      <th>top</th>\n",
       "      <td>3</td>\n",
       "      <td>3</td>\n",
       "      <td>female</td>\n",
       "      <td>city</td>\n",
       "    </tr>\n",
       "    <tr>\n",
       "      <th>freq</th>\n",
       "      <td>504</td>\n",
       "      <td>358</td>\n",
       "      <td>593</td>\n",
       "      <td>707</td>\n",
       "    </tr>\n",
       "  </tbody>\n",
       "</table>\n",
       "</div>"
      ],
      "text/plain": [
       "       Lifestyle Finances  Gender Location\n",
       "count       1007     1007    1004     1006\n",
       "unique         5        5       2        2\n",
       "top            3        3  female     city\n",
       "freq         504      358     593      707"
      ]
     },
     "execution_count": 106,
     "metadata": {},
     "output_type": "execute_result"
    }
   ],
   "source": [
    "data.describe()"
   ]
  },
  {
   "cell_type": "code",
   "execution_count": 107,
   "metadata": {},
   "outputs": [],
   "source": [
    "#missing value handling\n",
    "#replaced with most frequent value in the column.\n",
    "\n",
    "data = data.fillna(pd.Series(data = [\"3\", \"female\", \"city\", \"3\"], index = [\"Finances\", \"Gender\", \"Location\", \"Lifestyle\"]))\n",
    "data.Lifestyle = data.Lifestyle.astype('int32')\n",
    "data.Finances = data.Finances.astype('int32')"
   ]
  },
  {
   "cell_type": "code",
   "execution_count": 108,
   "metadata": {},
   "outputs": [
    {
     "data": {
      "text/html": [
       "<div>\n",
       "<style scoped>\n",
       "    .dataframe tbody tr th:only-of-type {\n",
       "        vertical-align: middle;\n",
       "    }\n",
       "\n",
       "    .dataframe tbody tr th {\n",
       "        vertical-align: top;\n",
       "    }\n",
       "\n",
       "    .dataframe thead th {\n",
       "        text-align: right;\n",
       "    }\n",
       "</style>\n",
       "<table border=\"1\" class=\"dataframe\">\n",
       "  <thead>\n",
       "    <tr style=\"text-align: right;\">\n",
       "      <th></th>\n",
       "      <th>Lifestyle</th>\n",
       "      <th>Finances</th>\n",
       "      <th>Gender</th>\n",
       "      <th>Location</th>\n",
       "    </tr>\n",
       "  </thead>\n",
       "  <tbody>\n",
       "    <tr>\n",
       "      <th>0</th>\n",
       "      <td>4</td>\n",
       "      <td>3</td>\n",
       "      <td>female</td>\n",
       "      <td>village</td>\n",
       "    </tr>\n",
       "    <tr>\n",
       "      <th>1</th>\n",
       "      <td>3</td>\n",
       "      <td>3</td>\n",
       "      <td>female</td>\n",
       "      <td>city</td>\n",
       "    </tr>\n",
       "    <tr>\n",
       "      <th>2</th>\n",
       "      <td>3</td>\n",
       "      <td>2</td>\n",
       "      <td>female</td>\n",
       "      <td>city</td>\n",
       "    </tr>\n",
       "    <tr>\n",
       "      <th>3</th>\n",
       "      <td>3</td>\n",
       "      <td>2</td>\n",
       "      <td>female</td>\n",
       "      <td>city</td>\n",
       "    </tr>\n",
       "    <tr>\n",
       "      <th>4</th>\n",
       "      <td>4</td>\n",
       "      <td>4</td>\n",
       "      <td>female</td>\n",
       "      <td>village</td>\n",
       "    </tr>\n",
       "  </tbody>\n",
       "</table>\n",
       "</div>"
      ],
      "text/plain": [
       "   Lifestyle  Finances  Gender Location\n",
       "0          4         3  female  village\n",
       "1          3         3  female     city\n",
       "2          3         2  female     city\n",
       "3          3         2  female     city\n",
       "4          4         4  female  village"
      ]
     },
     "execution_count": 108,
     "metadata": {},
     "output_type": "execute_result"
    }
   ],
   "source": [
    "data.head()"
   ]
  },
  {
   "cell_type": "code",
   "execution_count": 139,
   "metadata": {},
   "outputs": [
    {
     "data": {
      "text/html": [
       "<div>\n",
       "<style scoped>\n",
       "    .dataframe tbody tr th:only-of-type {\n",
       "        vertical-align: middle;\n",
       "    }\n",
       "\n",
       "    .dataframe tbody tr th {\n",
       "        vertical-align: top;\n",
       "    }\n",
       "\n",
       "    .dataframe thead th {\n",
       "        text-align: right;\n",
       "    }\n",
       "</style>\n",
       "<table border=\"1\" class=\"dataframe\">\n",
       "  <thead>\n",
       "    <tr style=\"text-align: right;\">\n",
       "      <th></th>\n",
       "      <th>Lifestyle</th>\n",
       "      <th>Finances</th>\n",
       "      <th>Gender</th>\n",
       "      <th>Location</th>\n",
       "    </tr>\n",
       "  </thead>\n",
       "  <tbody>\n",
       "    <tr>\n",
       "      <th>count</th>\n",
       "      <td>1010.000000</td>\n",
       "      <td>1010.000000</td>\n",
       "      <td>1010</td>\n",
       "      <td>1010</td>\n",
       "    </tr>\n",
       "    <tr>\n",
       "      <th>unique</th>\n",
       "      <td>NaN</td>\n",
       "      <td>NaN</td>\n",
       "      <td>2</td>\n",
       "      <td>2</td>\n",
       "    </tr>\n",
       "    <tr>\n",
       "      <th>top</th>\n",
       "      <td>NaN</td>\n",
       "      <td>NaN</td>\n",
       "      <td>female</td>\n",
       "      <td>city</td>\n",
       "    </tr>\n",
       "    <tr>\n",
       "      <th>freq</th>\n",
       "      <td>NaN</td>\n",
       "      <td>NaN</td>\n",
       "      <td>599</td>\n",
       "      <td>711</td>\n",
       "    </tr>\n",
       "    <tr>\n",
       "      <th>mean</th>\n",
       "      <td>3.031683</td>\n",
       "      <td>3.023762</td>\n",
       "      <td>NaN</td>\n",
       "      <td>NaN</td>\n",
       "    </tr>\n",
       "    <tr>\n",
       "      <th>std</th>\n",
       "      <td>0.935473</td>\n",
       "      <td>1.142663</td>\n",
       "      <td>NaN</td>\n",
       "      <td>NaN</td>\n",
       "    </tr>\n",
       "    <tr>\n",
       "      <th>min</th>\n",
       "      <td>1.000000</td>\n",
       "      <td>1.000000</td>\n",
       "      <td>NaN</td>\n",
       "      <td>NaN</td>\n",
       "    </tr>\n",
       "    <tr>\n",
       "      <th>25%</th>\n",
       "      <td>3.000000</td>\n",
       "      <td>2.000000</td>\n",
       "      <td>NaN</td>\n",
       "      <td>NaN</td>\n",
       "    </tr>\n",
       "    <tr>\n",
       "      <th>50%</th>\n",
       "      <td>3.000000</td>\n",
       "      <td>3.000000</td>\n",
       "      <td>NaN</td>\n",
       "      <td>NaN</td>\n",
       "    </tr>\n",
       "    <tr>\n",
       "      <th>75%</th>\n",
       "      <td>4.000000</td>\n",
       "      <td>4.000000</td>\n",
       "      <td>NaN</td>\n",
       "      <td>NaN</td>\n",
       "    </tr>\n",
       "    <tr>\n",
       "      <th>max</th>\n",
       "      <td>5.000000</td>\n",
       "      <td>5.000000</td>\n",
       "      <td>NaN</td>\n",
       "      <td>NaN</td>\n",
       "    </tr>\n",
       "  </tbody>\n",
       "</table>\n",
       "</div>"
      ],
      "text/plain": [
       "          Lifestyle     Finances  Gender Location\n",
       "count   1010.000000  1010.000000    1010     1010\n",
       "unique          NaN          NaN       2        2\n",
       "top             NaN          NaN  female     city\n",
       "freq            NaN          NaN     599      711\n",
       "mean       3.031683     3.023762     NaN      NaN\n",
       "std        0.935473     1.142663     NaN      NaN\n",
       "min        1.000000     1.000000     NaN      NaN\n",
       "25%        3.000000     2.000000     NaN      NaN\n",
       "50%        3.000000     3.000000     NaN      NaN\n",
       "75%        4.000000     4.000000     NaN      NaN\n",
       "max        5.000000     5.000000     NaN      NaN"
      ]
     },
     "execution_count": 139,
     "metadata": {},
     "output_type": "execute_result"
    }
   ],
   "source": [
    "data.describe(include='all')"
   ]
  },
  {
   "cell_type": "code",
   "execution_count": 7,
   "metadata": {},
   "outputs": [
    {
     "data": {
      "text/html": [
       "<div>\n",
       "<style scoped>\n",
       "    .dataframe tbody tr th:only-of-type {\n",
       "        vertical-align: middle;\n",
       "    }\n",
       "\n",
       "    .dataframe tbody tr th {\n",
       "        vertical-align: top;\n",
       "    }\n",
       "\n",
       "    .dataframe thead th {\n",
       "        text-align: right;\n",
       "    }\n",
       "</style>\n",
       "<table border=\"1\" class=\"dataframe\">\n",
       "  <thead>\n",
       "    <tr style=\"text-align: right;\">\n",
       "      <th></th>\n",
       "      <th>Lifestyle</th>\n",
       "      <th>Finances</th>\n",
       "      <th>Gender</th>\n",
       "      <th>Location</th>\n",
       "    </tr>\n",
       "  </thead>\n",
       "  <tbody>\n",
       "    <tr>\n",
       "      <th>count</th>\n",
       "      <td>1010</td>\n",
       "      <td>1010</td>\n",
       "      <td>1010</td>\n",
       "      <td>1010</td>\n",
       "    </tr>\n",
       "    <tr>\n",
       "      <th>unique</th>\n",
       "      <td>5</td>\n",
       "      <td>5</td>\n",
       "      <td>2</td>\n",
       "      <td>2</td>\n",
       "    </tr>\n",
       "    <tr>\n",
       "      <th>top</th>\n",
       "      <td>3</td>\n",
       "      <td>3</td>\n",
       "      <td>female</td>\n",
       "      <td>city</td>\n",
       "    </tr>\n",
       "    <tr>\n",
       "      <th>freq</th>\n",
       "      <td>507</td>\n",
       "      <td>361</td>\n",
       "      <td>599</td>\n",
       "      <td>711</td>\n",
       "    </tr>\n",
       "  </tbody>\n",
       "</table>\n",
       "</div>"
      ],
      "text/plain": [
       "       Lifestyle Finances  Gender Location\n",
       "count       1010     1010    1010     1010\n",
       "unique         5        5       2        2\n",
       "top            3        3  female     city\n",
       "freq         507      361     599      711"
      ]
     },
     "execution_count": 7,
     "metadata": {},
     "output_type": "execute_result"
    }
   ],
   "source": [
    "responses.describe(include='all')"
   ]
  },
  {
   "cell_type": "code",
   "execution_count": 297,
   "metadata": {},
   "outputs": [
    {
     "data": {
      "text/html": [
       "<div>\n",
       "<style scoped>\n",
       "    .dataframe tbody tr th:only-of-type {\n",
       "        vertical-align: middle;\n",
       "    }\n",
       "\n",
       "    .dataframe tbody tr th {\n",
       "        vertical-align: top;\n",
       "    }\n",
       "\n",
       "    .dataframe thead th {\n",
       "        text-align: right;\n",
       "    }\n",
       "</style>\n",
       "<table border=\"1\" class=\"dataframe\">\n",
       "  <thead>\n",
       "    <tr style=\"text-align: right;\">\n",
       "      <th></th>\n",
       "      <th>Lifestyle</th>\n",
       "      <th>Finances</th>\n",
       "    </tr>\n",
       "  </thead>\n",
       "  <tbody>\n",
       "    <tr>\n",
       "      <th>count</th>\n",
       "      <td>177.000000</td>\n",
       "      <td>177.000000</td>\n",
       "    </tr>\n",
       "    <tr>\n",
       "      <th>mean</th>\n",
       "      <td>3.033898</td>\n",
       "      <td>3.209040</td>\n",
       "    </tr>\n",
       "    <tr>\n",
       "      <th>std</th>\n",
       "      <td>0.852125</td>\n",
       "      <td>1.232296</td>\n",
       "    </tr>\n",
       "    <tr>\n",
       "      <th>min</th>\n",
       "      <td>1.000000</td>\n",
       "      <td>1.000000</td>\n",
       "    </tr>\n",
       "    <tr>\n",
       "      <th>25%</th>\n",
       "      <td>3.000000</td>\n",
       "      <td>3.000000</td>\n",
       "    </tr>\n",
       "    <tr>\n",
       "      <th>50%</th>\n",
       "      <td>3.000000</td>\n",
       "      <td>3.000000</td>\n",
       "    </tr>\n",
       "    <tr>\n",
       "      <th>75%</th>\n",
       "      <td>3.000000</td>\n",
       "      <td>4.000000</td>\n",
       "    </tr>\n",
       "    <tr>\n",
       "      <th>max</th>\n",
       "      <td>5.000000</td>\n",
       "      <td>5.000000</td>\n",
       "    </tr>\n",
       "  </tbody>\n",
       "</table>\n",
       "</div>"
      ],
      "text/plain": [
       "        Lifestyle    Finances\n",
       "count  177.000000  177.000000\n",
       "mean     3.033898    3.209040\n",
       "std      0.852125    1.232296\n",
       "min      1.000000    1.000000\n",
       "25%      3.000000    3.000000\n",
       "50%      3.000000    3.000000\n",
       "75%      3.000000    4.000000\n",
       "max      5.000000    5.000000"
      ]
     },
     "execution_count": 297,
     "metadata": {},
     "output_type": "execute_result"
    }
   ],
   "source": [
    "female = data[(data.Location == 'village') & (data.Gender == 'female') ]\n",
    "female.describe()\n"
   ]
  },
  {
   "cell_type": "code",
   "execution_count": 298,
   "metadata": {},
   "outputs": [
    {
     "data": {
      "image/png": "[encoded data removed]",
      "text/plain": [
       "<Figure size 432x288 with 1 Axes>"
      ]
     },
     "metadata": {
      "needs_background": "light"
     },
     "output_type": "display_data"
    },
    {
     "data": {
      "image/png": "[encoded data removed]",
      "text/plain": [
       "<Figure size 432x288 with 1 Axes>"
      ]
     },
     "metadata": {
      "needs_background": "light"
     },
     "output_type": "display_data"
    },
    {
     "data": {
      "image/png": "[encoded data removed]",
      "text/plain": [
       "<Figure size 432x288 with 1 Axes>"
      ]
     },
     "metadata": {
      "needs_background": "light"
     },
     "output_type": "display_data"
    },
    {
     "data": {
      "image/png": "[encoded data removed]",
      "text/plain": [
       "<Figure size 432x288 with 1 Axes>"
      ]
     },
     "metadata": {
      "needs_background": "light"
     },
     "output_type": "display_data"
    }
   ],
   "source": [
    "sns.boxplot(x=\"Gender\", y=\"Lifestyle\",\n",
    "            hue=\"Gender\", palette=\"muted\",\n",
    "            data=data, )\n",
    "plt.title(\"Gender based Heathly lifestyle\")\n",
    "plt.show()\n",
    "\n",
    "sns.boxplot(x=\"Location\", y=\"Lifestyle\",\n",
    "            hue=\"Location\", palette=\"muted\",\n",
    "            data=data)\n",
    "plt.title(\"Location based Heathly lifestyle\")\n",
    "plt.show()\n",
    "\n",
    "sns.boxplot(x=\"Location\", y=\"Lifestyle\",\n",
    "            hue=\"Gender\", palette=\"muted\",\n",
    "            data=data, width = 0.5)\n",
    "plt.title(\"Location based Heathly lifestyle, Gender-wise\")\n",
    "plt.show()\n",
    "\n",
    "sns.countplot(y=\"Lifestyle\", palette=\"muted\",\n",
    "            data=village_female)\n",
    "plt.title(\"Village women - Heathly lifestyle\")\n",
    "plt.show()\n",
    "\n"
   ]
  },
  {
   "cell_type": "code",
   "execution_count": 224,
   "metadata": {},
   "outputs": [
    {
     "data": {
      "image/png": "[encoded data removed]",
      "text/plain": [
       "<Figure size 432x288 with 1 Axes>"
      ]
     },
     "metadata": {
      "needs_background": "light"
     },
     "output_type": "display_data"
    },
    {
     "data": {
      "image/png": "[encoded data removed]",
      "text/plain": [
       "<Figure size 432x288 with 1 Axes>"
      ]
     },
     "metadata": {
      "needs_background": "light"
     },
     "output_type": "display_data"
    },
    {
     "data": {
      "image/png": "[encoded data removed]",
      "text/plain": [
       "<Figure size 432x288 with 1 Axes>"
      ]
     },
     "metadata": {
      "needs_background": "light"
     },
     "output_type": "display_data"
    },
    {
     "data": {
      "image/png": "[encoded data removed]",
      "text/plain": [
       "<Figure size 432x288 with 1 Axes>"
      ]
     },
     "metadata": {
      "needs_background": "light"
     },
     "output_type": "display_data"
    }
   ],
   "source": [
    "sns.boxplot(x=\"Gender\", y=\"Finances\",\n",
    "            hue=\"Gender\", palette=\"muted\",\n",
    "            data=data, )\n",
    "plt.title(\"Gender based Finances\")\n",
    "plt.show()\n",
    "\n",
    "sns.boxplot(x=\"Location\", y=\"Finances\",\n",
    "            hue=\"Location\", palette=\"muted\",\n",
    "            data=data)\n",
    "plt.title(\"Location based Finances\")\n",
    "plt.show()\n",
    "\n",
    "sns.boxplot(x=\"Location\", y=\"Finances\",\n",
    "            hue=\"Gender\", palette=\"muted\",\n",
    "            data=data, width = 0.5)\n",
    "plt.title(\"Location based Finances, Gender-wise\")\n",
    "plt.show()\n",
    "\n",
    "sns.countplot(y=\"Finances\", palette=\"muted\",\n",
    "            data=village_female)\n",
    "plt.title(\"Village women - Finances\")\n",
    "plt.show()"
   ]
  },
  {
   "cell_type": "markdown",
   "metadata": {},
   "source": [
    "### 1)\tIs saving money (finances) gender dependant?"
   ]
  },
  {
   "cell_type": "code",
   "execution_count": 335,
   "metadata": {},
   "outputs": [
    {
     "name": "stdout",
     "output_type": "stream",
     "text": [
      "\n",
      "Degree of freedom :  4\n",
      "p-value :  0.25518454225298753\n",
      "chisquare statistics :  5.328890527727397\n",
      "Critical Value =  9.487729036781158\n",
      "\n",
      "\n",
      "Observed Values:\n",
      "\n",
      "Gender    female  male\n",
      "Finances              \n",
      "1             65    60\n",
      "2             98    76\n",
      "3            223   138\n",
      "4            150   102\n",
      "5             63    35\n",
      "\n",
      "\n",
      "Expected Values:\n",
      "\n",
      "       Female        Male\n",
      "1   74.133663   50.866337\n",
      "2  103.194059   70.805941\n",
      "3  214.098020  146.901980\n",
      "4  149.453465  102.546535\n",
      "5   58.120792   39.879208\n",
      "\n",
      "Should we reject H0? :  No\n",
      "\n",
      "This means that saving money is not gender dependant\n"
     ]
    }
   ],
   "source": [
    "#H0 = \"Saving money is not gender dependant\"\n",
    "#H1 = \"Saving money is gender dependant\"\n",
    "\n",
    "gen_fin = pd.crosstab(data[\"Finances\"], data[\"Gender\"])\n",
    "alpha = 0.05\n",
    "\n",
    "chi2_stats, p_value, df, expected = stats.chi2_contingency(gen_fin,correction=False)\n",
    "print(\"\\nDegree of freedom : \" , df)\n",
    "print(\"p-value : \", p_value)\n",
    "crit_value = stats.chi2.isf(q = alpha, df = df)\n",
    "print(\"chisquare statistics : \", chi2_stats)\n",
    "print(\"Critical Value = \", crit_value)\n",
    "print(\"\\n\")\n",
    "print('Observed Values:\\n')\n",
    "print(pd.crosstab(data[\"Finances\"], data[\"Gender\"]))\n",
    "print('\\n\\nExpected Values:\\n')\n",
    "print(pd.DataFrame({'Female':expected[:,0],'Male':expected[:,1]}, index=[1,2,3,4,5], ))\n",
    "reject_ho = chi2_stats > crit_value\n",
    "print(\"\\nShould we reject H0? : \", np.where(reject_ho, \"Yes\", \"No\"))\n",
    "print(\"\\nThis means that saving money is not gender dependant\")"
   ]
  },
  {
   "cell_type": "markdown",
   "metadata": {},
   "source": [
    "#### 2)\tIs there any differences in money saving (finances) between people from city or village?"
   ]
  },
  {
   "cell_type": "code",
   "execution_count": 336,
   "metadata": {},
   "outputs": [
    {
     "name": "stdout",
     "output_type": "stream",
     "text": [
      "\n",
      "Degree of freedom :  4\n",
      "p-value :  0.009745541835991274\n",
      "chisquare statistics :  13.336002693956441\n",
      "Critical Value =  9.487729036781158\n",
      "\n",
      "\n",
      "Observed Values:\n",
      "\n",
      "Location  city  village\n",
      "Finances               \n",
      "1           88       37\n",
      "2          133       41\n",
      "3          265       96\n",
      "4          168       84\n",
      "5           57       41\n",
      "\n",
      "\n",
      "Expected Values:\n",
      "\n",
      "         city     village\n",
      "1   87.995050   37.004950\n",
      "2  122.489109   51.510891\n",
      "3  254.129703  106.870297\n",
      "4  177.398020   74.601980\n",
      "5   68.988119   29.011881\n",
      "\n",
      "Should we reject H0? :  Yes\n",
      "\n",
      "This means that there is significant difference in money saving(finances) between people from city or village\n"
     ]
    }
   ],
   "source": [
    "# H0: There is no difference in money saving(finances) between people from city or village\n",
    "# H1: There is significant difference in money saving(finances) between people from city or village\n",
    "\n",
    "alpha = 0.05\n",
    "observed=pd.crosstab(data[\"Finances\"], data[\"Location\"])\n",
    "\n",
    "chi2_stats, p_value, df, expected = stats.chi2_contingency(observed,correction=False)\n",
    "print(\"\\nDegree of freedom : \" , df)\n",
    "print(\"p-value : \", p_value)\n",
    "crit_value = stats.chi2.isf(q = alpha, df = df)\n",
    "print(\"chisquare statistics : \", chi2_stats)\n",
    "print(\"Critical Value = \", crit_value)\n",
    "print(\"\\n\")\n",
    "print('Observed Values:\\n')\n",
    "print(observed)\n",
    "print('\\n\\nExpected Values:\\n')\n",
    "print(pd.DataFrame({'city':expected[:,0],'village':expected[:,1]}, index=[1,2,3,4,5], ))\n",
    "reject_ho = chi2_stats > crit_value\n",
    "print(\"\\nShould we reject H0? : \", np.where(reject_ho, \"Yes\", \"No\"))\n",
    "print(\"\\nThis means that there is significant difference in money saving(finances) between people from city or village\")\n"
   ]
  },
  {
   "cell_type": "markdown",
   "metadata": {},
   "source": [
    "#### 3)\tDo Women have a Healthier Lifestyle than Men?"
   ]
  },
  {
   "cell_type": "code",
   "execution_count": 340,
   "metadata": {},
   "outputs": [
    {
     "name": "stdout",
     "output_type": "stream",
     "text": [
      "\n",
      "Degree of freedom :  4\n",
      "p-value :  4.253772381630619e-05\n",
      "chisquare statistics :  25.36227460265698\n",
      "Critical Value =  9.487729036781158\n",
      "\n",
      "\n",
      "Observed Values:\n",
      "\n",
      "Gender     female  male\n",
      "Lifestyle              \n",
      "1              36    45\n",
      "2              67    70\n",
      "3             329   178\n",
      "4             147    92\n",
      "5              20    26\n",
      "\n",
      "\n",
      "Expected Values:\n",
      "\n",
      "       female        male\n",
      "1   48.038614   32.961386\n",
      "2   81.250495   55.749505\n",
      "3  300.686139  206.313861\n",
      "4  141.743564   97.256436\n",
      "5   27.281188   18.718812\n",
      "\n",
      "Should we reject H0? :  Yes\n",
      "\n",
      "This means that there is significant difference in lifestyle between female and male\n",
      "\n",
      "=====================================================================\n",
      "\n",
      "Degree of freedom :  1008\n",
      "p-value :  0.04685965412880698\n",
      "t-statistics :  1.990009744180731\n",
      "Critical Value =  1.64636670140285\n",
      "\n",
      "\n",
      "\n",
      "Should we reject H0? :  Yes\n",
      "\n",
      "This means that Female have significantly healthier lifestyle than male\n"
     ]
    }
   ],
   "source": [
    "# H0: There is no difference in lifestyle between female and male\n",
    "# H1: There is significant difference in lifestyle between female and male\n",
    "\n",
    "alpha = 0.05\n",
    "observed=pd.crosstab(data[\"Lifestyle\"], data[\"Gender\"])\n",
    "\n",
    "chi2_stats, p_value, df, expected = stats.chi2_contingency(observed,correction=False)\n",
    "print(\"\\nDegree of freedom : \" , df)\n",
    "print(\"p-value : \", p_value)\n",
    "crit_value = stats.chi2.isf(q = alpha, df = df)\n",
    "print(\"chisquare statistics : \", chi2_stats)\n",
    "print(\"Critical Value = \", crit_value)\n",
    "print(\"\\n\")\n",
    "print('Observed Values:\\n')\n",
    "print(observed)\n",
    "print('\\n\\nExpected Values:\\n')\n",
    "print(pd.DataFrame({'female':expected[:,0],'male':expected[:,1]}, index=[1,2,3,4,5], ))\n",
    "reject_ho = chi2_stats > crit_value\n",
    "print(\"\\nShould we reject H0? : \", np.where(reject_ho, \"Yes\", \"No\"))\n",
    "print(\"\\nThis means that there is significant difference in lifestyle between female and male\")\n",
    "print(\"\\n=====================================================================\\n\")\n",
    "\n",
    "#===============================================================================================\n",
    "\n",
    "#H0: Female doesn't have healthier lifestyle than male (xbar1 <= xbar2)\n",
    "#H1: Female have significantly healthier lifestyle than male (xbar1 > xbar2)\n",
    "\n",
    "female = data[\"Lifestyle\"][(data.Gender==\"female\")]\n",
    "male = data[\"Lifestyle\"][(data.Gender==\"male\")]\n",
    "\n",
    "t_stats, p_value = stats.ttest_ind(female, male)\n",
    "df = len(female) + len(male) - 2\n",
    "print(\"Degree of freedom : \", df)\n",
    "print(\"p-value : \", p_value)\n",
    "crit_value = stats.t.isf(q = alpha, df = df)\n",
    "print(\"t-statistics : \", t_stats)\n",
    "print(\"Critical Value = \", crit_value)\n",
    "print(\"\\n\")\n",
    "reject_ho = t_stats > crit_value\n",
    "print(\"\\nShould we reject H0? : \", np.where(reject_ho, \"Yes\", \"No\"))\n",
    "print(\"\\nThis means that Female have significantly healthier lifestyle than male\")"
   ]
  },
  {
   "cell_type": "markdown",
   "metadata": {},
   "source": [
    "#### 4)Are Village People Healthier than City People?"
   ]
  },
  {
   "cell_type": "code",
   "execution_count": 343,
   "metadata": {},
   "outputs": [
    {
     "name": "stdout",
     "output_type": "stream",
     "text": [
      "\n",
      "Degree of freedom :  4\n",
      "p-value :  0.3907028106705499\n",
      "chisquare statistics :  4.1147196478012065\n",
      "Critical Value =  9.487729036781158\n",
      "\n",
      "\n",
      "Observed Values:\n",
      "\n",
      "Location   city  village\n",
      "Lifestyle               \n",
      "1            58       23\n",
      "2            88       49\n",
      "3           356      151\n",
      "4           177       62\n",
      "5            32       14\n",
      "\n",
      "\n",
      "Expected Values:\n",
      "\n",
      "         city     village\n",
      "1   57.020792   23.979208\n",
      "2   96.442574   40.557426\n",
      "3  356.907921  150.092079\n",
      "4  168.246535   70.753465\n",
      "5   32.382178   13.617822\n",
      "\n",
      "Should we reject H0? :  No\n",
      "\n",
      "This means that there is no difference in lifestyle between city and village people\n"
     ]
    }
   ],
   "source": [
    "# H0: There is no difference in lifestyle between city and village people\n",
    "# H1: There is significant difference in lifestyle between city and village people\n",
    "\n",
    "alpha = 0.05\n",
    "observed=pd.crosstab(data[\"Lifestyle\"], data[\"Location\"])\n",
    "\n",
    "chi2_stats, p_value, df, expected = stats.chi2_contingency(observed,correction=False)\n",
    "print(\"\\nDegree of freedom : \" , df)\n",
    "print(\"p-value : \", p_value)\n",
    "crit_value = stats.chi2.isf(q = alpha, df = df)\n",
    "print(\"chisquare statistics : \", chi2_stats)\n",
    "print(\"Critical Value = \", crit_value)\n",
    "print(\"\\n\")\n",
    "print('Observed Values:\\n')\n",
    "print(observed)\n",
    "print('\\n\\nExpected Values:\\n')\n",
    "print(pd.DataFrame({'city':expected[:,0],'village':expected[:,1]}, index=[1,2,3,4,5], ))\n",
    "reject_ho = chi2_stats > crit_value\n",
    "print(\"\\nShould we reject H0? : \", np.where(reject_ho, \"Yes\", \"No\"))\n",
    "print(\"\\nThis means that there is no difference in lifestyle between city and village people\")"
   ]
  }
 ],
 "metadata": {
  "kernelspec": {
   "display_name": "Python 3",
   "language": "python",
   "name": "python3"
  },
  "language_info": {
   "codemirror_mode": {
    "name": "ipython",
    "version": 3
   },
   "file_extension": ".py",
   "mimetype": "text/x-python",
   "name": "python",
   "nbconvert_exporter": "python",
   "pygments_lexer": "ipython3",
   "version": "3.7.1"
  }
 },
 "nbformat": 4,
 "nbformat_minor": 2
}
