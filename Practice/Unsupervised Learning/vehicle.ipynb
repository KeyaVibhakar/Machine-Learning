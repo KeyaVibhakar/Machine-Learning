{
 "cells": [
  {
   "cell_type": "markdown",
   "metadata": {},
   "source": [
    "### The data set has information about features of silhouette extracted from the images of different cars\n",
    "\n",
    "Four \"Corgie\" model vehicles were used for the experiment: a double decker bus, Cheverolet van, Saab 9000 and an Opel Manta 400 cars. This particular combination of vehicles was chosen with the expectation that the bus, van and either one of the cars would be readily distinguishable, but it would be more difficult to distinguish between the cars.\n",
    "\n"
   ]
  },
  {
   "cell_type": "code",
   "execution_count": 111,
   "metadata": {},
   "outputs": [],
   "source": [
    "import pandas as pd\n",
    "import numpy as np\n",
    "\n",
    "import matplotlib.pyplot as plt \n",
    "import seaborn as sns\n",
    "import scipy.stats as st\n",
    "\n",
    "from sklearn.cluster import KMeans\n",
    "from scipy.spatial.distance import cdist\n",
    "from scipy.cluster.hierarchy import linkage, dendrogram, fcluster"
   ]
  },
  {
   "cell_type": "markdown",
   "metadata": {},
   "source": [
    "### 1. Read the dataset using function .dropna() - to avoid dealing with NAs as of now"
   ]
  },
  {
   "cell_type": "code",
   "execution_count": 41,
   "metadata": {},
   "outputs": [
    {
     "data": {
      "text/plain": [
       "(846, 19)"
      ]
     },
     "execution_count": 41,
     "metadata": {},
     "output_type": "execute_result"
    }
   ],
   "source": [
    "data = pd.read_csv(\"vehicle.csv\", )\n",
    "data.shape"
   ]
  },
  {
   "cell_type": "code",
   "execution_count": 42,
   "metadata": {},
   "outputs": [
    {
     "data": {
      "text/plain": [
       "(813, 19)"
      ]
     },
     "execution_count": 42,
     "metadata": {},
     "output_type": "execute_result"
    }
   ],
   "source": [
    "data = data.dropna()\n",
    "data.shape"
   ]
  },
  {
   "cell_type": "code",
   "execution_count": 43,
   "metadata": {},
   "outputs": [
    {
     "name": "stdout",
     "output_type": "stream",
     "text": [
      "<class 'pandas.core.frame.DataFrame'>\n",
      "Int64Index: 813 entries, 0 to 845\n",
      "Data columns (total 19 columns):\n",
      "compactness                    813 non-null int64\n",
      "circularity                    813 non-null float64\n",
      "distance_circularity           813 non-null float64\n",
      "radius_ratio                   813 non-null float64\n",
      "pr.axis_aspect_ratio           813 non-null float64\n",
      "max.length_aspect_ratio        813 non-null int64\n",
      "scatter_ratio                  813 non-null float64\n",
      "elongatedness                  813 non-null float64\n",
      "pr.axis_rectangularity         813 non-null float64\n",
      "max.length_rectangularity      813 non-null int64\n",
      "scaled_variance                813 non-null float64\n",
      "scaled_variance.1              813 non-null float64\n",
      "scaled_radius_of_gyration      813 non-null float64\n",
      "scaled_radius_of_gyration.1    813 non-null float64\n",
      "skewness_about                 813 non-null float64\n",
      "skewness_about.1               813 non-null float64\n",
      "skewness_about.2               813 non-null float64\n",
      "hollows_ratio                  813 non-null int64\n",
      "class                          813 non-null object\n",
      "dtypes: float64(14), int64(4), object(1)\n",
      "memory usage: 127.0+ KB\n"
     ]
    }
   ],
   "source": [
    "data.info()"
   ]
  },
  {
   "cell_type": "code",
   "execution_count": 44,
   "metadata": {},
   "outputs": [
    {
     "data": {
      "text/html": [
       "<div>\n",
       "<style scoped>\n",
       "    .dataframe tbody tr th:only-of-type {\n",
       "        vertical-align: middle;\n",
       "    }\n",
       "\n",
       "    .dataframe tbody tr th {\n",
       "        vertical-align: top;\n",
       "    }\n",
       "\n",
       "    .dataframe thead th {\n",
       "        text-align: right;\n",
       "    }\n",
       "</style>\n",
       "<table border=\"1\" class=\"dataframe\">\n",
       "  <thead>\n",
       "    <tr style=\"text-align: right;\">\n",
       "      <th></th>\n",
       "      <th>compactness</th>\n",
       "      <th>circularity</th>\n",
       "      <th>distance_circularity</th>\n",
       "      <th>radius_ratio</th>\n",
       "      <th>pr.axis_aspect_ratio</th>\n",
       "      <th>max.length_aspect_ratio</th>\n",
       "      <th>scatter_ratio</th>\n",
       "      <th>elongatedness</th>\n",
       "      <th>pr.axis_rectangularity</th>\n",
       "      <th>max.length_rectangularity</th>\n",
       "      <th>scaled_variance</th>\n",
       "      <th>scaled_variance.1</th>\n",
       "      <th>scaled_radius_of_gyration</th>\n",
       "      <th>scaled_radius_of_gyration.1</th>\n",
       "      <th>skewness_about</th>\n",
       "      <th>skewness_about.1</th>\n",
       "      <th>skewness_about.2</th>\n",
       "      <th>hollows_ratio</th>\n",
       "      <th>class</th>\n",
       "    </tr>\n",
       "  </thead>\n",
       "  <tbody>\n",
       "    <tr>\n",
       "      <th>0</th>\n",
       "      <td>95</td>\n",
       "      <td>48.0</td>\n",
       "      <td>83.0</td>\n",
       "      <td>178.0</td>\n",
       "      <td>72.0</td>\n",
       "      <td>10</td>\n",
       "      <td>162.0</td>\n",
       "      <td>42.0</td>\n",
       "      <td>20.0</td>\n",
       "      <td>159</td>\n",
       "      <td>176.0</td>\n",
       "      <td>379.0</td>\n",
       "      <td>184.0</td>\n",
       "      <td>70.0</td>\n",
       "      <td>6.0</td>\n",
       "      <td>16.0</td>\n",
       "      <td>187.0</td>\n",
       "      <td>197</td>\n",
       "      <td>van</td>\n",
       "    </tr>\n",
       "    <tr>\n",
       "      <th>1</th>\n",
       "      <td>91</td>\n",
       "      <td>41.0</td>\n",
       "      <td>84.0</td>\n",
       "      <td>141.0</td>\n",
       "      <td>57.0</td>\n",
       "      <td>9</td>\n",
       "      <td>149.0</td>\n",
       "      <td>45.0</td>\n",
       "      <td>19.0</td>\n",
       "      <td>143</td>\n",
       "      <td>170.0</td>\n",
       "      <td>330.0</td>\n",
       "      <td>158.0</td>\n",
       "      <td>72.0</td>\n",
       "      <td>9.0</td>\n",
       "      <td>14.0</td>\n",
       "      <td>189.0</td>\n",
       "      <td>199</td>\n",
       "      <td>van</td>\n",
       "    </tr>\n",
       "    <tr>\n",
       "      <th>2</th>\n",
       "      <td>104</td>\n",
       "      <td>50.0</td>\n",
       "      <td>106.0</td>\n",
       "      <td>209.0</td>\n",
       "      <td>66.0</td>\n",
       "      <td>10</td>\n",
       "      <td>207.0</td>\n",
       "      <td>32.0</td>\n",
       "      <td>23.0</td>\n",
       "      <td>158</td>\n",
       "      <td>223.0</td>\n",
       "      <td>635.0</td>\n",
       "      <td>220.0</td>\n",
       "      <td>73.0</td>\n",
       "      <td>14.0</td>\n",
       "      <td>9.0</td>\n",
       "      <td>188.0</td>\n",
       "      <td>196</td>\n",
       "      <td>car</td>\n",
       "    </tr>\n",
       "    <tr>\n",
       "      <th>3</th>\n",
       "      <td>93</td>\n",
       "      <td>41.0</td>\n",
       "      <td>82.0</td>\n",
       "      <td>159.0</td>\n",
       "      <td>63.0</td>\n",
       "      <td>9</td>\n",
       "      <td>144.0</td>\n",
       "      <td>46.0</td>\n",
       "      <td>19.0</td>\n",
       "      <td>143</td>\n",
       "      <td>160.0</td>\n",
       "      <td>309.0</td>\n",
       "      <td>127.0</td>\n",
       "      <td>63.0</td>\n",
       "      <td>6.0</td>\n",
       "      <td>10.0</td>\n",
       "      <td>199.0</td>\n",
       "      <td>207</td>\n",
       "      <td>van</td>\n",
       "    </tr>\n",
       "    <tr>\n",
       "      <th>4</th>\n",
       "      <td>85</td>\n",
       "      <td>44.0</td>\n",
       "      <td>70.0</td>\n",
       "      <td>205.0</td>\n",
       "      <td>103.0</td>\n",
       "      <td>52</td>\n",
       "      <td>149.0</td>\n",
       "      <td>45.0</td>\n",
       "      <td>19.0</td>\n",
       "      <td>144</td>\n",
       "      <td>241.0</td>\n",
       "      <td>325.0</td>\n",
       "      <td>188.0</td>\n",
       "      <td>127.0</td>\n",
       "      <td>9.0</td>\n",
       "      <td>11.0</td>\n",
       "      <td>180.0</td>\n",
       "      <td>183</td>\n",
       "      <td>bus</td>\n",
       "    </tr>\n",
       "  </tbody>\n",
       "</table>\n",
       "</div>"
      ],
      "text/plain": [
       "   compactness  circularity  distance_circularity  radius_ratio  \\\n",
       "0           95         48.0                  83.0         178.0   \n",
       "1           91         41.0                  84.0         141.0   \n",
       "2          104         50.0                 106.0         209.0   \n",
       "3           93         41.0                  82.0         159.0   \n",
       "4           85         44.0                  70.0         205.0   \n",
       "\n",
       "   pr.axis_aspect_ratio  max.length_aspect_ratio  scatter_ratio  \\\n",
       "0                  72.0                       10          162.0   \n",
       "1                  57.0                        9          149.0   \n",
       "2                  66.0                       10          207.0   \n",
       "3                  63.0                        9          144.0   \n",
       "4                 103.0                       52          149.0   \n",
       "\n",
       "   elongatedness  pr.axis_rectangularity  max.length_rectangularity  \\\n",
       "0           42.0                    20.0                        159   \n",
       "1           45.0                    19.0                        143   \n",
       "2           32.0                    23.0                        158   \n",
       "3           46.0                    19.0                        143   \n",
       "4           45.0                    19.0                        144   \n",
       "\n",
       "   scaled_variance  scaled_variance.1  scaled_radius_of_gyration  \\\n",
       "0            176.0              379.0                      184.0   \n",
       "1            170.0              330.0                      158.0   \n",
       "2            223.0              635.0                      220.0   \n",
       "3            160.0              309.0                      127.0   \n",
       "4            241.0              325.0                      188.0   \n",
       "\n",
       "   scaled_radius_of_gyration.1  skewness_about  skewness_about.1  \\\n",
       "0                         70.0             6.0              16.0   \n",
       "1                         72.0             9.0              14.0   \n",
       "2                         73.0            14.0               9.0   \n",
       "3                         63.0             6.0              10.0   \n",
       "4                        127.0             9.0              11.0   \n",
       "\n",
       "   skewness_about.2  hollows_ratio class  \n",
       "0             187.0            197   van  \n",
       "1             189.0            199   van  \n",
       "2             188.0            196   car  \n",
       "3             199.0            207   van  \n",
       "4             180.0            183   bus  "
      ]
     },
     "execution_count": 44,
     "metadata": {},
     "output_type": "execute_result"
    }
   ],
   "source": [
    "data.head()"
   ]
  },
  {
   "cell_type": "code",
   "execution_count": 45,
   "metadata": {},
   "outputs": [
    {
     "data": {
      "text/html": [
       "<div>\n",
       "<style scoped>\n",
       "    .dataframe tbody tr th:only-of-type {\n",
       "        vertical-align: middle;\n",
       "    }\n",
       "\n",
       "    .dataframe tbody tr th {\n",
       "        vertical-align: top;\n",
       "    }\n",
       "\n",
       "    .dataframe thead th {\n",
       "        text-align: right;\n",
       "    }\n",
       "</style>\n",
       "<table border=\"1\" class=\"dataframe\">\n",
       "  <thead>\n",
       "    <tr style=\"text-align: right;\">\n",
       "      <th></th>\n",
       "      <th>count</th>\n",
       "      <th>mean</th>\n",
       "      <th>std</th>\n",
       "      <th>min</th>\n",
       "      <th>25%</th>\n",
       "      <th>50%</th>\n",
       "      <th>75%</th>\n",
       "      <th>max</th>\n",
       "    </tr>\n",
       "  </thead>\n",
       "  <tbody>\n",
       "    <tr>\n",
       "      <th>compactness</th>\n",
       "      <td>813.0</td>\n",
       "      <td>93.656827</td>\n",
       "      <td>8.233751</td>\n",
       "      <td>73.0</td>\n",
       "      <td>87.0</td>\n",
       "      <td>93.0</td>\n",
       "      <td>100.0</td>\n",
       "      <td>119.0</td>\n",
       "    </tr>\n",
       "    <tr>\n",
       "      <th>circularity</th>\n",
       "      <td>813.0</td>\n",
       "      <td>44.803198</td>\n",
       "      <td>6.146659</td>\n",
       "      <td>33.0</td>\n",
       "      <td>40.0</td>\n",
       "      <td>44.0</td>\n",
       "      <td>49.0</td>\n",
       "      <td>59.0</td>\n",
       "    </tr>\n",
       "    <tr>\n",
       "      <th>distance_circularity</th>\n",
       "      <td>813.0</td>\n",
       "      <td>82.043050</td>\n",
       "      <td>15.783070</td>\n",
       "      <td>40.0</td>\n",
       "      <td>70.0</td>\n",
       "      <td>79.0</td>\n",
       "      <td>98.0</td>\n",
       "      <td>112.0</td>\n",
       "    </tr>\n",
       "    <tr>\n",
       "      <th>radius_ratio</th>\n",
       "      <td>813.0</td>\n",
       "      <td>169.098401</td>\n",
       "      <td>33.615402</td>\n",
       "      <td>104.0</td>\n",
       "      <td>141.0</td>\n",
       "      <td>167.0</td>\n",
       "      <td>195.0</td>\n",
       "      <td>333.0</td>\n",
       "    </tr>\n",
       "    <tr>\n",
       "      <th>pr.axis_aspect_ratio</th>\n",
       "      <td>813.0</td>\n",
       "      <td>61.774908</td>\n",
       "      <td>7.973000</td>\n",
       "      <td>47.0</td>\n",
       "      <td>57.0</td>\n",
       "      <td>61.0</td>\n",
       "      <td>65.0</td>\n",
       "      <td>138.0</td>\n",
       "    </tr>\n",
       "    <tr>\n",
       "      <th>max.length_aspect_ratio</th>\n",
       "      <td>813.0</td>\n",
       "      <td>8.599016</td>\n",
       "      <td>4.677174</td>\n",
       "      <td>2.0</td>\n",
       "      <td>7.0</td>\n",
       "      <td>8.0</td>\n",
       "      <td>10.0</td>\n",
       "      <td>55.0</td>\n",
       "    </tr>\n",
       "    <tr>\n",
       "      <th>scatter_ratio</th>\n",
       "      <td>813.0</td>\n",
       "      <td>168.563346</td>\n",
       "      <td>33.082186</td>\n",
       "      <td>112.0</td>\n",
       "      <td>146.0</td>\n",
       "      <td>157.0</td>\n",
       "      <td>198.0</td>\n",
       "      <td>265.0</td>\n",
       "    </tr>\n",
       "    <tr>\n",
       "      <th>elongatedness</th>\n",
       "      <td>813.0</td>\n",
       "      <td>40.988930</td>\n",
       "      <td>7.803380</td>\n",
       "      <td>26.0</td>\n",
       "      <td>33.0</td>\n",
       "      <td>43.0</td>\n",
       "      <td>46.0</td>\n",
       "      <td>61.0</td>\n",
       "    </tr>\n",
       "    <tr>\n",
       "      <th>pr.axis_rectangularity</th>\n",
       "      <td>813.0</td>\n",
       "      <td>20.558426</td>\n",
       "      <td>2.573184</td>\n",
       "      <td>17.0</td>\n",
       "      <td>19.0</td>\n",
       "      <td>20.0</td>\n",
       "      <td>23.0</td>\n",
       "      <td>29.0</td>\n",
       "    </tr>\n",
       "    <tr>\n",
       "      <th>max.length_rectangularity</th>\n",
       "      <td>813.0</td>\n",
       "      <td>147.891759</td>\n",
       "      <td>14.504648</td>\n",
       "      <td>118.0</td>\n",
       "      <td>137.0</td>\n",
       "      <td>146.0</td>\n",
       "      <td>159.0</td>\n",
       "      <td>188.0</td>\n",
       "    </tr>\n",
       "    <tr>\n",
       "      <th>scaled_variance</th>\n",
       "      <td>813.0</td>\n",
       "      <td>188.377614</td>\n",
       "      <td>31.165873</td>\n",
       "      <td>130.0</td>\n",
       "      <td>167.0</td>\n",
       "      <td>179.0</td>\n",
       "      <td>217.0</td>\n",
       "      <td>320.0</td>\n",
       "    </tr>\n",
       "    <tr>\n",
       "      <th>scaled_variance.1</th>\n",
       "      <td>813.0</td>\n",
       "      <td>438.382534</td>\n",
       "      <td>175.270368</td>\n",
       "      <td>184.0</td>\n",
       "      <td>318.0</td>\n",
       "      <td>364.0</td>\n",
       "      <td>586.0</td>\n",
       "      <td>1018.0</td>\n",
       "    </tr>\n",
       "    <tr>\n",
       "      <th>scaled_radius_of_gyration</th>\n",
       "      <td>813.0</td>\n",
       "      <td>174.252153</td>\n",
       "      <td>32.332161</td>\n",
       "      <td>109.0</td>\n",
       "      <td>149.0</td>\n",
       "      <td>173.0</td>\n",
       "      <td>198.0</td>\n",
       "      <td>268.0</td>\n",
       "    </tr>\n",
       "    <tr>\n",
       "      <th>scaled_radius_of_gyration.1</th>\n",
       "      <td>813.0</td>\n",
       "      <td>72.399754</td>\n",
       "      <td>7.475994</td>\n",
       "      <td>59.0</td>\n",
       "      <td>67.0</td>\n",
       "      <td>71.0</td>\n",
       "      <td>75.0</td>\n",
       "      <td>135.0</td>\n",
       "    </tr>\n",
       "    <tr>\n",
       "      <th>skewness_about</th>\n",
       "      <td>813.0</td>\n",
       "      <td>6.351784</td>\n",
       "      <td>4.921476</td>\n",
       "      <td>0.0</td>\n",
       "      <td>2.0</td>\n",
       "      <td>6.0</td>\n",
       "      <td>9.0</td>\n",
       "      <td>22.0</td>\n",
       "    </tr>\n",
       "    <tr>\n",
       "      <th>skewness_about.1</th>\n",
       "      <td>813.0</td>\n",
       "      <td>12.687577</td>\n",
       "      <td>8.926951</td>\n",
       "      <td>0.0</td>\n",
       "      <td>6.0</td>\n",
       "      <td>11.0</td>\n",
       "      <td>19.0</td>\n",
       "      <td>41.0</td>\n",
       "    </tr>\n",
       "    <tr>\n",
       "      <th>skewness_about.2</th>\n",
       "      <td>813.0</td>\n",
       "      <td>188.979090</td>\n",
       "      <td>6.153681</td>\n",
       "      <td>176.0</td>\n",
       "      <td>184.0</td>\n",
       "      <td>189.0</td>\n",
       "      <td>193.0</td>\n",
       "      <td>206.0</td>\n",
       "    </tr>\n",
       "    <tr>\n",
       "      <th>hollows_ratio</th>\n",
       "      <td>813.0</td>\n",
       "      <td>195.729397</td>\n",
       "      <td>7.398781</td>\n",
       "      <td>181.0</td>\n",
       "      <td>191.0</td>\n",
       "      <td>197.0</td>\n",
       "      <td>201.0</td>\n",
       "      <td>211.0</td>\n",
       "    </tr>\n",
       "  </tbody>\n",
       "</table>\n",
       "</div>"
      ],
      "text/plain": [
       "                             count        mean         std    min    25%  \\\n",
       "compactness                  813.0   93.656827    8.233751   73.0   87.0   \n",
       "circularity                  813.0   44.803198    6.146659   33.0   40.0   \n",
       "distance_circularity         813.0   82.043050   15.783070   40.0   70.0   \n",
       "radius_ratio                 813.0  169.098401   33.615402  104.0  141.0   \n",
       "pr.axis_aspect_ratio         813.0   61.774908    7.973000   47.0   57.0   \n",
       "max.length_aspect_ratio      813.0    8.599016    4.677174    2.0    7.0   \n",
       "scatter_ratio                813.0  168.563346   33.082186  112.0  146.0   \n",
       "elongatedness                813.0   40.988930    7.803380   26.0   33.0   \n",
       "pr.axis_rectangularity       813.0   20.558426    2.573184   17.0   19.0   \n",
       "max.length_rectangularity    813.0  147.891759   14.504648  118.0  137.0   \n",
       "scaled_variance              813.0  188.377614   31.165873  130.0  167.0   \n",
       "scaled_variance.1            813.0  438.382534  175.270368  184.0  318.0   \n",
       "scaled_radius_of_gyration    813.0  174.252153   32.332161  109.0  149.0   \n",
       "scaled_radius_of_gyration.1  813.0   72.399754    7.475994   59.0   67.0   \n",
       "skewness_about               813.0    6.351784    4.921476    0.0    2.0   \n",
       "skewness_about.1             813.0   12.687577    8.926951    0.0    6.0   \n",
       "skewness_about.2             813.0  188.979090    6.153681  176.0  184.0   \n",
       "hollows_ratio                813.0  195.729397    7.398781  181.0  191.0   \n",
       "\n",
       "                               50%    75%     max  \n",
       "compactness                   93.0  100.0   119.0  \n",
       "circularity                   44.0   49.0    59.0  \n",
       "distance_circularity          79.0   98.0   112.0  \n",
       "radius_ratio                 167.0  195.0   333.0  \n",
       "pr.axis_aspect_ratio          61.0   65.0   138.0  \n",
       "max.length_aspect_ratio        8.0   10.0    55.0  \n",
       "scatter_ratio                157.0  198.0   265.0  \n",
       "elongatedness                 43.0   46.0    61.0  \n",
       "pr.axis_rectangularity        20.0   23.0    29.0  \n",
       "max.length_rectangularity    146.0  159.0   188.0  \n",
       "scaled_variance              179.0  217.0   320.0  \n",
       "scaled_variance.1            364.0  586.0  1018.0  \n",
       "scaled_radius_of_gyration    173.0  198.0   268.0  \n",
       "scaled_radius_of_gyration.1   71.0   75.0   135.0  \n",
       "skewness_about                 6.0    9.0    22.0  \n",
       "skewness_about.1              11.0   19.0    41.0  \n",
       "skewness_about.2             189.0  193.0   206.0  \n",
       "hollows_ratio                197.0  201.0   211.0  "
      ]
     },
     "execution_count": 45,
     "metadata": {},
     "output_type": "execute_result"
    }
   ],
   "source": [
    "data.describe().T"
   ]
  },
  {
   "cell_type": "markdown",
   "metadata": {},
   "source": [
    "### 2. Print/ Plot the dependent (categorical variable) - Class column"
   ]
  },
  {
   "cell_type": "markdown",
   "metadata": {},
   "source": [
    "Since the variable is categorical, you can use value_counts function"
   ]
  },
  {
   "cell_type": "code",
   "execution_count": 46,
   "metadata": {},
   "outputs": [
    {
     "data": {
      "text/plain": [
       "car    0.507995\n",
       "bus    0.252153\n",
       "van    0.239852\n",
       "Name: class, dtype: float64"
      ]
     },
     "execution_count": 46,
     "metadata": {},
     "output_type": "execute_result"
    }
   ],
   "source": [
    "data['class'].value_counts(normalize=True)"
   ]
  },
  {
   "cell_type": "code",
   "execution_count": 47,
   "metadata": {},
   "outputs": [
    {
     "data": {
      "text/plain": [
       "<matplotlib.axes._subplots.AxesSubplot at 0x25999f1b978>"
      ]
     },
     "execution_count": 47,
     "metadata": {},
     "output_type": "execute_result"
    },
    {
     "data": {
      "image/png": "[encoded data removed]",
      "text/plain": [
       "<Figure size 432x288 with 1 Axes>"
      ]
     },
     "metadata": {
      "needs_background": "light"
     },
     "output_type": "display_data"
    }
   ],
   "source": [
    "sns.countplot(x='class', data=data)"
   ]
  },
  {
   "cell_type": "markdown",
   "metadata": {},
   "source": [
    "###### Cars ~= 51%\n",
    "###### bus ~= 25%\n",
    "###### van ~= 23%\n"
   ]
  },
  {
   "cell_type": "markdown",
   "metadata": {},
   "source": [
    "### Check for any missing values in the data "
   ]
  },
  {
   "cell_type": "code",
   "execution_count": 48,
   "metadata": {},
   "outputs": [],
   "source": [
    "#since we have already dropped na, this is not required"
   ]
  },
  {
   "cell_type": "markdown",
   "metadata": {},
   "source": [
    "### 3. Standardize the data "
   ]
  },
  {
   "cell_type": "code",
   "execution_count": 49,
   "metadata": {},
   "outputs": [],
   "source": [
    "data = data.drop(['class'], axis=1)\n",
    "# since 'class' is the dependant variable, we are removing it from the list of independant variables used for clustering"
   ]
  },
  {
   "cell_type": "markdown",
   "metadata": {},
   "source": [
    "Since the dimensions of the data are not really known to us, it would be wise to standardize the data using z scores before we go for any clustering methods.\n",
    "You can use zscore function to do this"
   ]
  },
  {
   "cell_type": "code",
   "execution_count": 73,
   "metadata": {},
   "outputs": [
    {
     "data": {
      "text/html": [
       "<div>\n",
       "<style scoped>\n",
       "    .dataframe tbody tr th:only-of-type {\n",
       "        vertical-align: middle;\n",
       "    }\n",
       "\n",
       "    .dataframe tbody tr th {\n",
       "        vertical-align: top;\n",
       "    }\n",
       "\n",
       "    .dataframe thead th {\n",
       "        text-align: right;\n",
       "    }\n",
       "</style>\n",
       "<table border=\"1\" class=\"dataframe\">\n",
       "  <thead>\n",
       "    <tr style=\"text-align: right;\">\n",
       "      <th></th>\n",
       "      <th>compactness</th>\n",
       "      <th>circularity</th>\n",
       "      <th>distance_circularity</th>\n",
       "      <th>radius_ratio</th>\n",
       "      <th>pr.axis_aspect_ratio</th>\n",
       "      <th>max.length_aspect_ratio</th>\n",
       "      <th>scatter_ratio</th>\n",
       "      <th>elongatedness</th>\n",
       "      <th>pr.axis_rectangularity</th>\n",
       "      <th>max.length_rectangularity</th>\n",
       "      <th>scaled_variance</th>\n",
       "      <th>scaled_variance.1</th>\n",
       "      <th>scaled_radius_of_gyration</th>\n",
       "      <th>scaled_radius_of_gyration.1</th>\n",
       "      <th>skewness_about</th>\n",
       "      <th>skewness_about.1</th>\n",
       "      <th>skewness_about.2</th>\n",
       "      <th>hollows_ratio</th>\n",
       "    </tr>\n",
       "  </thead>\n",
       "  <tbody>\n",
       "    <tr>\n",
       "      <th>0</th>\n",
       "      <td>0.163231</td>\n",
       "      <td>0.520408</td>\n",
       "      <td>0.060669</td>\n",
       "      <td>0.264970</td>\n",
       "      <td>1.283254</td>\n",
       "      <td>0.299721</td>\n",
       "      <td>-0.198517</td>\n",
       "      <td>0.129648</td>\n",
       "      <td>-0.217151</td>\n",
       "      <td>0.766312</td>\n",
       "      <td>-0.397397</td>\n",
       "      <td>-0.339014</td>\n",
       "      <td>0.301676</td>\n",
       "      <td>-0.321192</td>\n",
       "      <td>-0.071523</td>\n",
       "      <td>0.371287</td>\n",
       "      <td>-0.321809</td>\n",
       "      <td>0.171837</td>\n",
       "    </tr>\n",
       "    <tr>\n",
       "      <th>1</th>\n",
       "      <td>-0.322874</td>\n",
       "      <td>-0.619123</td>\n",
       "      <td>0.124067</td>\n",
       "      <td>-0.836393</td>\n",
       "      <td>-0.599253</td>\n",
       "      <td>0.085785</td>\n",
       "      <td>-0.591720</td>\n",
       "      <td>0.514333</td>\n",
       "      <td>-0.606014</td>\n",
       "      <td>-0.337462</td>\n",
       "      <td>-0.590034</td>\n",
       "      <td>-0.618754</td>\n",
       "      <td>-0.502972</td>\n",
       "      <td>-0.053505</td>\n",
       "      <td>0.538425</td>\n",
       "      <td>0.147109</td>\n",
       "      <td>0.003400</td>\n",
       "      <td>0.442318</td>\n",
       "    </tr>\n",
       "    <tr>\n",
       "      <th>2</th>\n",
       "      <td>1.256966</td>\n",
       "      <td>0.845988</td>\n",
       "      <td>1.518823</td>\n",
       "      <td>1.187734</td>\n",
       "      <td>0.530251</td>\n",
       "      <td>0.299721</td>\n",
       "      <td>1.162569</td>\n",
       "      <td>-1.152637</td>\n",
       "      <td>0.949438</td>\n",
       "      <td>0.697326</td>\n",
       "      <td>1.111591</td>\n",
       "      <td>1.122486</td>\n",
       "      <td>1.415804</td>\n",
       "      <td>0.080339</td>\n",
       "      <td>1.555006</td>\n",
       "      <td>-0.413338</td>\n",
       "      <td>-0.159204</td>\n",
       "      <td>0.036596</td>\n",
       "    </tr>\n",
       "    <tr>\n",
       "      <th>3</th>\n",
       "      <td>-0.079822</td>\n",
       "      <td>-0.619123</td>\n",
       "      <td>-0.002729</td>\n",
       "      <td>-0.300595</td>\n",
       "      <td>0.153750</td>\n",
       "      <td>0.085785</td>\n",
       "      <td>-0.742952</td>\n",
       "      <td>0.642562</td>\n",
       "      <td>-0.606014</td>\n",
       "      <td>-0.337462</td>\n",
       "      <td>-0.911095</td>\n",
       "      <td>-0.738643</td>\n",
       "      <td>-1.462359</td>\n",
       "      <td>-1.258099</td>\n",
       "      <td>-0.071523</td>\n",
       "      <td>-0.301249</td>\n",
       "      <td>1.629444</td>\n",
       "      <td>1.524243</td>\n",
       "    </tr>\n",
       "    <tr>\n",
       "      <th>4</th>\n",
       "      <td>-1.052030</td>\n",
       "      <td>-0.130753</td>\n",
       "      <td>-0.763506</td>\n",
       "      <td>1.068668</td>\n",
       "      <td>5.173770</td>\n",
       "      <td>9.285029</td>\n",
       "      <td>-0.591720</td>\n",
       "      <td>0.514333</td>\n",
       "      <td>-0.606014</td>\n",
       "      <td>-0.268476</td>\n",
       "      <td>1.689501</td>\n",
       "      <td>-0.647299</td>\n",
       "      <td>0.425468</td>\n",
       "      <td>7.307905</td>\n",
       "      <td>0.538425</td>\n",
       "      <td>-0.189159</td>\n",
       "      <td>-1.460039</td>\n",
       "      <td>-1.721531</td>\n",
       "    </tr>\n",
       "  </tbody>\n",
       "</table>\n",
       "</div>"
      ],
      "text/plain": [
       "   compactness  circularity  distance_circularity  radius_ratio  \\\n",
       "0     0.163231     0.520408              0.060669      0.264970   \n",
       "1    -0.322874    -0.619123              0.124067     -0.836393   \n",
       "2     1.256966     0.845988              1.518823      1.187734   \n",
       "3    -0.079822    -0.619123             -0.002729     -0.300595   \n",
       "4    -1.052030    -0.130753             -0.763506      1.068668   \n",
       "\n",
       "   pr.axis_aspect_ratio  max.length_aspect_ratio  scatter_ratio  \\\n",
       "0              1.283254                 0.299721      -0.198517   \n",
       "1             -0.599253                 0.085785      -0.591720   \n",
       "2              0.530251                 0.299721       1.162569   \n",
       "3              0.153750                 0.085785      -0.742952   \n",
       "4              5.173770                 9.285029      -0.591720   \n",
       "\n",
       "   elongatedness  pr.axis_rectangularity  max.length_rectangularity  \\\n",
       "0       0.129648               -0.217151                   0.766312   \n",
       "1       0.514333               -0.606014                  -0.337462   \n",
       "2      -1.152637                0.949438                   0.697326   \n",
       "3       0.642562               -0.606014                  -0.337462   \n",
       "4       0.514333               -0.606014                  -0.268476   \n",
       "\n",
       "   scaled_variance  scaled_variance.1  scaled_radius_of_gyration  \\\n",
       "0        -0.397397          -0.339014                   0.301676   \n",
       "1        -0.590034          -0.618754                  -0.502972   \n",
       "2         1.111591           1.122486                   1.415804   \n",
       "3        -0.911095          -0.738643                  -1.462359   \n",
       "4         1.689501          -0.647299                   0.425468   \n",
       "\n",
       "   scaled_radius_of_gyration.1  skewness_about  skewness_about.1  \\\n",
       "0                    -0.321192       -0.071523          0.371287   \n",
       "1                    -0.053505        0.538425          0.147109   \n",
       "2                     0.080339        1.555006         -0.413338   \n",
       "3                    -1.258099       -0.071523         -0.301249   \n",
       "4                     7.307905        0.538425         -0.189159   \n",
       "\n",
       "   skewness_about.2  hollows_ratio  \n",
       "0         -0.321809       0.171837  \n",
       "1          0.003400       0.442318  \n",
       "2         -0.159204       0.036596  \n",
       "3          1.629444       1.524243  \n",
       "4         -1.460039      -1.721531  "
      ]
     },
     "execution_count": 73,
     "metadata": {},
     "output_type": "execute_result"
    }
   ],
   "source": [
    "X = data.apply(st.zscore)\n",
    "X.head()"
   ]
  },
  {
   "cell_type": "markdown",
   "metadata": {},
   "source": [
    "### K - Means Clustering"
   ]
  },
  {
   "cell_type": "markdown",
   "metadata": {},
   "source": [
    "### 4. Assign a dummy array called distortion"
   ]
  },
  {
   "cell_type": "code",
   "execution_count": 74,
   "metadata": {},
   "outputs": [],
   "source": [
    "seed = 90"
   ]
  },
  {
   "cell_type": "markdown",
   "metadata": {},
   "source": [
    "You can later use this array to plot the elbow plot"
   ]
  },
  {
   "cell_type": "code",
   "execution_count": 75,
   "metadata": {},
   "outputs": [
    {
     "data": {
      "text/plain": [
       "7.060781582346976"
      ]
     },
     "execution_count": 75,
     "metadata": {},
     "output_type": "execute_result"
    }
   ],
   "source": [
    "model_kmean = KMeans(n_clusters=4, random_state=seed).fit(X)\n",
    "sum(np.min(cdist(X, model_kmean.cluster_centers_, metric='euclidean'), axis=1)**2/X.shape[0])\n"
   ]
  },
  {
   "cell_type": "markdown",
   "metadata": {},
   "source": [
    "### 5. Calculating distortion - C distance"
   ]
  },
  {
   "cell_type": "code",
   "execution_count": 76,
   "metadata": {},
   "outputs": [],
   "source": [
    "distortions = []\n",
    "C = range(1, 11)\n",
    "for c in C:\n",
    "    model_kmean = KMeans(n_clusters=c, random_state=seed).fit(X)\n",
    "    distortion = sum(np.min(cdist(X, model_kmean.cluster_centers_, metric='euclidean'), axis=1)**2/X.shape[0])\n",
    "    distortions.append(distortion)\n"
   ]
  },
  {
   "cell_type": "code",
   "execution_count": 77,
   "metadata": {},
   "outputs": [
    {
     "data": {
      "text/plain": [
       "[<matplotlib.lines.Line2D at 0x2599a162eb8>]"
      ]
     },
     "execution_count": 77,
     "metadata": {},
     "output_type": "execute_result"
    },
    {
     "data": {
      "image/png": "[encoded data removed]",
      "text/plain": [
       "<Figure size 432x288 with 1 Axes>"
      ]
     },
     "metadata": {
      "needs_background": "light"
     },
     "output_type": "display_data"
    }
   ],
   "source": [
    "plt.title(\"Elbow plot - To find optimal number of clusters\")\n",
    "plt.xlabel(\"No. of Clusters\")\n",
    "plt.ylabel(\"Distortion\")\n",
    "plt.plot(C, distortions)"
   ]
  },
  {
   "cell_type": "markdown",
   "metadata": {},
   "source": [
    "### Find out the optimal value of K"
   ]
  },
  {
   "cell_type": "code",
   "execution_count": 83,
   "metadata": {},
   "outputs": [],
   "source": [
    "#### optimal number of clusters = 4, as beyond 4 the drop in distortion is not very sharp. \n",
    "optimal_clusters = 4"
   ]
  },
  {
   "cell_type": "markdown",
   "metadata": {},
   "source": [
    "### Using optimal value of K - Cluster the data. \n",
    "Note: Since the data has more than 2 dimension we cannot visualize the data. As an alternative, we can observe the centroids and note how they are distributed across different dimensions"
   ]
  },
  {
   "cell_type": "code",
   "execution_count": 84,
   "metadata": {},
   "outputs": [],
   "source": [
    "model_kmean = KMeans(n_clusters=optimal_clusters, random_state=seed).fit(X)"
   ]
  },
  {
   "cell_type": "markdown",
   "metadata": {},
   "source": [
    "You can use kmeans.cluster_centers_ function to pull the centroid information from the instance"
   ]
  },
  {
   "cell_type": "code",
   "execution_count": 85,
   "metadata": {},
   "outputs": [
    {
     "data": {
      "text/plain": [
       "array([[-2.05730575e-01, -5.45467315e-01, -2.89371568e-01,\n",
       "        -7.12566078e-03,  1.99012183e-01, -1.69535360e-01,\n",
       "        -4.32058826e-01,  2.89828495e-01, -4.61943328e-01,\n",
       "        -5.11623189e-01, -3.97502539e-01, -4.38874293e-01,\n",
       "        -5.70042453e-01, -6.48561011e-01, -3.75261465e-02,\n",
       "        -2.83381834e-03,  8.45211052e-01,  7.23441385e-01],\n",
       "       [-9.10413243e-01, -5.43635818e-01, -8.81865750e-01,\n",
       "        -1.07908698e+00, -5.58263275e-01, -3.00680000e-01,\n",
       "        -7.85760050e-01,  8.72132298e-01, -7.53405398e-01,\n",
       "        -5.06588790e-01, -8.04420143e-01, -7.87813621e-01,\n",
       "        -4.21982642e-01,  7.39843790e-01, -1.10054968e-01,\n",
       "        -2.78649939e-01, -1.00828775e+00, -1.06550540e+00],\n",
       "       [ 1.16823216e+00,  1.19288625e+00,  1.22673969e+00,\n",
       "         9.77005682e-01,  9.14974658e-02,  2.25013018e-01,\n",
       "         1.31320039e+00, -1.22387493e+00,  1.31824009e+00,\n",
       "         1.10877702e+00,  1.21886607e+00,  1.32515470e+00,\n",
       "         1.09846443e+00, -1.00774832e-01,  1.62451676e-01,\n",
       "         2.84996197e-01, -8.21450784e-03,  1.87400482e-01],\n",
       "       [-7.33024343e-01,  7.27349604e-02, -2.72170954e-01,\n",
       "         2.94768327e+00,  6.83665190e+00,  8.69670551e+00,\n",
       "        -5.35008001e-01,  4.66247771e-01, -5.57405972e-01,\n",
       "         2.83410527e-01,  1.69752769e+00, -5.88068272e-01,\n",
       "         2.12700856e-01,  4.96563826e+00, -2.74839440e-01,\n",
       "        -2.31192779e-01, -7.07994144e-01, -4.53650721e-01]])"
      ]
     },
     "execution_count": 85,
     "metadata": {},
     "output_type": "execute_result"
    }
   ],
   "source": [
    "model_kmean.cluster_centers_"
   ]
  },
  {
   "cell_type": "markdown",
   "metadata": {},
   "source": [
    "### 7. Store the centroids in a dataframe with column names from the original dataset given "
   ]
  },
  {
   "cell_type": "code",
   "execution_count": 86,
   "metadata": {},
   "outputs": [
    {
     "data": {
      "text/html": [
       "<div>\n",
       "<style scoped>\n",
       "    .dataframe tbody tr th:only-of-type {\n",
       "        vertical-align: middle;\n",
       "    }\n",
       "\n",
       "    .dataframe tbody tr th {\n",
       "        vertical-align: top;\n",
       "    }\n",
       "\n",
       "    .dataframe thead th {\n",
       "        text-align: right;\n",
       "    }\n",
       "</style>\n",
       "<table border=\"1\" class=\"dataframe\">\n",
       "  <thead>\n",
       "    <tr style=\"text-align: right;\">\n",
       "      <th></th>\n",
       "      <th>compactness</th>\n",
       "      <th>circularity</th>\n",
       "      <th>distance_circularity</th>\n",
       "      <th>radius_ratio</th>\n",
       "      <th>pr.axis_aspect_ratio</th>\n",
       "      <th>max.length_aspect_ratio</th>\n",
       "      <th>scatter_ratio</th>\n",
       "      <th>elongatedness</th>\n",
       "      <th>pr.axis_rectangularity</th>\n",
       "      <th>max.length_rectangularity</th>\n",
       "      <th>scaled_variance</th>\n",
       "      <th>scaled_variance.1</th>\n",
       "      <th>scaled_radius_of_gyration</th>\n",
       "      <th>scaled_radius_of_gyration.1</th>\n",
       "      <th>skewness_about</th>\n",
       "      <th>skewness_about.1</th>\n",
       "      <th>skewness_about.2</th>\n",
       "      <th>hollows_ratio</th>\n",
       "    </tr>\n",
       "  </thead>\n",
       "  <tbody>\n",
       "    <tr>\n",
       "      <th>0</th>\n",
       "      <td>-0.205731</td>\n",
       "      <td>-0.545467</td>\n",
       "      <td>-0.289372</td>\n",
       "      <td>-0.007126</td>\n",
       "      <td>0.199012</td>\n",
       "      <td>-0.169535</td>\n",
       "      <td>-0.432059</td>\n",
       "      <td>0.289828</td>\n",
       "      <td>-0.461943</td>\n",
       "      <td>-0.511623</td>\n",
       "      <td>-0.397503</td>\n",
       "      <td>-0.438874</td>\n",
       "      <td>-0.570042</td>\n",
       "      <td>-0.648561</td>\n",
       "      <td>-0.037526</td>\n",
       "      <td>-0.002834</td>\n",
       "      <td>0.845211</td>\n",
       "      <td>0.723441</td>\n",
       "    </tr>\n",
       "    <tr>\n",
       "      <th>1</th>\n",
       "      <td>-0.910413</td>\n",
       "      <td>-0.543636</td>\n",
       "      <td>-0.881866</td>\n",
       "      <td>-1.079087</td>\n",
       "      <td>-0.558263</td>\n",
       "      <td>-0.300680</td>\n",
       "      <td>-0.785760</td>\n",
       "      <td>0.872132</td>\n",
       "      <td>-0.753405</td>\n",
       "      <td>-0.506589</td>\n",
       "      <td>-0.804420</td>\n",
       "      <td>-0.787814</td>\n",
       "      <td>-0.421983</td>\n",
       "      <td>0.739844</td>\n",
       "      <td>-0.110055</td>\n",
       "      <td>-0.278650</td>\n",
       "      <td>-1.008288</td>\n",
       "      <td>-1.065505</td>\n",
       "    </tr>\n",
       "    <tr>\n",
       "      <th>2</th>\n",
       "      <td>1.168232</td>\n",
       "      <td>1.192886</td>\n",
       "      <td>1.226740</td>\n",
       "      <td>0.977006</td>\n",
       "      <td>0.091497</td>\n",
       "      <td>0.225013</td>\n",
       "      <td>1.313200</td>\n",
       "      <td>-1.223875</td>\n",
       "      <td>1.318240</td>\n",
       "      <td>1.108777</td>\n",
       "      <td>1.218866</td>\n",
       "      <td>1.325155</td>\n",
       "      <td>1.098464</td>\n",
       "      <td>-0.100775</td>\n",
       "      <td>0.162452</td>\n",
       "      <td>0.284996</td>\n",
       "      <td>-0.008215</td>\n",
       "      <td>0.187400</td>\n",
       "    </tr>\n",
       "    <tr>\n",
       "      <th>3</th>\n",
       "      <td>-0.733024</td>\n",
       "      <td>0.072735</td>\n",
       "      <td>-0.272171</td>\n",
       "      <td>2.947683</td>\n",
       "      <td>6.836652</td>\n",
       "      <td>8.696706</td>\n",
       "      <td>-0.535008</td>\n",
       "      <td>0.466248</td>\n",
       "      <td>-0.557406</td>\n",
       "      <td>0.283411</td>\n",
       "      <td>1.697528</td>\n",
       "      <td>-0.588068</td>\n",
       "      <td>0.212701</td>\n",
       "      <td>4.965638</td>\n",
       "      <td>-0.274839</td>\n",
       "      <td>-0.231193</td>\n",
       "      <td>-0.707994</td>\n",
       "      <td>-0.453651</td>\n",
       "    </tr>\n",
       "  </tbody>\n",
       "</table>\n",
       "</div>"
      ],
      "text/plain": [
       "   compactness  circularity  distance_circularity  radius_ratio  \\\n",
       "0    -0.205731    -0.545467             -0.289372     -0.007126   \n",
       "1    -0.910413    -0.543636             -0.881866     -1.079087   \n",
       "2     1.168232     1.192886              1.226740      0.977006   \n",
       "3    -0.733024     0.072735             -0.272171      2.947683   \n",
       "\n",
       "   pr.axis_aspect_ratio  max.length_aspect_ratio  scatter_ratio  \\\n",
       "0              0.199012                -0.169535      -0.432059   \n",
       "1             -0.558263                -0.300680      -0.785760   \n",
       "2              0.091497                 0.225013       1.313200   \n",
       "3              6.836652                 8.696706      -0.535008   \n",
       "\n",
       "   elongatedness  pr.axis_rectangularity  max.length_rectangularity  \\\n",
       "0       0.289828               -0.461943                  -0.511623   \n",
       "1       0.872132               -0.753405                  -0.506589   \n",
       "2      -1.223875                1.318240                   1.108777   \n",
       "3       0.466248               -0.557406                   0.283411   \n",
       "\n",
       "   scaled_variance  scaled_variance.1  scaled_radius_of_gyration  \\\n",
       "0        -0.397503          -0.438874                  -0.570042   \n",
       "1        -0.804420          -0.787814                  -0.421983   \n",
       "2         1.218866           1.325155                   1.098464   \n",
       "3         1.697528          -0.588068                   0.212701   \n",
       "\n",
       "   scaled_radius_of_gyration.1  skewness_about  skewness_about.1  \\\n",
       "0                    -0.648561       -0.037526         -0.002834   \n",
       "1                     0.739844       -0.110055         -0.278650   \n",
       "2                    -0.100775        0.162452          0.284996   \n",
       "3                     4.965638       -0.274839         -0.231193   \n",
       "\n",
       "   skewness_about.2  hollows_ratio  \n",
       "0          0.845211       0.723441  \n",
       "1         -1.008288      -1.065505  \n",
       "2         -0.008215       0.187400  \n",
       "3         -0.707994      -0.453651  "
      ]
     },
     "execution_count": 86,
     "metadata": {},
     "output_type": "execute_result"
    }
   ],
   "source": [
    "pd.DataFrame(columns=X.columns, data=model_kmean.cluster_centers_)\n"
   ]
  },
  {
   "cell_type": "markdown",
   "metadata": {},
   "source": [
    "### Use kmeans.labels_ function to print out the labels of the classes"
   ]
  },
  {
   "cell_type": "code",
   "execution_count": 87,
   "metadata": {},
   "outputs": [
    {
     "data": {
      "text/plain": [
       "305"
      ]
     },
     "execution_count": 87,
     "metadata": {},
     "output_type": "execute_result"
    }
   ],
   "source": [
    "labels = model_kmean.labels_\n",
    "len(labels[labels==0])"
   ]
  },
  {
   "cell_type": "code",
   "execution_count": 88,
   "metadata": {},
   "outputs": [
    {
     "data": {
      "text/plain": [
       "248"
      ]
     },
     "execution_count": 88,
     "metadata": {},
     "output_type": "execute_result"
    }
   ],
   "source": [
    "len(labels[labels==1])"
   ]
  },
  {
   "cell_type": "code",
   "execution_count": 89,
   "metadata": {},
   "outputs": [
    {
     "data": {
      "text/plain": [
       "252"
      ]
     },
     "execution_count": 89,
     "metadata": {},
     "output_type": "execute_result"
    }
   ],
   "source": [
    "len(labels[labels==2]) \n",
    "##these 8 samples of this cluster seem to have more distance between groups and quite less within the group. "
   ]
  },
  {
   "cell_type": "code",
   "execution_count": 90,
   "metadata": {},
   "outputs": [
    {
     "data": {
      "text/plain": [
       "8"
      ]
     },
     "execution_count": 90,
     "metadata": {},
     "output_type": "execute_result"
    }
   ],
   "source": [
    "len(labels[labels==3])"
   ]
  },
  {
   "cell_type": "code",
   "execution_count": 101,
   "metadata": {},
   "outputs": [
    {
     "data": {
      "image/png": "[encoded data removed]",
      "text/plain": [
       "<Figure size 720x504 with 1 Axes>"
      ]
     },
     "metadata": {
      "needs_background": "light"
     },
     "output_type": "display_data"
    }
   ],
   "source": [
    "plt.figure(figsize=(10, 7))\n",
    "plt.title(\"Clustered using Agglomerative Hierarchical Clustering\")\n",
    "plt.xlabel(\"Dimension-1\")\n",
    "plt.ylabel(\"Dimension-2\")\n",
    "plt.scatter(X.iloc[:,6], X.iloc[:,4], c=labels, cmap='rainbow')  # plot points with cluster dependent colors\n",
    "plt.show()"
   ]
  },
  {
   "cell_type": "markdown",
   "metadata": {},
   "source": [
    "## Hierarchical Clustering "
   ]
  },
  {
   "cell_type": "markdown",
   "metadata": {},
   "source": [
    "### 8. Variable creation"
   ]
  },
  {
   "cell_type": "markdown",
   "metadata": {},
   "source": [
    "For Hierarchical clustering, we will create datasets using multivariate normal distribution to visually observe how the clusters are formed at the end"
   ]
  },
  {
   "cell_type": "code",
   "execution_count": 102,
   "metadata": {},
   "outputs": [],
   "source": [
    "np.random.seed(seed)\n",
    "a = np.random.multivariate_normal([10, 0], [[3, 1], [1, 4]], size=[100,])\n",
    "b = np.random.multivariate_normal([0, 20], [[3, 1], [1, 4]], size=[50,])\n",
    "c = np.random.multivariate_normal([10, 20], [[3, 1], [1, 4]], size=[100,])"
   ]
  },
  {
   "cell_type": "markdown",
   "metadata": {},
   "source": [
    "### 9. Combine all three arrays a,b,c into a dataframe"
   ]
  },
  {
   "cell_type": "code",
   "execution_count": 108,
   "metadata": {},
   "outputs": [
    {
     "name": "stdout",
     "output_type": "stream",
     "text": [
      "(250, 2)\n"
     ]
    },
    {
     "data": {
      "text/plain": [
       "array([[ 9.44767286, -0.2257537 ],\n",
       "       [ 8.28257617, -0.43259841],\n",
       "       [ 9.55132528,  3.2838167 ],\n",
       "       [ 9.07423874,  2.39347061],\n",
       "       [13.73529206,  2.38254603]])"
      ]
     },
     "execution_count": 108,
     "metadata": {},
     "output_type": "execute_result"
    }
   ],
   "source": [
    "X = np.concatenate((a, b, c))\n",
    "print(X.shape)\n",
    "X[0:5]"
   ]
  },
  {
   "cell_type": "markdown",
   "metadata": {},
   "source": [
    "### 10. Use scatter matrix to print all the 3 distributions"
   ]
  },
  {
   "cell_type": "code",
   "execution_count": 109,
   "metadata": {},
   "outputs": [
    {
     "data": {
      "text/plain": [
       "<matplotlib.axes._subplots.AxesSubplot at 0x2599a429d30>"
      ]
     },
     "execution_count": 109,
     "metadata": {},
     "output_type": "execute_result"
    },
    {
     "data": {
      "image/png": "[encoded data removed]",
      "text/plain": [
       "<Figure size 432x288 with 1 Axes>"
      ]
     },
     "metadata": {
      "needs_background": "light"
     },
     "output_type": "display_data"
    }
   ],
   "source": [
    "sns.scatterplot(x=X[:,0], y=X[:,1],  cmap='rainbow')"
   ]
  },
  {
   "cell_type": "markdown",
   "metadata": {},
   "source": [
    "### 11. Find out the linkage matrix"
   ]
  },
  {
   "cell_type": "code",
   "execution_count": 117,
   "metadata": {},
   "outputs": [
    {
     "data": {
      "text/plain": [
       "(249, 4)"
      ]
     },
     "execution_count": 117,
     "metadata": {},
     "output_type": "execute_result"
    }
   ],
   "source": [
    "Z = linkage(X, 'ward', metric='euclidean')\n",
    "\n",
    "Z.shape\n",
    "\n",
    "# It holds the n-1 = 250-1 = 249 iterations statistics\n",
    "# column1 - Index of First cluster, \n",
    "# column2 - Index of Second Cluster, \n",
    "# column3 - Distance between these two clusters, \n",
    "# column4 - No of elements after merge of these two clusters\n"
   ]
  },
  {
   "cell_type": "markdown",
   "metadata": {},
   "source": [
    "Use ward as linkage metric and distance as Eucledian"
   ]
  },
  {
   "cell_type": "code",
   "execution_count": 118,
   "metadata": {},
   "outputs": [
    {
     "data": {
      "text/plain": [
       "array([[1.86000000e+02, 1.87000000e+02, 1.59297790e-02, 2.00000000e+00],\n",
       "       [1.80000000e+01, 5.80000000e+01, 2.02884668e-02, 2.00000000e+00],\n",
       "       [5.90000000e+01, 6.30000000e+01, 2.56384982e-02, 2.00000000e+00],\n",
       "       [3.00000000e+01, 8.00000000e+01, 3.85537822e-02, 2.00000000e+00],\n",
       "       [2.10000000e+02, 2.31000000e+02, 5.20104976e-02, 2.00000000e+00],\n",
       "       [1.68000000e+02, 2.01000000e+02, 6.57634776e-02, 2.00000000e+00],\n",
       "       [7.30000000e+01, 9.80000000e+01, 6.58624963e-02, 2.00000000e+00],\n",
       "       [1.60000000e+01, 7.40000000e+01, 8.07592923e-02, 2.00000000e+00],\n",
       "       [1.12000000e+02, 1.23000000e+02, 8.36502451e-02, 2.00000000e+00],\n",
       "       [2.13000000e+02, 2.35000000e+02, 8.58907574e-02, 2.00000000e+00],\n",
       "       [3.30000000e+01, 5.70000000e+01, 9.35674364e-02, 2.00000000e+00],\n",
       "       [1.54000000e+02, 1.85000000e+02, 1.16665315e-01, 2.00000000e+00],\n",
       "       [2.19000000e+02, 2.26000000e+02, 1.18425436e-01, 2.00000000e+00],\n",
       "       [1.50000000e+01, 4.90000000e+01, 1.26193552e-01, 2.00000000e+00],\n",
       "       [1.40000000e+01, 4.60000000e+01, 1.34922905e-01, 2.00000000e+00],\n",
       "       [1.90000000e+01, 8.60000000e+01, 1.35069665e-01, 2.00000000e+00],\n",
       "       [6.40000000e+01, 7.80000000e+01, 1.36823218e-01, 2.00000000e+00],\n",
       "       [7.90000000e+01, 2.51000000e+02, 1.38705788e-01, 3.00000000e+00],\n",
       "       [1.65000000e+02, 2.18000000e+02, 1.38726382e-01, 2.00000000e+00],\n",
       "       [1.55000000e+02, 2.55000000e+02, 1.44367238e-01, 3.00000000e+00],\n",
       "       [1.00000000e+01, 4.10000000e+01, 1.49136234e-01, 2.00000000e+00],\n",
       "       [1.63000000e+02, 2.36000000e+02, 1.51513668e-01, 2.00000000e+00],\n",
       "       [2.80000000e+01, 3.70000000e+01, 1.52428574e-01, 2.00000000e+00],\n",
       "       [1.10000000e+02, 1.42000000e+02, 1.55990397e-01, 2.00000000e+00],\n",
       "       [2.30000000e+01, 8.70000000e+01, 1.63630841e-01, 2.00000000e+00],\n",
       "       [1.09000000e+02, 1.33000000e+02, 1.67506170e-01, 2.00000000e+00],\n",
       "       [1.58000000e+02, 2.32000000e+02, 1.69613821e-01, 2.00000000e+00],\n",
       "       [6.00000000e+00, 3.40000000e+01, 1.74137474e-01, 2.00000000e+00],\n",
       "       [1.81000000e+02, 2.47000000e+02, 1.79522234e-01, 2.00000000e+00],\n",
       "       [1.08000000e+02, 1.34000000e+02, 1.79891034e-01, 2.00000000e+00],\n",
       "       [1.72000000e+02, 2.40000000e+02, 1.82883490e-01, 2.00000000e+00],\n",
       "       [6.50000000e+01, 2.60000000e+02, 1.87111964e-01, 3.00000000e+00],\n",
       "       [3.80000000e+01, 6.10000000e+01, 1.90064663e-01, 2.00000000e+00],\n",
       "       [1.03000000e+02, 1.30000000e+02, 2.02502620e-01, 2.00000000e+00],\n",
       "       [1.61000000e+02, 1.70000000e+02, 2.06482466e-01, 2.00000000e+00],\n",
       "       [7.10000000e+01, 8.50000000e+01, 2.13875619e-01, 2.00000000e+00],\n",
       "       [4.80000000e+01, 8.90000000e+01, 2.14044385e-01, 2.00000000e+00],\n",
       "       [2.50000000e+01, 9.60000000e+01, 2.16378347e-01, 2.00000000e+00],\n",
       "       [1.07000000e+02, 1.16000000e+02, 2.17049692e-01, 2.00000000e+00],\n",
       "       [1.02000000e+02, 1.39000000e+02, 2.17133980e-01, 2.00000000e+00],\n",
       "       [1.79000000e+02, 1.96000000e+02, 2.18613550e-01, 2.00000000e+00],\n",
       "       [1.82000000e+02, 2.03000000e+02, 2.19736520e-01, 2.00000000e+00],\n",
       "       [1.62000000e+02, 2.37000000e+02, 2.20004173e-01, 2.00000000e+00],\n",
       "       [1.95000000e+02, 2.62000000e+02, 2.25218367e-01, 3.00000000e+00],\n",
       "       [2.70000000e+01, 7.70000000e+01, 2.60992563e-01, 2.00000000e+00],\n",
       "       [2.20000000e+01, 2.64000000e+02, 2.61396721e-01, 3.00000000e+00],\n",
       "       [2.27000000e+02, 2.90000000e+02, 2.66829966e-01, 3.00000000e+00],\n",
       "       [9.70000000e+01, 2.63000000e+02, 2.67503179e-01, 3.00000000e+00],\n",
       "       [1.28000000e+02, 1.36000000e+02, 2.69678223e-01, 2.00000000e+00],\n",
       "       [1.52000000e+02, 1.66000000e+02, 2.84986837e-01, 2.00000000e+00],\n",
       "       [2.07000000e+02, 2.23000000e+02, 2.86686338e-01, 2.00000000e+00],\n",
       "       [3.50000000e+01, 2.74000000e+02, 2.88628408e-01, 3.00000000e+00],\n",
       "       [4.00000000e+01, 9.00000000e+01, 2.91702906e-01, 2.00000000e+00],\n",
       "       [1.04000000e+02, 1.20000000e+02, 3.00326982e-01, 2.00000000e+00],\n",
       "       [1.05000000e+02, 1.37000000e+02, 3.09021838e-01, 2.00000000e+00],\n",
       "       [6.20000000e+01, 9.20000000e+01, 3.10347775e-01, 2.00000000e+00],\n",
       "       [2.24000000e+02, 2.34000000e+02, 3.11080046e-01, 2.00000000e+00],\n",
       "       [0.00000000e+00, 7.20000000e+01, 3.14158366e-01, 2.00000000e+00],\n",
       "       [1.57000000e+02, 2.16000000e+02, 3.19511907e-01, 2.00000000e+00],\n",
       "       [1.51000000e+02, 1.75000000e+02, 3.19873310e-01, 2.00000000e+00],\n",
       "       [1.64000000e+02, 1.90000000e+02, 3.20370388e-01, 2.00000000e+00],\n",
       "       [1.60000000e+02, 2.76000000e+02, 3.25542636e-01, 3.00000000e+00],\n",
       "       [1.30000000e+01, 5.30000000e+01, 3.37909211e-01, 2.00000000e+00],\n",
       "       [1.74000000e+02, 2.46000000e+02, 3.39283443e-01, 2.00000000e+00],\n",
       "       [2.81000000e+02, 3.07000000e+02, 3.50373534e-01, 5.00000000e+00],\n",
       "       [1.69000000e+02, 1.76000000e+02, 3.52398061e-01, 2.00000000e+00],\n",
       "       [1.92000000e+02, 2.69000000e+02, 3.67977259e-01, 4.00000000e+00],\n",
       "       [8.80000000e+01, 3.12000000e+02, 3.77435983e-01, 3.00000000e+00],\n",
       "       [2.68000000e+02, 2.93000000e+02, 3.79196736e-01, 5.00000000e+00],\n",
       "       [1.17000000e+02, 1.41000000e+02, 3.87233686e-01, 2.00000000e+00],\n",
       "       [9.30000000e+01, 2.72000000e+02, 3.89662750e-01, 3.00000000e+00],\n",
       "       [2.11000000e+02, 2.59000000e+02, 3.95231305e-01, 3.00000000e+00],\n",
       "       [2.14000000e+02, 2.42000000e+02, 3.99997484e-01, 2.00000000e+00],\n",
       "       [5.00000000e+00, 5.60000000e+01, 4.02415219e-01, 2.00000000e+00],\n",
       "       [3.60000000e+01, 3.90000000e+01, 4.03347375e-01, 2.00000000e+00],\n",
       "       [9.50000000e+01, 2.57000000e+02, 4.03511626e-01, 3.00000000e+00],\n",
       "       [7.00000000e+00, 2.85000000e+02, 4.06468056e-01, 3.00000000e+00],\n",
       "       [2.08000000e+02, 3.00000000e+02, 4.11436881e-01, 3.00000000e+00],\n",
       "       [1.19000000e+02, 2.58000000e+02, 4.11835451e-01, 3.00000000e+00],\n",
       "       [2.60000000e+01, 5.00000000e+01, 4.19939586e-01, 2.00000000e+00],\n",
       "       [2.40000000e+01, 2.53000000e+02, 4.32134301e-01, 3.00000000e+00],\n",
       "       [2.09000000e+02, 3.11000000e+02, 4.36211052e-01, 4.00000000e+00],\n",
       "       [1.00000000e+00, 7.00000000e+01, 4.37511404e-01, 2.00000000e+00],\n",
       "       [1.01000000e+02, 1.15000000e+02, 4.37651378e-01, 2.00000000e+00],\n",
       "       [8.00000000e+00, 5.50000000e+01, 4.45097575e-01, 2.00000000e+00],\n",
       "       [4.70000000e+01, 2.82000000e+02, 4.50532290e-01, 3.00000000e+00],\n",
       "       [1.88000000e+02, 1.99000000e+02, 4.59008573e-01, 2.00000000e+00],\n",
       "       [6.00000000e+01, 9.40000000e+01, 4.65488956e-01, 2.00000000e+00],\n",
       "       [1.45000000e+02, 2.98000000e+02, 4.69995233e-01, 3.00000000e+00],\n",
       "       [1.11000000e+02, 1.47000000e+02, 4.80518747e-01, 2.00000000e+00],\n",
       "       [1.89000000e+02, 2.00000000e+02, 4.94071906e-01, 2.00000000e+00],\n",
       "       [1.24000000e+02, 2.79000000e+02, 4.94604414e-01, 3.00000000e+00],\n",
       "       [2.17000000e+02, 2.43000000e+02, 5.02349967e-01, 2.00000000e+00],\n",
       "       [9.00000000e+00, 1.70000000e+01, 5.02390366e-01, 2.00000000e+00],\n",
       "       [2.56000000e+02, 2.67000000e+02, 5.07730977e-01, 5.00000000e+00],\n",
       "       [1.10000000e+01, 7.50000000e+01, 5.16980104e-01, 2.00000000e+00],\n",
       "       [1.35000000e+02, 3.04000000e+02, 5.21610504e-01, 3.00000000e+00],\n",
       "       [2.75000000e+02, 2.88000000e+02, 5.43747036e-01, 4.00000000e+00],\n",
       "       [8.30000000e+01, 3.25000000e+02, 5.52932410e-01, 4.00000000e+00],\n",
       "       [2.50000000e+02, 2.54000000e+02, 5.53400331e-01, 4.00000000e+00],\n",
       "       [1.93000000e+02, 2.92000000e+02, 5.54564186e-01, 3.00000000e+00],\n",
       "       [1.56000000e+02, 1.97000000e+02, 5.63402332e-01, 2.00000000e+00],\n",
       "       [2.06000000e+02, 2.78000000e+02, 5.66488925e-01, 3.00000000e+00],\n",
       "       [1.50000000e+02, 2.28000000e+02, 5.71880149e-01, 2.00000000e+00],\n",
       "       [5.10000000e+01, 3.05000000e+02, 5.86089697e-01, 3.00000000e+00],\n",
       "       [1.06000000e+02, 1.25000000e+02, 5.94301416e-01, 2.00000000e+00],\n",
       "       [2.29000000e+02, 2.49000000e+02, 5.94523221e-01, 2.00000000e+00],\n",
       "       [1.98000000e+02, 3.10000000e+02, 6.00251504e-01, 3.00000000e+00],\n",
       "       [1.18000000e+02, 1.43000000e+02, 6.01146540e-01, 2.00000000e+00],\n",
       "       [8.10000000e+01, 2.65000000e+02, 6.06521127e-01, 3.00000000e+00],\n",
       "       [3.20000000e+01, 3.30000000e+02, 6.06939433e-01, 4.00000000e+00],\n",
       "       [1.48000000e+02, 3.03000000e+02, 6.11943516e-01, 3.00000000e+00],\n",
       "       [2.38000000e+02, 3.13000000e+02, 6.23823872e-01, 3.00000000e+00],\n",
       "       [2.66000000e+02, 3.24000000e+02, 6.24697676e-01, 4.00000000e+00],\n",
       "       [4.50000000e+01, 5.40000000e+01, 6.28166090e-01, 2.00000000e+00],\n",
       "       [2.00000000e+01, 8.20000000e+01, 6.31710181e-01, 2.00000000e+00],\n",
       "       [3.10000000e+01, 2.52000000e+02, 6.38974613e-01, 3.00000000e+00],\n",
       "       [1.91000000e+02, 2.21000000e+02, 6.48641603e-01, 2.00000000e+00],\n",
       "       [7.60000000e+01, 3.54000000e+02, 6.50411512e-01, 4.00000000e+00],\n",
       "       [1.78000000e+02, 2.41000000e+02, 6.52953345e-01, 2.00000000e+00],\n",
       "       [1.13000000e+02, 1.44000000e+02, 6.62584204e-01, 2.00000000e+00],\n",
       "       [1.14000000e+02, 1.27000000e+02, 6.66273401e-01, 2.00000000e+00],\n",
       "       [1.83000000e+02, 2.12000000e+02, 6.97214277e-01, 2.00000000e+00],\n",
       "       [4.00000000e+00, 1.20000000e+01, 6.97523145e-01, 2.00000000e+00],\n",
       "       [2.39000000e+02, 2.80000000e+02, 7.07554642e-01, 3.00000000e+00],\n",
       "       [4.30000000e+01, 3.66000000e+02, 7.23418042e-01, 4.00000000e+00],\n",
       "       [2.44000000e+02, 2.61000000e+02, 7.36840687e-01, 3.00000000e+00],\n",
       "       [2.71000000e+02, 2.99000000e+02, 7.38788322e-01, 4.00000000e+00],\n",
       "       [1.84000000e+02, 2.91000000e+02, 7.44491421e-01, 3.00000000e+00],\n",
       "       [2.15000000e+02, 3.50000000e+02, 7.45861285e-01, 4.00000000e+00],\n",
       "       [3.00000000e+00, 3.35000000e+02, 7.46818086e-01, 4.00000000e+00],\n",
       "       [2.00000000e+00, 6.60000000e+01, 7.74783233e-01, 2.00000000e+00],\n",
       "       [2.84000000e+02, 3.06000000e+02, 7.85069037e-01, 4.00000000e+00],\n",
       "       [2.94000000e+02, 2.95000000e+02, 7.86878778e-01, 5.00000000e+00],\n",
       "       [3.40000000e+02, 3.51000000e+02, 7.90065985e-01, 4.00000000e+00],\n",
       "       [2.04000000e+02, 3.16000000e+02, 8.03825029e-01, 5.00000000e+00],\n",
       "       [1.21000000e+02, 1.49000000e+02, 8.13795409e-01, 2.00000000e+00],\n",
       "       [6.70000000e+01, 3.37000000e+02, 8.36748777e-01, 3.00000000e+00],\n",
       "       [4.20000000e+01, 3.48000000e+02, 8.44512794e-01, 5.00000000e+00],\n",
       "       [1.38000000e+02, 3.41000000e+02, 8.59334884e-01, 4.00000000e+00],\n",
       "       [2.96000000e+02, 3.21000000e+02, 8.83789246e-01, 6.00000000e+00],\n",
       "       [1.67000000e+02, 3.31000000e+02, 8.92634814e-01, 5.00000000e+00],\n",
       "       [2.70000000e+02, 3.01000000e+02, 9.09530277e-01, 5.00000000e+00],\n",
       "       [1.32000000e+02, 3.39000000e+02, 9.28946693e-01, 3.00000000e+00],\n",
       "       [2.86000000e+02, 2.87000000e+02, 9.43027527e-01, 4.00000000e+00],\n",
       "       [2.77000000e+02, 3.20000000e+02, 9.47914531e-01, 5.00000000e+00],\n",
       "       [1.53000000e+02, 3.18000000e+02, 9.54443989e-01, 6.00000000e+00],\n",
       "       [2.20000000e+02, 3.08000000e+02, 9.71764748e-01, 3.00000000e+00],\n",
       "       [1.40000000e+02, 2.73000000e+02, 1.02434182e+00, 3.00000000e+00],\n",
       "       [3.17000000e+02, 3.26000000e+02, 1.03691008e+00, 6.00000000e+00],\n",
       "       [1.46000000e+02, 3.58000000e+02, 1.07303244e+00, 3.00000000e+00],\n",
       "       [3.22000000e+02, 3.27000000e+02, 1.08202207e+00, 5.00000000e+00],\n",
       "       [3.14000000e+02, 3.29000000e+02, 1.09723026e+00, 7.00000000e+00],\n",
       "       [3.36000000e+02, 3.77000000e+02, 1.12757065e+00, 6.00000000e+00],\n",
       "       [1.77000000e+02, 3.62000000e+02, 1.15548628e+00, 4.00000000e+00],\n",
       "       [3.15000000e+02, 3.56000000e+02, 1.17076499e+00, 4.00000000e+00],\n",
       "       [2.83000000e+02, 3.61000000e+02, 1.19017409e+00, 5.00000000e+00],\n",
       "       [2.05000000e+02, 3.69000000e+02, 1.19971649e+00, 3.00000000e+00],\n",
       "       [5.20000000e+01, 3.45000000e+02, 1.24586157e+00, 3.00000000e+00],\n",
       "       [1.22000000e+02, 3.33000000e+02, 1.24676310e+00, 3.00000000e+00],\n",
       "       [1.31000000e+02, 3.47000000e+02, 1.28668244e+00, 5.00000000e+00],\n",
       "       [6.90000000e+01, 9.10000000e+01, 1.29332152e+00, 2.00000000e+00],\n",
       "       [2.45000000e+02, 3.53000000e+02, 1.36380224e+00, 3.00000000e+00],\n",
       "       [3.02000000e+02, 3.80000000e+02, 1.36465209e+00, 6.00000000e+00],\n",
       "       [3.09000000e+02, 3.76000000e+02, 1.36716365e+00, 5.00000000e+00],\n",
       "       [4.40000000e+01, 3.23000000e+02, 1.42068766e+00, 3.00000000e+00],\n",
       "       [2.02000000e+02, 3.52000000e+02, 1.45779258e+00, 4.00000000e+00],\n",
       "       [9.90000000e+01, 3.43000000e+02, 1.49852463e+00, 3.00000000e+00],\n",
       "       [3.86000000e+02, 3.98000000e+02, 1.51714425e+00, 5.00000000e+00],\n",
       "       [2.90000000e+01, 3.68000000e+02, 1.53577052e+00, 5.00000000e+00],\n",
       "       [8.40000000e+01, 3.65000000e+02, 1.54916700e+00, 3.00000000e+00],\n",
       "       [3.60000000e+02, 3.95000000e+02, 1.55107107e+00, 9.00000000e+00],\n",
       "       [3.74000000e+02, 4.01000000e+02, 1.55321143e+00, 8.00000000e+00],\n",
       "       [3.67000000e+02, 4.04000000e+02, 1.59589417e+00, 6.00000000e+00],\n",
       "       [3.38000000e+02, 4.09000000e+02, 1.62216376e+00, 6.00000000e+00],\n",
       "       [1.73000000e+02, 1.94000000e+02, 1.66694826e+00, 2.00000000e+00],\n",
       "       [3.44000000e+02, 3.59000000e+02, 1.68339860e+00, 8.00000000e+00],\n",
       "       [1.26000000e+02, 4.10000000e+02, 1.68625238e+00, 6.00000000e+00],\n",
       "       [2.33000000e+02, 2.48000000e+02, 1.71329078e+00, 2.00000000e+00],\n",
       "       [3.78000000e+02, 3.91000000e+02, 1.71540843e+00, 8.00000000e+00],\n",
       "       [3.32000000e+02, 4.02000000e+02, 1.72355630e+00, 9.00000000e+00],\n",
       "       [3.42000000e+02, 4.16000000e+02, 1.83848238e+00, 6.00000000e+00],\n",
       "       [1.29000000e+02, 4.00000000e+02, 1.85638662e+00, 4.00000000e+00],\n",
       "       [3.87000000e+02, 4.15000000e+02, 1.99233039e+00, 6.00000000e+00],\n",
       "       [3.81000000e+02, 4.11000000e+02, 1.99261832e+00, 4.00000000e+00],\n",
       "       [3.72000000e+02, 4.12000000e+02, 1.99444232e+00, 5.00000000e+00],\n",
       "       [3.34000000e+02, 3.83000000e+02, 2.00298700e+00, 7.00000000e+00],\n",
       "       [3.70000000e+02, 3.71000000e+02, 2.08509807e+00, 4.00000000e+00],\n",
       "       [3.93000000e+02, 4.32000000e+02, 2.15643487e+00, 7.00000000e+00],\n",
       "       [3.49000000e+02, 3.82000000e+02, 2.17529239e+00, 8.00000000e+00],\n",
       "       [3.63000000e+02, 3.99000000e+02, 2.25258079e+00, 1.00000000e+01],\n",
       "       [3.64000000e+02, 3.73000000e+02, 2.28196708e+00, 4.00000000e+00],\n",
       "       [3.46000000e+02, 4.37000000e+02, 2.31460924e+00, 7.00000000e+00],\n",
       "       [1.59000000e+02, 2.25000000e+02, 2.33031342e+00, 2.00000000e+00],\n",
       "       [1.80000000e+02, 4.05000000e+02, 2.33066398e+00, 5.00000000e+00],\n",
       "       [3.75000000e+02, 4.17000000e+02, 2.33394006e+00, 7.00000000e+00],\n",
       "       [4.08000000e+02, 4.20000000e+02, 2.33905635e+00, 6.00000000e+00],\n",
       "       [3.57000000e+02, 3.90000000e+02, 2.36576581e+00, 9.00000000e+00],\n",
       "       [3.85000000e+02, 3.97000000e+02, 2.44816583e+00, 8.00000000e+00],\n",
       "       [2.22000000e+02, 3.79000000e+02, 2.45595368e+00, 5.00000000e+00],\n",
       "       [3.19000000e+02, 3.89000000e+02, 2.48593041e+00, 6.00000000e+00],\n",
       "       [3.84000000e+02, 4.29000000e+02, 2.50360980e+00, 1.20000000e+01],\n",
       "       [1.71000000e+02, 4.44000000e+02, 2.56801751e+00, 6.00000000e+00],\n",
       "       [3.94000000e+02, 4.30000000e+02, 2.65885468e+00, 1.30000000e+01],\n",
       "       [2.10000000e+01, 4.34000000e+02, 2.78408993e+00, 5.00000000e+00],\n",
       "       [3.88000000e+02, 4.40000000e+02, 2.80031116e+00, 1.50000000e+01],\n",
       "       [3.96000000e+02, 4.07000000e+02, 2.95047793e+00, 9.00000000e+00],\n",
       "       [4.03000000e+02, 4.23000000e+02, 2.95690237e+00, 1.20000000e+01],\n",
       "       [2.97000000e+02, 4.21000000e+02, 2.95762074e+00, 1.20000000e+01],\n",
       "       [3.55000000e+02, 4.24000000e+02, 2.98112741e+00, 8.00000000e+00],\n",
       "       [3.92000000e+02, 4.36000000e+02, 3.17716148e+00, 1.20000000e+01],\n",
       "       [4.18000000e+02, 4.27000000e+02, 3.21364997e+00, 1.10000000e+01],\n",
       "       [4.39000000e+02, 4.47000000e+02, 3.23112000e+00, 1.70000000e+01],\n",
       "       [4.06000000e+02, 4.59000000e+02, 3.41990898e+00, 1.30000000e+01],\n",
       "       [4.43000000e+02, 4.56000000e+02, 3.60467548e+00, 1.10000000e+01],\n",
       "       [4.14000000e+02, 4.31000000e+02, 3.71010956e+00, 1.10000000e+01],\n",
       "       [4.13000000e+02, 4.54000000e+02, 3.82312755e+00, 1.10000000e+01],\n",
       "       [4.19000000e+02, 4.33000000e+02, 3.89139350e+00, 1.10000000e+01],\n",
       "       [4.26000000e+02, 4.45000000e+02, 3.92696420e+00, 1.50000000e+01],\n",
       "       [2.89000000e+02, 4.50000000e+02, 3.97204675e+00, 8.00000000e+00],\n",
       "       [4.25000000e+02, 4.35000000e+02, 4.05128477e+00, 7.00000000e+00],\n",
       "       [6.80000000e+01, 4.41000000e+02, 4.16363938e+00, 5.00000000e+00],\n",
       "       [4.22000000e+02, 4.64000000e+02, 4.52409603e+00, 1.90000000e+01],\n",
       "       [1.00000000e+02, 3.28000000e+02, 4.83541553e+00, 4.00000000e+00],\n",
       "       [4.28000000e+02, 4.49000000e+02, 5.06862304e+00, 7.00000000e+00],\n",
       "       [4.51000000e+02, 4.57000000e+02, 5.73396169e+00, 2.40000000e+01],\n",
       "       [4.46000000e+02, 4.55000000e+02, 5.93611674e+00, 2.10000000e+01],\n",
       "       [4.38000000e+02, 4.42000000e+02, 6.00328240e+00, 1.40000000e+01],\n",
       "       [4.61000000e+02, 4.73000000e+02, 6.37397328e+00, 1.50000000e+01],\n",
       "       [4.53000000e+02, 4.58000000e+02, 6.59759352e+00, 2.50000000e+01],\n",
       "       [2.30000000e+02, 4.48000000e+02, 7.03848122e+00, 9.00000000e+00],\n",
       "       [4.60000000e+02, 4.76000000e+02, 7.03931385e+00, 3.30000000e+01],\n",
       "       [4.52000000e+02, 4.65000000e+02, 7.08515701e+00, 1.70000000e+01],\n",
       "       [4.70000000e+02, 4.75000000e+02, 8.24102105e+00, 3.10000000e+01],\n",
       "       [4.69000000e+02, 4.78000000e+02, 8.28975399e+00, 2.30000000e+01],\n",
       "       [4.62000000e+02, 4.72000000e+02, 8.59109983e+00, 3.60000000e+01],\n",
       "       [4.63000000e+02, 4.77000000e+02, 9.17885181e+00, 2.70000000e+01],\n",
       "       [4.66000000e+02, 4.71000000e+02, 9.32125571e+00, 1.60000000e+01],\n",
       "       [4.67000000e+02, 4.79000000e+02, 9.60527140e+00, 3.60000000e+01],\n",
       "       [4.74000000e+02, 4.82000000e+02, 1.01428607e+01, 2.40000000e+01],\n",
       "       [4.68000000e+02, 4.81000000e+02, 1.30670830e+01, 4.80000000e+01],\n",
       "       [4.80000000e+02, 4.83000000e+02, 1.35953624e+01, 4.00000000e+01],\n",
       "       [4.85000000e+02, 4.91000000e+02, 1.70510652e+01, 7.60000000e+01],\n",
       "       [4.84000000e+02, 4.86000000e+02, 1.70898564e+01, 5.00000000e+01],\n",
       "       [4.87000000e+02, 4.90000000e+02, 1.86342090e+01, 6.40000000e+01],\n",
       "       [4.88000000e+02, 4.94000000e+02, 1.89294521e+01, 1.00000000e+02],\n",
       "       [4.89000000e+02, 4.92000000e+02, 2.31996575e+01, 1.00000000e+02],\n",
       "       [4.93000000e+02, 4.96000000e+02, 8.64831747e+01, 1.50000000e+02],\n",
       "       [4.95000000e+02, 4.97000000e+02, 2.22560033e+02, 2.50000000e+02]])"
      ]
     },
     "execution_count": 118,
     "metadata": {},
     "output_type": "execute_result"
    }
   ],
   "source": [
    "Z\n",
    "\n",
    "# Observation:\n",
    "# First few iterations merged 1+1=2 elements to form new cluster\n",
    "# last iteration has all elements=250 to form new and final cluster"
   ]
  },
  {
   "cell_type": "markdown",
   "metadata": {},
   "source": [
    "### 12. Plot the dendrogram for the consolidated dataframe"
   ]
  },
  {
   "cell_type": "code",
   "execution_count": 135,
   "metadata": {},
   "outputs": [
    {
     "data": {
      "image/png": "[encoded data removed]",
      "text/plain": [
       "<Figure size 3600x1440 with 1 Axes>"
      ]
     },
     "metadata": {
      "needs_background": "light"
     },
     "output_type": "display_data"
    }
   ],
   "source": [
    "plt.figure(figsize=(50,20))\n",
    "plt.title('Heirarchical clustering dendrogram')\n",
    "plt.xlabel(\"Element index\")\n",
    "plt.ylabel(\"Distance\")\n",
    "dendrogram(Z, \n",
    "           distance_sort=False,    \n",
    "           leaf_rotation=70.,  # rotates the x axis labels\n",
    "           leaf_font_size=8.,  # font size for the x axis labels\n",
    "        )\n",
    "plt.show()"
   ]
  },
  {
   "cell_type": "markdown",
   "metadata": {},
   "source": [
    "### 13. Recreate the dendrogram for last 12 merged clusters "
   ]
  },
  {
   "cell_type": "code",
   "execution_count": 141,
   "metadata": {},
   "outputs": [
    {
     "data": {
      "image/png": "[encoded data removed]",
      "text/plain": [
       "<Figure size 1800x1080 with 1 Axes>"
      ]
     },
     "metadata": {
      "needs_background": "light"
     },
     "output_type": "display_data"
    }
   ],
   "source": [
    "plt.figure(figsize=(25,15))\n",
    "plt.title('Heirarchical clustering dendrogram')\n",
    "plt.xlabel(\"Element index\")\n",
    "plt.ylabel(\"Distance\")\n",
    "dendrogram(Z, \n",
    "           distance_sort=False,    \n",
    "           leaf_rotation=70.,  # rotates the x axis labels\n",
    "           leaf_font_size=8.,  # font size for the x axis labels\n",
    "           truncate_mode='lastp'\n",
    "        )\n",
    "plt.show()"
   ]
  },
  {
   "cell_type": "markdown",
   "metadata": {},
   "source": [
    "### 14. From the truncated dendrogram, find out the optimal distance between clusters which u want to use an input for clustering data"
   ]
  },
  {
   "cell_type": "code",
   "execution_count": 142,
   "metadata": {},
   "outputs": [],
   "source": [
    "# If we use optimal distance as 50, we should get 3 clean clusters.\n",
    "optimal_distance = 50"
   ]
  },
  {
   "cell_type": "markdown",
   "metadata": {},
   "source": [
    "### 15. Using this distance measure and fcluster function to cluster the data into 3 different groups"
   ]
  },
  {
   "cell_type": "code",
   "execution_count": 148,
   "metadata": {},
   "outputs": [
    {
     "data": {
      "text/plain": [
       "array([1, 1, 1, 1, 1, 1, 1, 1, 1, 1, 1, 1, 1, 1, 1, 1, 1, 1, 1, 1, 1, 1,\n",
       "       1, 1, 1, 1, 1, 1, 1, 1, 1, 1, 1, 1, 1, 1, 1, 1, 1, 1, 1, 1, 1, 1,\n",
       "       1, 1, 1, 1, 1, 1, 1, 1, 1, 1, 1, 1, 1, 1, 1, 1, 1, 1, 1, 1, 1, 1,\n",
       "       1, 1, 1, 1, 1, 1, 1, 1, 1, 1, 1, 1, 1, 1, 1, 1, 1, 1, 1, 1, 1, 1,\n",
       "       1, 1, 1, 1, 1, 1, 1, 1, 1, 1, 1, 1, 2, 2, 2, 2, 2, 2, 2, 2, 2, 2,\n",
       "       2, 2, 2, 2, 2, 2, 2, 2, 2, 2, 2, 2, 2, 2, 2, 2, 2, 2, 2, 2, 2, 2,\n",
       "       2, 2, 2, 2, 2, 2, 2, 2, 2, 2, 2, 2, 2, 2, 2, 2, 2, 2, 3, 3, 3, 3,\n",
       "       3, 3, 3, 3, 3, 3, 3, 3, 3, 3, 3, 3, 3, 3, 3, 3, 3, 3, 3, 3, 3, 3,\n",
       "       3, 3, 3, 3, 3, 3, 3, 3, 3, 3, 3, 3, 3, 3, 3, 3, 3, 3, 3, 3, 3, 3,\n",
       "       3, 3, 3, 3, 3, 3, 3, 3, 3, 3, 3, 3, 3, 3, 3, 3, 3, 3, 3, 3, 3, 3,\n",
       "       3, 3, 3, 3, 3, 3, 3, 3, 3, 3, 3, 3, 3, 3, 3, 3, 3, 3, 3, 3, 3, 3,\n",
       "       3, 3, 3, 3, 3, 3, 3, 3], dtype=int32)"
      ]
     },
     "execution_count": 148,
     "metadata": {},
     "output_type": "execute_result"
    }
   ],
   "source": [
    "clusters = fcluster(Z, optimal_distance, criterion='distance')\n",
    "clusters # cluster-id for each element index for all 250 elements in Z. eg. it has assinged cluster=1 for element=0 "
   ]
  },
  {
   "cell_type": "code",
   "execution_count": 158,
   "metadata": {},
   "outputs": [
    {
     "data": {
      "text/plain": [
       "{1: 100, 2: 50, 3: 100}"
      ]
     },
     "execution_count": 158,
     "metadata": {},
     "output_type": "execute_result"
    }
   ],
   "source": [
    "unique, counts = np.unique(clusters, return_counts=True)\n",
    "dict(zip(unique, counts)) ## shows cluster -1 has 100, cluster-2 has 50 and cluster -3 has 100 elements"
   ]
  },
  {
   "cell_type": "markdown",
   "metadata": {},
   "source": [
    "### Use matplotlib to visually observe the clusters in 2D space "
   ]
  },
  {
   "cell_type": "code",
   "execution_count": 165,
   "metadata": {},
   "outputs": [
    {
     "data": {
      "text/plain": [
       "<matplotlib.collections.PathCollection at 0x2599f270320>"
      ]
     },
     "execution_count": 165,
     "metadata": {},
     "output_type": "execute_result"
    },
    {
     "data": {
      "image/png": "[encoded data removed]",
      "text/plain": [
       "<Figure size 720x720 with 1 Axes>"
      ]
     },
     "metadata": {
      "needs_background": "light"
     },
     "output_type": "display_data"
    }
   ],
   "source": [
    "plt.figure(figsize=(10,10))\n",
    "plt.title(\"Clusters in 2D space\")\n",
    "plt.xlabel(\"X\")\n",
    "plt.ylabel(\"Y\")\n",
    "plt.scatter(X[:,0], X[:,1], c=clusters,  cmap='rainbow')"
   ]
  }
 ],
 "metadata": {
  "kernelspec": {
   "display_name": "Python 3",
   "language": "python",
   "name": "python3"
  },
  "language_info": {
   "codemirror_mode": {
    "name": "ipython",
    "version": 3
   },
   "file_extension": ".py",
   "mimetype": "text/x-python",
   "name": "python",
   "nbconvert_exporter": "python",
   "pygments_lexer": "ipython3",
   "version": "3.7.1"
  }
 },
 "nbformat": 4,
 "nbformat_minor": 2
}
