{
 "cells": [
  {
   "cell_type": "markdown",
   "metadata": {},
   "source": [
    "## Central Limit Theorem, Setting up of confidence intervals, Setting up hypothesis "
   ]
  },
  {
   "cell_type": "code",
   "execution_count": 45,
   "metadata": {},
   "outputs": [],
   "source": [
    "import  scipy.stats                     as  stats\n",
    "import  numpy                           as  np"
   ]
  },
  {
   "cell_type": "markdown",
   "metadata": {},
   "source": [
    "### Example 1"
   ]
  },
  {
   "cell_type": "markdown",
   "metadata": {},
   "source": [
    "A sample of 100 diabetic patients was chosen to estimate the length of stay at a local hospital. \n",
    "The sample was 4.5 days and the population standard deviation was known to be 1.2 days.\n",
    "\n",
    "* a) Calculate the 95% confidence interval for the population mean.\n",
    "* b) What is the probability that the population mean is greater than 4.73 days?"
   ]
  },
  {
   "cell_type": "code",
   "execution_count": 52,
   "metadata": {},
   "outputs": [
    {
     "name": "stdout",
     "output_type": "stream",
     "text": [
      "95 % confidence interval for population mean is 4.2648  to 4.7352\n",
      "95 % confidence interval for population mean is 4.2648  to 4.7352\n"
     ]
    }
   ],
   "source": [
    "#[A] Method 1 : Manual Calculation\n",
    "#--------------------------------\n",
    "\n",
    "Xbar  = 4.5 \n",
    "sigma = 1.2\n",
    "n     = 100\n",
    "se    = sigma / np.sqrt(n)\n",
    "ci = 0.95\n",
    "\n",
    "zcrit = np.round(stats.norm.isf((1-ci)/2),2)\n",
    "\n",
    "Lower_Interval = Xbar - (zcrit * se) #Lower_Interval = Xbar - (1.96 * se)\n",
    "Upper_Interval = Xbar + (zcrit * se) #Upper_Interval = Xbar + (1.96 * se)\n",
    "\n",
    "print('95 %s confidence interval for population mean is %1.4f  to %1.4f' % ('%', Lower_Interval , Upper_Interval))\n",
    "\n",
    "#[B] Method 2 : stats.norm.interval() method\n",
    "#-------------------------------------------\n",
    "\n",
    "\n",
    "se  = sigma / np.sqrt(n)\n",
    "LCI, UCI = stats.norm.interval(ci, loc = Xbar, scale = se) # Give confidence interval 95%, mean and std as arguments to get CI\n",
    "print('95 %s confidence interval for population mean is %1.4f  to %1.4f' % ('%', LCI , UCI))\n"
   ]
  },
  {
   "cell_type": "code",
   "execution_count": 35,
   "metadata": {},
   "outputs": [
    {
     "name": "stdout",
     "output_type": "stream",
     "text": [
      "Probability that the population mean is greater than 4.73 days 0.0276\n"
     ]
    }
   ],
   "source": [
    "Zbar = (4.73 - Xbar) / se\n",
    "P = stats.norm.sf(Zbar) # P = 1- stats.norm.cdf(Zbar)\n",
    "print('Probability that the population mean is greater than 4.73 days %1.4f' % P)"
   ]
  },
  {
   "cell_type": "markdown",
   "metadata": {},
   "source": [
    "### Example 2"
   ]
  },
  {
   "cell_type": "markdown",
   "metadata": {},
   "source": [
    "Hindustan Pencils Pvt. Ltd. is an Indian manufacturer of pencils, writing materials and other stationery items, established in 1958 in Mumbai. Nataraj brand of pencils manufactured by the company is expected to have a mean length of 172 mm and the standard deviation of the length is 0.02 mm.\n",
    "\n",
    "To ensure quality, a sample is selected at periodic intervals to determine whether the length is still 172 mm and other dimensions of the pencil meet the quality standards set by the company.\n",
    "\n",
    "You select a random sample of 100 pencils and the mean is 170 mm. \n",
    "\n",
    "Construct a 95% confidence interval for the pencil length."
   ]
  },
  {
   "cell_type": "markdown",
   "metadata": {},
   "source": [
    "### Solution"
   ]
  },
  {
   "cell_type": "code",
   "execution_count": 44,
   "metadata": {},
   "outputs": [
    {
     "name": "stdout",
     "output_type": "stream",
     "text": [
      "0.002\n",
      "95%onfidence interval for pencil length is : 169.9961 to 170.0039\n"
     ]
    }
   ],
   "source": [
    "mu = 172\n",
    "sigma = 0.02\n",
    "n = 100\n",
    "xbar = 170interval\n",
    "\n",
    "se = sigma/np.sqrt(n)\n",
    "LCI, UCI = stats.norm.interval(ci, loc = xbar, scale = se)\n",
    "\n",
    "print('95% confidence interval for pencil length is : %.4f to %.4f' %('%', LCI, UCI))\n"
   ]
  },
  {
   "cell_type": "markdown",
   "metadata": {},
   "source": [
    "## Example 3"
   ]
  },
  {
   "cell_type": "markdown",
   "metadata": {},
   "source": [
    "Construct a 99% confidence interval for the following examples given above:\n",
    "* a. Example 1\n",
    "* b. Example 2"
   ]
  },
  {
   "cell_type": "code",
   "execution_count": 72,
   "metadata": {},
   "outputs": [
    {
     "name": "stdout",
     "output_type": "stream",
     "text": [
      "99 % confidence interval for population mean is 4.1904  to 4.8096\n",
      "\n",
      "169.99484    170.00516\n",
      "169.9948    170.0052\n"
     ]
    }
   ],
   "source": [
    "# a. Example 1 - 99% Confidence interval\n",
    "\n",
    "ci = 0.99\n",
    "Xbar  = 4.5 \n",
    "sigma = 1.2\n",
    "n     = 100\n",
    "se    = sigma / np.sqrt(n)\n",
    "\n",
    "zcrit = np.round(stats.norm.isf((1-ci)/2),2)\n",
    "\n",
    "Lower_Interval = Xbar - (zcrit * se)\n",
    "Upper_Interval = Xbar + (zcrit * se)\n",
    "\n",
    "print('99 %s confidence interval for population mean is %1.4f  to %1.4f' % ('%', Lower_Interval , Upper_Interval))\n",
    "\n",
    "# b. Example 2 - 99% Confidence interval\n",
    "\n",
    "mu = 172\n",
    "sigma = 0.02\n",
    "n = 100\n",
    "xbar = 170\n",
    "\n",
    "se = sigma/np.sqrt(n)\n",
    "\n",
    "zcrit = np.round(stats.norm.isf((1-ci)/2),2)\n",
    "\n",
    "Lower_Interval = xbar - (zcrit * se)\n",
    "Upper_Interval = xbar + (zcrit * se)\n",
    "LCI, UCI = np.round(stats.norm.interval(ci, loc=xbar, scale=se),4)\n",
    "\n",
    "print()\n",
    "print(Lower_Interval, '  ',Upper_Interval )\n",
    "print(LCI, '  ',UCI)\n"
   ]
  },
  {
   "cell_type": "markdown",
   "metadata": {},
   "source": [
    "## Confidence interval for population mean when standard deviation is unknown"
   ]
  },
  {
   "cell_type": "markdown",
   "metadata": {},
   "source": [
    "**We observe that the values of t and Z converge for higher degrees of freedom.**"
   ]
  },
  {
   "cell_type": "markdown",
   "metadata": {},
   "source": [
    "### Example 4"
   ]
  },
  {
   "cell_type": "markdown",
   "metadata": {},
   "source": [
    "The following table contains the length of stay in minutes of each customer at a Fast Food restaurant.\n",
    "\n",
    "|      |      |      |      |      |\n",
    "| ---  | ---  | ---  | ---  | ---  |\n",
    "| 7.42 | 6.29 | 5.83 | 6.50 | 8.34 |\n",
    "| 9.51 | 7.10 | 6.80 | 5.90 | 4.89 |\n",
    "| 6.50 | 5.52 | 7.90 | 8.30 | 9.60 |\n",
    "\n",
    "* a. *Construct 95% confidence interval estimate for the population mean length of stay at Fast Food restaurant, assuming a normal distribution.*\n",
    "* b. *Interpret the interval constructed at a.*"
   ]
  },
  {
   "cell_type": "code",
   "execution_count": 94,
   "metadata": {},
   "outputs": [
    {
     "name": "stdout",
     "output_type": "stream",
     "text": [
      "a. 95s% confidence interval for population mean is 6.3147  to 7.8720\n",
      "\n",
      "b. You can be 95% confident that the mean length of stay at a Fast Food restaurant lies between 6.3147 minutes to 7.8720 minutes.\n"
     ]
    }
   ],
   "source": [
    "L = [7.42, 6.29, 5.83, 6.50, 8.34, 9.51, 7.10, \\\n",
    "     6.80, 5.90, 4.89, 6.50, 5.52, 7.90, 8.30, 9.60]\n",
    "lengthStay = np.array(L)\n",
    "#sample statistics\n",
    "xbar        = lengthStay.mean(axis = 0)\n",
    "S         = np.std(lengthStay,ddof = 1)\n",
    "# Here ddof modifies the divisor of the sum of the squares of the samples-minus-mean\n",
    "\n",
    "n      = 15\n",
    "SL_2   = 0.025\n",
    "deg_fr = n - 1\n",
    "se = S/np.sqrt(n)\n",
    "\n",
    "tcrit = np.abs(round(stats.t.isf( (SL_2), deg_fr),4))\n",
    "LCI         = xbar - (tcrit * se)\n",
    "UCI         = xbar + (tcrit * se)\n",
    "print('a. 95s%s confidence interval for population mean is %1.4f  to %1.4f' % ('%', LCI , UCI))\n",
    "print()\n",
    "print('b. You can be 95%s confident that the mean length of stay at a Fast Food restaurant lies between %.4f minutes to %.4f minutes.'%('%', LCI, UCI))"
   ]
  },
  {
   "cell_type": "markdown",
   "metadata": {},
   "source": [
    "### Another method using scipy.stats"
   ]
  },
  {
   "cell_type": "code",
   "execution_count": 95,
   "metadata": {},
   "outputs": [
    {
     "name": "stdout",
     "output_type": "stream",
     "text": [
      "a. 95 % confidence interval for population mean is 6.3147  to 7.8720\n",
      "\n",
      "b. You can be 95% confident that the mean length of stay at a Fast Food restaurant lies between 6.3147 minutes to 7.8720 minutes.\n"
     ]
    }
   ],
   "source": [
    "alpha       = 0.95\n",
    "LCI, UCI    = stats.t.interval(alpha, deg_fr, xbar, se)\n",
    "print('a. 95 %s confidence interval for population mean is %1.4f  to %1.4f' % ('%', LCI , UCI))\n",
    "print()\n",
    "print('b. You can be 95%s confident that the mean length of stay at a Fast Food restaurant lies between %.4f minutes to %.4f minutes.'%('%', LCI, UCI))"
   ]
  },
  {
   "cell_type": "markdown",
   "metadata": {
    "collapsed": true
   },
   "source": [
    "## Example 5"
   ]
  },
  {
   "cell_type": "markdown",
   "metadata": {},
   "source": [
    "Time taken to resolve a customer complaints in days of 100 customers in a Service Organization is given below:"
   ]
  },
  {
   "cell_type": "markdown",
   "metadata": {},
   "source": [
    " |      |      |      |      |      |      |      |      |      |      |\n",
    " | ---  | ---- | ---- | ---- | ---- | ---- | ---- | ---- | ---- | ---- |\n",
    " | 2.50 | 3.26 | 2.79 | 3.74 | 5.60 | 3.24 | 3.65 | 3.91 | 4.35 | 3.35 |\n",
    " | 5.67 | 5.38 | 3.54 | 5.10 | 3.66 | 3.01 | 3.96 | 4.98 | 4.56 | 5.00 |\n",
    " | 5.03 | 5.29 | 4.91 | 4.63 | 2.94 | 3.82 | 4.76 | 2.24 | 4.25 | 3.45 |\n",
    " | 3.14 | 4.64 | 4.56 | 4.61 | 2.68 | 3.61 | 5.46 | 2.83 | 4.84 | 4.31 |\n",
    " | 2.98 | 3.90 | 4.45 | 3.62 | 6.15 | 4.04 | 5.19 | 4.63 | 2.78 | 2.95 |\n",
    " | 3.65 | 4.49 | 3.52 | 4.07 | 4.16 | 5.56 | 2.69 | 6.69 | 1.26 | 3.14 |\n",
    " | 4.71 | 4.80 | 3.41 | 3.18 | 4.64 | 4.23 | 4.36 | 3.94 | 3.81 | 4.26 |\n",
    " | 2.92 | 2.87 | 2.08 | 3.09 | 3.60 | 2.93 | 3.85 | 4.66 | 4.70 | 3.61 |\n",
    " | 5.59 | 3.39 | 3.13 | 4.14 | 4.23 | 4.25 | 4.12 | 5.95 | 4.76 | 4.96 |\n",
    " | 2.27 | 3.77 | 5.25 | 3.05 | 3.20 | 5.22 | 3.84 | 2.24 | 4.75 | 3.07 |\n"
   ]
  },
  {
   "cell_type": "markdown",
   "metadata": {},
   "source": [
    "* a. *Construct 95% confidence interval estimate for the population mean days to resolve customer complaints,\n",
    "      assuming a normal distribution.*\n",
    "* b. *Interpret the interval constructed at a.*\n",
    "\n",
    "**Hint**\n",
    "\n",
    "* 1) Use the following code to obtain the NumPy array, resolvedDays to solve this problem."
   ]
  },
  {
   "cell_type": "code",
   "execution_count": 108,
   "metadata": {},
   "outputs": [
    {
     "name": "stdout",
     "output_type": "stream",
     "text": [
      "1.9842\n",
      "a. 95 % confidence interval for population mean is 3.8016  to 4.1984\n",
      "\n",
      "b. 95 % confidence interval for population mean is 3.8016  to 4.1984\n"
     ]
    }
   ],
   "source": [
    "resolved_in_days = [2.50, 3.26, 2.79, 3.74, 5.60, 3.24, 3.65, 3.91, 4.35, 3.35,\\\n",
    "5.67, 5.38, 3.54, 5.10, 3.66, 3.01, 3.96, 4.98, 4.56, 5.00,\\\n",
    "5.03, 5.29, 4.91, 4.63, 2.94, 3.82, 4.76, 2.24, 4.25, 3.45,\\\n",
    "3.14, 4.64, 4.56, 4.61, 2.68, 3.61, 5.46, 2.83, 4.84, 4.31,\\\n",
    "2.98, 3.90, 4.45, 3.62, 6.15, 4.04, 5.19, 4.63, 2.78, 2.95,\\\n",
    "3.65, 4.49, 3.52, 4.07, 4.16, 5.56, 2.69, 6.69, 1.26, 3.14,\\\n",
    "4.71, 4.80, 3.41, 3.18, 4.64, 4.23, 4.36, 3.94, 3.81, 4.26,\\\n",
    "2.92, 2.87, 2.08, 3.09, 3.60, 2.93, 3.85, 4.66, 4.70, 3.61,\\\n",
    "5.59, 3.39, 3.13, 4.14, 4.23, 4.25, 4.12, 5.95, 4.76, 4.96,\\\n",
    "2.27, 3.77, 5.25, 3.05, 3.20, 5.22, 3.84, 2.24, 4.75, 3.07]\n",
    "\n",
    "resolvedDays = np.array(resolved_in_days)\n",
    "\n",
    "xbar = resolvedDays.mean()\n",
    "S = resolvedDays.std(ddof=1)\n",
    "n = len(resolvedDays)\n",
    "se = S/np.sqrt(n)\n",
    "deg_fr = n-1\n",
    "alpha = 0.05\n",
    "\n",
    "tcrit = np.abs(round(stats.t.isf( (alpha/2), deg_fr),4))\n",
    "print(tcrit)\n",
    "LCI = xbar - (tcrit * se)\n",
    "UCI = xbar + (tcrit * se)\n",
    "\n",
    "print('a. 95 %s confidence interval for population mean is %1.4f  to %1.4f' % ('%', LCI , UCI))\n",
    "print()\n",
    "alpha       = 0.95\n",
    "LCI, UCI    = stats.t.interval(alpha, deg_fr, xbar, se)\n",
    "print('b. 95 %s confidence interval for population mean is %1.4f  to %1.4f' % ('%', LCI , UCI))\n",
    "\n"
   ]
  },
  {
   "cell_type": "markdown",
   "metadata": {
    "collapsed": true
   },
   "source": [
    "### Example 6\n",
    "\n",
    "A beverages company produces mineral water and available in 250 ml, 500 ml, 1 litre and 2 litre bottles, 5 litre, 15 litre and 20 litre jars.\n",
    "Let us consider 2 litre bottles. Company specification require a mean volume of 2 litre per bottle.\n",
    "You must adjust the water filling process when the mean volume in the population of bottles differs from 2 litres. Adjusting the process requires shutting down the water filling production line completely, so you do not want to make any adjustments without any reason unnecessarily.\n",
    "\n",
    "Assume a sample of 50 water bottles indicate a sample mean, $\\overline{X}$ of 2.001 litres and the population standard deviation, $\\sigma$ is 15 ml."
   ]
  },
  {
   "cell_type": "code",
   "execution_count": 35,
   "metadata": {
    "scrolled": true
   },
   "outputs": [
    {
     "name": "stdout",
     "output_type": "stream",
     "text": [
      "Z score of the sample mean is :  0.4714045207909798\n",
      "\n",
      "Non-rejection region for Ho is between  1.9599639845400545  and  -1.9599639845400545\n",
      "\n",
      "Critical region (rejection region for Ho) is ->\n",
      "> 1.9599639845400545 \n",
      "and\n",
      " < -1.9599639845400545\n",
      "\n",
      "Does the sample mean fall into the rejection region ? :  No\n",
      "Should we reject null hypothesis - Ho? :  No\n",
      "\n",
      "p-value is :  0.6373518882339742\n",
      "Is p-value < alpha(Should we reject Ho )? :  No\n"
     ]
    }
   ],
   "source": [
    "#null hypothesis - Ho = 'mean volume in the population of 2 ltr bottle is 2 ltr'\n",
    "#alternate hypothesis - Ha = 'mean volume in the population of 2 ltr bottle is not 2 ltr'\n",
    "\n",
    "mu = 2\n",
    "sigma = 0.015\n",
    "n = 50\n",
    "xbar = 2.001\n",
    "alpha = 0.05\n",
    "\n",
    "se = sigma/np.sqrt(n)\n",
    "zscore = (xbar-mu)/se\n",
    "print('Z score of the sample mean is : ', zscore)\n",
    "\n",
    "cu = stats.norm.isf(0.025)\n",
    "cl = stats.norm.ppf(0.025)\n",
    "\n",
    "print('\\nNon-rejection region for Ho is between ', cu, ' and ', cl)\n",
    "print('\\nCritical region (rejection region for Ho) is ->')\n",
    "print('>', cu , '\\nand\\n <',cl)\n",
    "\n",
    "critical_region = (( xbar <= cu ) and ( xbar >= cl))\n",
    "   \n",
    "print('\\nDoes the sample mean fall into the rejection region ? : ', 'Yes' if(critical_region==True) else 'No')\n",
    "print('Should we reject null hypothesis - Ho? : ', 'Yes' if(critical_region==True) else 'No')\n",
    "\n",
    "pvalue = 2*(1-stats.norm.cdf(xbar, loc=mu, scale=se))\n",
    "print('\\np-value is : ', pvalue)\n",
    "print('Is p-value < alpha(Should we reject Ho )? : ','Yes' if(pvalue < alpha) else 'No' )"
   ]
  },
  {
   "cell_type": "markdown",
   "metadata": {},
   "source": [
    "### Example 7"
   ]
  },
  {
   "cell_type": "markdown",
   "metadata": {},
   "source": [
    "In a bank, the average time taken for getting a demand draft or bankers cheque is 15 minutes.\n",
    "From the past experience, you can assume that the population is normally distributed with a population standard deviation of 1.6 minutes. \n",
    "\n",
    "You select a sample of 50 requests for demand drafts and the sample mean is 14 minutes.\n",
    "\n",
    "#### Use the five step approach listed above to deteremine whether there is evidence at a 5% level of significance that the population mean service time to get the demand draft has changed from the population mean of 15 minutes. "
   ]
  },
  {
   "cell_type": "code",
   "execution_count": 56,
   "metadata": {
    "scrolled": false
   },
   "outputs": [
    {
     "name": "stdout",
     "output_type": "stream",
     "text": [
      "Zscore for the xbar is :  -4.419417382415922\n",
      "\n",
      "Acceptance region for H1 lies between :  -1.9599639845400545  and  1.9599639845400545\n",
      "\n",
      "Should we reject H0(Based on z-value test)? :  Yes\n",
      "\n",
      "P-value for xbar is :  9.896734625245587e-06\n",
      "\n",
      "Should we reject H0(Based on p-value test)? :  Yes\n"
     ]
    }
   ],
   "source": [
    "# H0 = population mean is 15 minutes\n",
    "# H1 = population mean is NOT 15 minutes\n",
    "\n",
    "mu = 15\n",
    "sigma = 1.6\n",
    "n = 50\n",
    "xbar = 14\n",
    "alpha = 0.05\n",
    "\n",
    "se = sigma/np.sqrt(n)\n",
    "zscore = (xbar-mu)/se\n",
    "print('Zscore for the xbar is : ', zscore)\n",
    "\n",
    "cu = stats.norm.isf(0.025)\n",
    "cl = stats.norm.ppf(0.025)\n",
    "\n",
    "print('\\nAcceptance region for H1 lies between : ', cl, ' and ', cu)\n",
    "rejection_region = not((cu >= zscore ) and (cl <= zscore ))\n",
    "print('\\nShould we reject H0(Based on z-value test)? : ', np.where(rejection_region, 'Yes','No'))\n",
    "\n",
    "p_value = stats.norm.cdf(xbar, loc=mu, scale=se)* 2\n",
    "print('\\nP-value for xbar is : ', p_value)\n",
    "reject = (p_value <= alpha)\n",
    "print('\\nShould we reject H0(Based on p-value test)? : ', np.where(reject,'Yes', 'No'))\n"
   ]
  },
  {
   "cell_type": "markdown",
   "metadata": {
    "collapsed": true
   },
   "source": [
    "### Example 8:\n",
    "\n",
    "A manufacturer claims that the mean lifetime of LED lamp is more than 50000 hours. Assume actual mean LED lamp lifetime is 49950 hours and population standard deviation is 120 hours. \n",
    "\n",
    "At 5% level of significance, what is the probability of having type II error for a sample size of 30 LED lamps?\n",
    "\n",
    "* Ho > 50000 hours\n",
    "* H1 <= 50000 hours\n",
    "* We need to find the P(Population mean $\\geq$ 49950  | $H_A$ is true)"
   ]
  },
  {
   "cell_type": "code",
   "execution_count": 109,
   "metadata": {},
   "outputs": [
    {
     "data": {
      "text/plain": [
       "0.011239436683062633"
      ]
     },
     "execution_count": 109,
     "metadata": {},
     "output_type": "execute_result"
    }
   ],
   "source": [
    "# Type II error -> accepting H0 when H0 is false\n",
    "\n",
    "mu = 50000\n",
    "sigma = 120\n",
    "xbar = 49950\n",
    "n = 30\n",
    "apha = 0.05\n",
    "\n",
    "se = sigma/np.sqrt(n)\n",
    "\n"
   ]
  },
  {
   "cell_type": "code",
   "execution_count": 127,
   "metadata": {},
   "outputs": [
    {
     "name": "stdout",
     "output_type": "stream",
     "text": [
      "49964\n"
     ]
    }
   ],
   "source": [
    "n         = 30    # sample size\n",
    "sigma     = 120  # population standard deviation\n",
    "se      = sigma / np.sqrt(n) # Standard Error\n",
    "\n",
    "alpha     = 0.05     # significance level\n",
    "mu0       = 50000 #  hypothetical lower bound\n",
    "q         = int(round(stats.norm.isf(1-alpha, loc = mu0, scale = se),0))\n",
    "print(q)"
   ]
  },
  {
   "cell_type": "markdown",
   "metadata": {},
   "source": [
    "* Assume actual mean LED lamp lifetime is 49950 hours \n",
    "* We need to find the P(Population mean $\\geq$ 49950  | $H_A$ is true)"
   ]
  },
  {
   "cell_type": "code",
   "execution_count": 125,
   "metadata": {},
   "outputs": [
    {
     "name": "stdout",
     "output_type": "stream",
     "text": [
      "At 5 % level of significance, the probability of having type II error\n",
      "       for a sample size of 30 LED lamps is 0.2614\n",
      "At 5 % level of significance, the POWER OF THE TEST\n",
      "       for a sample size of 30 LED lamps is 0.7386\n"
     ]
    }
   ],
   "source": [
    "mu1  = 49950 # Actual mean\n",
    "\n",
    "#p = round(1 - stats.norm.cdf(q, loc = mu1, scale = se),4)\n",
    "p = round(stats.norm.sf(q, loc=mu1, scale = se),4)\n",
    "\n",
    "print('At 5 %s level of significance, the probability of having type II error\\n\\\n",
    "       for a sample size of 30 LED lamps is %2.4f' %('%',p))\n",
    "print('At 5 %s level of significance, the POWER OF THE TEST\\n \\\n",
    "      for a sample size of 30 LED lamps is %2.4f' %('%',1 - p))\n"
   ]
  }
 ],
 "metadata": {
  "kernelspec": {
   "display_name": "Python 3",
   "language": "python",
   "name": "python3"
  },
  "language_info": {
   "codemirror_mode": {
    "name": "ipython",
    "version": 3
   },
   "file_extension": ".py",
   "mimetype": "text/x-python",
   "name": "python",
   "nbconvert_exporter": "python",
   "pygments_lexer": "ipython3",
   "version": "3.7.1"
  }
 },
 "nbformat": 4,
 "nbformat_minor": 2
}
