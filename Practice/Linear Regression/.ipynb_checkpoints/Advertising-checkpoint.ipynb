{
 "cells": [
  {
   "cell_type": "markdown",
   "metadata": {},
   "source": [
    "# Predict sales revenue"
   ]
  },
  {
   "cell_type": "markdown",
   "metadata": {},
   "source": [
    "* Suggest a market plan for next year that will result in high product sales?\n",
    "\n",
    "\n",
    "* What information would be useful in order to provide such a recommendation?\n",
    "\n",
    "\n",
    "* Is there a relationship between advertising budget and sales? Our goal should be to determine whether the data provide evidence of an association between advertising expenditure and sales. If the evidence is weak, then one might argue that no money should be spent on advertising!\n",
    "\n",
    "\n",
    "* How strong is the relationship between advertising budget and sales? Assuming that there is a relationship between advertising and sales, we would like to know the strength of this relationship. In other words, given a certain advertising budget, can we predict sales with a high level of accuracy? This would be a strong relationship. Or is a prediction of sales based on advertising expenditure only slightly better than a random guess? This would be a weak relationship?\n",
    "\n",
    "\n",
    "* Which media contribute to sales? Do all three media TV, radio and newspaper contribute to sales or do just one or two of the media contribute?\n",
    "\n",
    "\n",
    "* How accurately can we estimate the effect of each medium on sales? For every dollar spent on advertising in a particular medium, by what amount will sales increase? How accurately can we predict this amount of increase?\n",
    "\n",
    "\n",
    "* How accurately can we predict future sales? For any given level of television, radio or newspaper advertising, what is our prediction for sales and what is the accuracy of this prediction?\n",
    "\n",
    "\n",
    "* Is the relationship linear? If there is approximately a straight-line relationship between advertising expenditure in the various media and sales, then linear regression is an appropriate tool. If not, then it may still be possible to transform the predictor or the response so that linear regression can be used\n",
    "\n",
    "\n",
    "* Is there synergy among the advertising media? Perhaps spending 50,000 on television advertising and 50,000 on radio advertising results in more sales than allocating 100,000 to either television or radio individually. In marketing, this is known as a **synergy effect**, while in statistics it is called an **interaction effect**.\n"
   ]
  },
  {
   "cell_type": "markdown",
   "metadata": {},
   "source": [
    "Feature Descriptions\n",
    "1. TV - Spend on TV Advertisements\n",
    "2. Radio - Spend on radio Advertisements\n",
    "3. Newspaper - Spend on newspaper Advertisements\n",
    "4. Sales - Sales revenue generated"
   ]
  },
  {
   "cell_type": "markdown",
   "metadata": {},
   "source": [
    "Sales is dependent / target variable\n",
    "\n",
    "TV, Radio and Newspaper are independent variables"
   ]
  },
  {
   "cell_type": "code",
   "execution_count": 1,
   "metadata": {},
   "outputs": [],
   "source": [
    "import numpy as np\n",
    "import pandas as pd\n",
    "\n",
    "data = pd.read_csv(\"Advertising.csv\")"
   ]
  },
  {
   "cell_type": "code",
   "execution_count": 2,
   "metadata": {},
   "outputs": [
    {
     "data": {
      "text/plain": [
       "pandas.core.frame.DataFrame"
      ]
     },
     "execution_count": 2,
     "metadata": {},
     "output_type": "execute_result"
    }
   ],
   "source": [
    "type(data)"
   ]
  },
  {
   "cell_type": "code",
   "execution_count": 3,
   "metadata": {},
   "outputs": [
    {
     "data": {
      "text/html": [
       "<div>\n",
       "<style scoped>\n",
       "    .dataframe tbody tr th:only-of-type {\n",
       "        vertical-align: middle;\n",
       "    }\n",
       "\n",
       "    .dataframe tbody tr th {\n",
       "        vertical-align: top;\n",
       "    }\n",
       "\n",
       "    .dataframe thead th {\n",
       "        text-align: right;\n",
       "    }\n",
       "</style>\n",
       "<table border=\"1\" class=\"dataframe\">\n",
       "  <thead>\n",
       "    <tr style=\"text-align: right;\">\n",
       "      <th></th>\n",
       "      <th>Unnamed: 0</th>\n",
       "      <th>TV</th>\n",
       "      <th>Radio</th>\n",
       "      <th>Newspaper</th>\n",
       "      <th>Sales</th>\n",
       "    </tr>\n",
       "  </thead>\n",
       "  <tbody>\n",
       "    <tr>\n",
       "      <th>0</th>\n",
       "      <td>1</td>\n",
       "      <td>230.1</td>\n",
       "      <td>37.8</td>\n",
       "      <td>69.2</td>\n",
       "      <td>22.1</td>\n",
       "    </tr>\n",
       "    <tr>\n",
       "      <th>1</th>\n",
       "      <td>2</td>\n",
       "      <td>44.5</td>\n",
       "      <td>39.3</td>\n",
       "      <td>45.1</td>\n",
       "      <td>10.4</td>\n",
       "    </tr>\n",
       "  </tbody>\n",
       "</table>\n",
       "</div>"
      ],
      "text/plain": [
       "   Unnamed: 0     TV  Radio  Newspaper  Sales\n",
       "0           1  230.1   37.8       69.2   22.1\n",
       "1           2   44.5   39.3       45.1   10.4"
      ]
     },
     "execution_count": 3,
     "metadata": {},
     "output_type": "execute_result"
    }
   ],
   "source": [
    "data.head(2)"
   ]
  },
  {
   "cell_type": "code",
   "execution_count": 4,
   "metadata": {},
   "outputs": [
    {
     "name": "stdout",
     "output_type": "stream",
     "text": [
      "<class 'pandas.core.frame.DataFrame'>\n",
      "RangeIndex: 200 entries, 0 to 199\n",
      "Data columns (total 5 columns):\n",
      "Unnamed: 0    200 non-null int64\n",
      "TV            200 non-null float64\n",
      "Radio         200 non-null float64\n",
      "Newspaper     200 non-null float64\n",
      "Sales         200 non-null float64\n",
      "dtypes: float64(4), int64(1)\n",
      "memory usage: 7.9 KB\n"
     ]
    }
   ],
   "source": [
    "data.info() # no null values - as all columns have 200 non-null"
   ]
  },
  {
   "cell_type": "markdown",
   "metadata": {},
   "source": [
    "First column is index and we do not need it. So remove the first column "
   ]
  },
  {
   "cell_type": "code",
   "execution_count": 5,
   "metadata": {},
   "outputs": [],
   "source": [
    "data = data.drop(\"Unnamed: 0\", axis = 1)\n",
    "#data = data[[\"TV\", \"Radio\", \"Newspaper\", \"Sales\"]]"
   ]
  },
  {
   "cell_type": "code",
   "execution_count": 6,
   "metadata": {},
   "outputs": [
    {
     "data": {
      "text/html": [
       "<div>\n",
       "<style scoped>\n",
       "    .dataframe tbody tr th:only-of-type {\n",
       "        vertical-align: middle;\n",
       "    }\n",
       "\n",
       "    .dataframe tbody tr th {\n",
       "        vertical-align: top;\n",
       "    }\n",
       "\n",
       "    .dataframe thead th {\n",
       "        text-align: right;\n",
       "    }\n",
       "</style>\n",
       "<table border=\"1\" class=\"dataframe\">\n",
       "  <thead>\n",
       "    <tr style=\"text-align: right;\">\n",
       "      <th></th>\n",
       "      <th>TV</th>\n",
       "      <th>Radio</th>\n",
       "      <th>Newspaper</th>\n",
       "      <th>Sales</th>\n",
       "    </tr>\n",
       "  </thead>\n",
       "  <tbody>\n",
       "    <tr>\n",
       "      <th>0</th>\n",
       "      <td>230.1</td>\n",
       "      <td>37.8</td>\n",
       "      <td>69.2</td>\n",
       "      <td>22.1</td>\n",
       "    </tr>\n",
       "    <tr>\n",
       "      <th>1</th>\n",
       "      <td>44.5</td>\n",
       "      <td>39.3</td>\n",
       "      <td>45.1</td>\n",
       "      <td>10.4</td>\n",
       "    </tr>\n",
       "  </tbody>\n",
       "</table>\n",
       "</div>"
      ],
      "text/plain": [
       "      TV  Radio  Newspaper  Sales\n",
       "0  230.1   37.8       69.2   22.1\n",
       "1   44.5   39.3       45.1   10.4"
      ]
     },
     "execution_count": 6,
     "metadata": {},
     "output_type": "execute_result"
    }
   ],
   "source": [
    "data.head(2)"
   ]
  },
  {
   "cell_type": "markdown",
   "metadata": {},
   "source": [
    "# Explore the data set"
   ]
  },
  {
   "cell_type": "markdown",
   "metadata": {},
   "source": [
    "Is there a relationship between sales and spend various advertising channels?"
   ]
  },
  {
   "cell_type": "markdown",
   "metadata": {},
   "source": [
    "Load matplotlib and seaborn libraries for visual analytics"
   ]
  },
  {
   "cell_type": "code",
   "execution_count": 7,
   "metadata": {},
   "outputs": [],
   "source": [
    "import matplotlib.pyplot as plt\n",
    "%matplotlib inline\n",
    "import seaborn as sns"
   ]
  },
  {
   "cell_type": "markdown",
   "metadata": {},
   "source": [
    "# Visualize pairwise correlations"
   ]
  },
  {
   "cell_type": "code",
   "execution_count": 8,
   "metadata": {},
   "outputs": [
    {
     "name": "stderr",
     "output_type": "stream",
     "text": [
      "C:\\ProgramData\\Anaconda3\\lib\\site-packages\\scipy\\stats\\stats.py:1713: FutureWarning: Using a non-tuple sequence for multidimensional indexing is deprecated; use `arr[tuple(seq)]` instead of `arr[seq]`. In the future this will be interpreted as an array index, `arr[np.array(seq)]`, which will result either in an error or a different result.\n",
      "  return np.add.reduce(sorted[indexer] * weights, axis=axis) / sumval\n"
     ]
    },
    {
     "data": {
      "text/plain": [
       "<seaborn.axisgrid.PairGrid at 0x1beac76ff60>"
      ]
     },
     "execution_count": 8,
     "metadata": {},
     "output_type": "execute_result"
    },
    {
     "data": {
      "image/png": "[encoded data removed]",
      "text/plain": [
       "<Figure size 720x720 with 20 Axes>"
      ]
     },
     "metadata": {
      "needs_background": "light"
     },
     "output_type": "display_data"
    }
   ],
   "source": [
    "sns.pairplot( data , diag_kind='kde')"
   ]
  },
  {
   "cell_type": "markdown",
   "metadata": {},
   "source": [
    "Any observations from the above graph?"
   ]
  },
  {
   "cell_type": "markdown",
   "metadata": {},
   "source": [
    "Calculate correlations"
   ]
  },
  {
   "cell_type": "code",
   "execution_count": 9,
   "metadata": {},
   "outputs": [
    {
     "data": {
      "text/plain": [
       "0.7822244248616061"
      ]
     },
     "execution_count": 9,
     "metadata": {},
     "output_type": "execute_result"
    }
   ],
   "source": [
    "data.TV.corr( data.Sales )"
   ]
  },
  {
   "cell_type": "code",
   "execution_count": 10,
   "metadata": {},
   "outputs": [
    {
     "data": {
      "text/html": [
       "<div>\n",
       "<style scoped>\n",
       "    .dataframe tbody tr th:only-of-type {\n",
       "        vertical-align: middle;\n",
       "    }\n",
       "\n",
       "    .dataframe tbody tr th {\n",
       "        vertical-align: top;\n",
       "    }\n",
       "\n",
       "    .dataframe thead th {\n",
       "        text-align: right;\n",
       "    }\n",
       "</style>\n",
       "<table border=\"1\" class=\"dataframe\">\n",
       "  <thead>\n",
       "    <tr style=\"text-align: right;\">\n",
       "      <th></th>\n",
       "      <th>TV</th>\n",
       "      <th>Radio</th>\n",
       "      <th>Newspaper</th>\n",
       "      <th>Sales</th>\n",
       "    </tr>\n",
       "  </thead>\n",
       "  <tbody>\n",
       "    <tr>\n",
       "      <th>TV</th>\n",
       "      <td>1.000000</td>\n",
       "      <td>0.054809</td>\n",
       "      <td>0.056648</td>\n",
       "      <td>0.782224</td>\n",
       "    </tr>\n",
       "    <tr>\n",
       "      <th>Radio</th>\n",
       "      <td>0.054809</td>\n",
       "      <td>1.000000</td>\n",
       "      <td>0.354104</td>\n",
       "      <td>0.576223</td>\n",
       "    </tr>\n",
       "    <tr>\n",
       "      <th>Newspaper</th>\n",
       "      <td>0.056648</td>\n",
       "      <td>0.354104</td>\n",
       "      <td>1.000000</td>\n",
       "      <td>0.228299</td>\n",
       "    </tr>\n",
       "    <tr>\n",
       "      <th>Sales</th>\n",
       "      <td>0.782224</td>\n",
       "      <td>0.576223</td>\n",
       "      <td>0.228299</td>\n",
       "      <td>1.000000</td>\n",
       "    </tr>\n",
       "  </tbody>\n",
       "</table>\n",
       "</div>"
      ],
      "text/plain": [
       "                 TV     Radio  Newspaper     Sales\n",
       "TV         1.000000  0.054809   0.056648  0.782224\n",
       "Radio      0.054809  1.000000   0.354104  0.576223\n",
       "Newspaper  0.056648  0.354104   1.000000  0.228299\n",
       "Sales      0.782224  0.576223   0.228299  1.000000"
      ]
     },
     "execution_count": 10,
     "metadata": {},
     "output_type": "execute_result"
    }
   ],
   "source": [
    "correlations = data.corr()\n",
    "correlations"
   ]
  },
  {
   "cell_type": "markdown",
   "metadata": {},
   "source": [
    "Visualize the correlations"
   ]
  },
  {
   "cell_type": "code",
   "execution_count": 11,
   "metadata": {},
   "outputs": [
    {
     "data": {
      "text/plain": [
       "TV           1.000000\n",
       "Radio        0.054809\n",
       "Newspaper    0.056648\n",
       "Sales        0.782224\n",
       "Name: TV, dtype: float64"
      ]
     },
     "execution_count": 11,
     "metadata": {},
     "output_type": "execute_result"
    }
   ],
   "source": [
    "correlations['TV']"
   ]
  },
  {
   "cell_type": "code",
   "execution_count": 12,
   "metadata": {},
   "outputs": [
    {
     "data": {
      "text/plain": [
       "<matplotlib.axes._subplots.AxesSubplot at 0x1beae7c3208>"
      ]
     },
     "execution_count": 12,
     "metadata": {},
     "output_type": "execute_result"
    },
    {
     "data": {
      "image/png": "[encoded data removed]",
      "text/plain": [
       "<Figure size 432x288 with 2 Axes>"
      ]
     },
     "metadata": {
      "needs_background": "light"
     },
     "output_type": "display_data"
    }
   ],
   "source": [
    "sns.heatmap( correlations, annot=True)"
   ]
  },
  {
   "cell_type": "markdown",
   "metadata": {},
   "source": [
    "Observations: \n",
    "1. The diagonal of the above matirx shows the auto-correlation of the variables. It is always 1. We can observe that the correlation betweeb TV and Sales is highest i.e. 0.78 and then between sales and radio i.e. 0.576.\n",
    "\n",
    "2. Interestingly, there's some correlation between Radio and Newspaper as well. i.e. 0.35\n",
    "\n",
    "3. Correlations can vary from -1 to +1. Closer to +1 means strong positive correlation and close -1 means strong negative correlation. Closer to 0 means not very strongly correlated. variables with strong correlations are mostly probably candidates for model builing."
   ]
  },
  {
   "cell_type": "markdown",
   "metadata": {},
   "source": [
    "# Predict Sales revenue using TV advertisement expenditure"
   ]
  },
  {
   "cell_type": "markdown",
   "metadata": {},
   "source": [
    "sklearn library has a comprehensive set of APIs to split datasets, build models, test models and calculate accuracy metrics.\n",
    "\n",
    "Import linear regression api from sklearn"
   ]
  },
  {
   "cell_type": "code",
   "execution_count": 13,
   "metadata": {},
   "outputs": [
    {
     "name": "stdout",
     "output_type": "stream",
     "text": [
      "beta_0 is :  7.032593549127693\n",
      "beta_1 is :  0.047536640433019764\n",
      "\n",
      "\n",
      "[[17.97077451]\n",
      " [ 9.14797405]\n",
      " [ 7.85022376]\n",
      " [14.23439457]\n",
      " [15.62721814]]\n",
      "\n",
      "\n",
      "7.032593549127693\n",
      "\n",
      "\n",
      "7.0801301895607125\n"
     ]
    }
   ],
   "source": [
    "# Sales = beta_0 + beta_1*TV\n",
    "from sklearn.linear_model import LinearRegression\n",
    "linreg = LinearRegression()\n",
    "x = data[['TV']]\n",
    "y = data[['Sales']]\n",
    "\n",
    "model=linreg.fit(x,y)\n",
    "beta_0 = linreg.intercept_\n",
    "print('beta_0 is : ', beta_0.item())\n",
    "beta_1 = linreg.coef_\n",
    "print('beta_1 is : ', beta_1.item())\n",
    "print('\\n')\n",
    "SalesPredictions = model.predict(x)\n",
    "print(SalesPredictions[0:5])\n",
    "print('\\n')\n",
    "\n",
    "# So, if \n",
    "TV = 0\n",
    "Sales = beta_0.item() + ( beta_1.item() * TV ) \n",
    "print(Sales)\n",
    "\n",
    "print('\\n')\n",
    "TV = 1\n",
    "Sales = beta_0.item() + ( beta_1.item() * TV ) \n",
    "print(Sales)"
   ]
  },
  {
   "cell_type": "markdown",
   "metadata": {},
   "source": [
    "# Make predictions for the new TV advertisment expenditure data"
   ]
  },
  {
   "cell_type": "markdown",
   "metadata": {},
   "source": [
    "Suppose TV = 150 . Predict Sales?"
   ]
  },
  {
   "cell_type": "code",
   "execution_count": 14,
   "metadata": {},
   "outputs": [
    {
     "name": "stdout",
     "output_type": "stream",
     "text": [
      "Predicted value for Sales (when TV advertise expenditure =  150 )  is :  14.163089614080658\n"
     ]
    }
   ],
   "source": [
    "TV = 150\n",
    "Sales = beta_0.item() + (beta_1.item()*TV)\n",
    "print('Predicted value for Sales (when TV advertise expenditure = ', TV, ')  is : ', Sales)"
   ]
  },
  {
   "cell_type": "markdown",
   "metadata": {},
   "source": [
    "We can also use inbuilt function for prediction"
   ]
  },
  {
   "cell_type": "code",
   "execution_count": 15,
   "metadata": {},
   "outputs": [
    {
     "data": {
      "text/plain": [
       "array([[14.16308961],\n",
       "       [16.53992164],\n",
       "       [18.91675366]])"
      ]
     },
     "execution_count": 15,
     "metadata": {},
     "output_type": "execute_result"
    }
   ],
   "source": [
    "newData = {'TV': [150, 200, 250]}\n",
    "newData = pd.DataFrame(data=newData)  ## Observe that 'x' type is pandas dataframe\n",
    "linreg.predict(newData)"
   ]
  },
  {
   "cell_type": "markdown",
   "metadata": {},
   "source": [
    "Calculate accuracy of the model\n",
    "\n",
    "Calculate root mean sequare error: RMSE\n",
    "\n",
    "mean_sequare_error = sum(i = 1 to 200 (y_i - SalesPredictions_i)^2 )/200"
   ]
  },
  {
   "cell_type": "code",
   "execution_count": 4,
   "metadata": {},
   "outputs": [],
   "source": [
    "stats = pd.DataFrame(index=['beta-0','beta-1','rsme','r-square', 'rsme %'])"
   ]
  },
  {
   "cell_type": "code",
   "execution_count": 17,
   "metadata": {},
   "outputs": [
    {
     "name": "stdout",
     "output_type": "stream",
     "text": [
      "Predicted Sales :  [[17.97077451]\n",
      " [ 9.14797405]\n",
      " [ 7.85022376]\n",
      " [14.23439457]\n",
      " [15.62721814]]\n",
      "Observed Sales :     Sales\n",
      "0   22.1\n",
      "1   10.4\n",
      "2    9.3\n",
      "3   18.5\n",
      "4   12.9\n",
      "\n",
      "\n",
      "beta_0 :  7.0326\n",
      "beta_1 :  0.0475\n",
      "\n",
      "\n",
      "\n",
      "\n",
      "          Sales-TV\n",
      "beta-0      7.0326\n",
      "beta-1      0.0475\n",
      "rsme        3.2423\n",
      "r-square    0.6119\n",
      "rsme %     23.1221\n",
      "\n",
      "\n",
      "Sales-TV Statistics :\n",
      "-----------------------\n",
      "Root mean square error - RSME :  3.2423\n",
      "r-square is :  0.6119\n",
      "RSME Percentage is :  23.1221 %\n",
      "tss is :  5417.1488\n",
      "rss is :  2102.5312\n",
      "Calculated r-square is :  0.6119\n"
     ]
    }
   ],
   "source": [
    "# Mean squared error regression loss\n",
    "from sklearn.linear_model import LinearRegression\n",
    "from sklearn import metrics\n",
    "\n",
    "\n",
    "linreg = LinearRegression()\n",
    "x = data[['TV']]\n",
    "y = data[['Sales']]\n",
    "\n",
    "#------------------------------------------------------\n",
    "\n",
    "model1 = linreg.fit(x, y)\n",
    "SalesPredictions = model1.predict(x)\n",
    "\n",
    "#------------------------------------------------------\n",
    "\n",
    "print('Predicted Sales : ',SalesPredictions[0:5])\n",
    "print('Observed Sales : ',y[0:5])\n",
    "\n",
    "beta_0 = round(model1.intercept_.item(),4)\n",
    "beta_1 = round(model1.coef_.item(),4)\n",
    "print('\\n')\n",
    "print('beta_0 : ', beta_0)\n",
    "print('beta_1 : ', beta_1)\n",
    "print('\\n')\n",
    "\n",
    "#------------------------------------------------------\n",
    "\n",
    "## Root mean square error - RMSE\n",
    "y_true = y\n",
    "y_predicted = SalesPredictions\n",
    "mse = metrics.mean_squared_error(y_true, y_predicted)\n",
    "rmse1 = round(np.sqrt(mse),4)\n",
    "\n",
    "#------------------------------------------------------\n",
    "\n",
    "## Error percentage\n",
    "## RMSE percentage\n",
    "\n",
    "rmse_per1 = round(rmse1/np.mean(y.Sales)*100,4)\n",
    "\n",
    "#------------------------------------------------------\n",
    "\n",
    "# R^2 - It's a proporotion of variance explained.\n",
    "\n",
    "r_square1 = round(model1.score(x,y),4)\n",
    "\n",
    "#------------------------------------------------------\n",
    "stats['Sales-TV'] = [beta_0, beta_1, rmse1, r_square1, rmse_per1]\n",
    "print('\\n')\n",
    "print(stats)\n",
    "print('\\n')\n",
    "\n",
    "print('Sales-TV Statistics :')\n",
    "print('-----------------------')\n",
    "print('Root mean square error - RSME : ', rmse1)\n",
    "print('r-square is : ', r_square1)\n",
    "print('RSME Percentage is : ', rmse_per1, '%')\n",
    "\n",
    "### Corr(TV, Sales) * Corr(TV, Sales) = R-square\n",
    "#print(data.TV.corr( data.Sales ))\n",
    "#r_square = data.TV.corr( data.Sales )**2\n",
    "#print('r-square is : ', r_square)\n",
    "\n",
    "#------------------------------------------------------\n",
    "\n",
    "#TSS\n",
    "avgSales = np.mean(y.Sales)\n",
    "tss = round(np.sum((y.Sales - avgSales)**2),4)\n",
    "print('tss is : ', tss)\n",
    "\n",
    "rss = 0 # It's the unexplained variance in the model\n",
    "for i in range(0, len(SalesPredictions)):\n",
    "     rss = round(rss + ((y.Sales[i]- SalesPredictions[i].item(0)) ** 2) ,4)\n",
    "print('rss is : ', rss)\n",
    "\n",
    "cal_r_squre = round(1 - (rss/tss),4) #(tss-rss/tss)\n",
    "print('Calculated r-square is : ', cal_r_squre)"
   ]
  },
  {
   "cell_type": "markdown",
   "metadata": {
    "collapsed": true
   },
   "source": [
    "# Model 2"
   ]
  },
  {
   "cell_type": "markdown",
   "metadata": {},
   "source": [
    "Build Sales = beta_0 + beta_1 * Radio"
   ]
  },
  {
   "cell_type": "code",
   "execution_count": 18,
   "metadata": {},
   "outputs": [
    {
     "name": "stdout",
     "output_type": "stream",
     "text": [
      "beta_0 :  9.3116\n",
      "beta_1 :  0.2025\n",
      "\n",
      "\n",
      "\n",
      "\n",
      "          Sales-TV  Sales-Radio\n",
      "beta-0      7.0326       9.3116\n",
      "beta-1      0.0475       0.2025\n",
      "rsme        3.2423       4.2535\n",
      "r-square    0.6119       0.3320\n",
      "rsme %     23.1221      30.3334\n",
      "\n",
      "\n",
      "Sales-Radio Statistics :\n",
      "-----------------------\n",
      "rmse :  4.2535\n",
      "r-square :  0.332\n",
      "RSME Percentage is :  30.3334 %\n"
     ]
    }
   ],
   "source": [
    "from sklearn.linear_model import LinearRegression\n",
    "from sklearn import metrics\n",
    "\n",
    "model2 = LinearRegression()\n",
    "\n",
    "x = data[[\"Radio\"]]\n",
    "y = data[[\"Sales\"]]\n",
    "\n",
    "#------------------------------------------------------\n",
    "\n",
    "model2.fit(x,y)\n",
    "\n",
    "beta_0 = round(model2.intercept_.item(),4)\n",
    "beta_1 = round(model2.coef_.item(),4)\n",
    "\n",
    "print('beta_0 : ', beta_0 )\n",
    "print('beta_1 : ', beta_1 )\n",
    "print('\\n')\n",
    "\n",
    "#------------------------------------------------------\n",
    "\n",
    "SalesPredictions = model2.predict(x)\n",
    "mse = metrics.mean_squared_error(SalesPredictions, y)\n",
    "rmse2 = round(np.sqrt(mse),4)\n",
    "r_square2 = round(model2.score(x, y),4)\n",
    "rmse_per2 = round(rmse2/np.mean(y.Sales)*100,4)\n",
    "\n",
    "stats['Sales-Radio'] = [beta_0, beta_1, rmse2, r_square2, rmse_per2]\n",
    "print('\\n')\n",
    "print(stats)\n",
    "print('\\n')\n",
    "print('Sales-Radio Statistics :')\n",
    "print('-----------------------')\n",
    "print('rmse : ', rmse2)\n",
    "print('r-square : ', r_square2)\n",
    "print('RSME Percentage is : ', rmse_per2, '%')"
   ]
  },
  {
   "cell_type": "markdown",
   "metadata": {},
   "source": [
    "# Model 3"
   ]
  },
  {
   "cell_type": "markdown",
   "metadata": {},
   "source": [
    "Build Sales = beta_0 + beta_1 * Newspaper"
   ]
  },
  {
   "cell_type": "markdown",
   "metadata": {},
   "source": [
    "Analyze beta_0 and beta_1"
   ]
  },
  {
   "cell_type": "markdown",
   "metadata": {},
   "source": [
    "Analyze R^2"
   ]
  },
  {
   "cell_type": "markdown",
   "metadata": {},
   "source": [
    "Analyze RMSE"
   ]
  },
  {
   "cell_type": "code",
   "execution_count": 19,
   "metadata": {},
   "outputs": [
    {
     "name": "stdout",
     "output_type": "stream",
     "text": [
      "beta_0 :  12.3514\n",
      "beta_1 :  0.0547\n",
      "\n",
      "\n",
      "\n",
      "\n",
      "          Sales-TV  Sales-Radio  Sales-Newspaper\n",
      "beta-0      7.0326       9.3116          12.3514\n",
      "beta-1      0.0475       0.2025           0.0547\n",
      "rsme        3.2423       4.2535           5.0670\n",
      "r-square    0.6119       0.3320           0.0521\n",
      "rsme %     23.1221      30.3334          36.1348\n",
      "\n",
      "\n",
      "Sales-Newspaper Statistics :\n",
      "-----------------------\n",
      "rmse :  5.067\n",
      "r-square :  0.0521\n",
      "RSME Percentage is :  36.1348 %\n"
     ]
    }
   ],
   "source": [
    "from sklearn.linear_model import LinearRegression\n",
    "from sklearn import metrics\n",
    "\n",
    "model3 = LinearRegression()\n",
    "\n",
    "x = data[['Newspaper']]\n",
    "y = data[['Sales']]\n",
    "\n",
    "model3.fit(x,y)\n",
    "\n",
    "beta_0 = round(model3.intercept_.item(),4)\n",
    "beta_1 = round(model3.coef_.item(),4)\n",
    "print('beta_0 : ', beta_0 )\n",
    "print('beta_1 : ', beta_1 )\n",
    "print('\\n')\n",
    "\n",
    "SalesPredictions = model3.predict(x)\n",
    "\n",
    "mse = metrics.mean_squared_error(y, SalesPredictions)\n",
    "rmse3 = round(np.sqrt(mse),4)\n",
    "r_square3 = round(model3.score(x,y),4)\n",
    "rmse_per3 = round(rmse3/np.mean(y.Sales)*100,4)\n",
    "\n",
    "stats['Sales-Newspaper'] = [beta_0, beta_1, rmse3, r_square3, rmse_per3]\n",
    "print('\\n')\n",
    "print(stats)\n",
    "print('\\n')\n",
    "\n",
    "print('Sales-Newspaper Statistics :')\n",
    "print('-----------------------')\n",
    "print('rmse : ', rmse3)\n",
    "print('r-square : ', r_square3)\n",
    "print('RSME Percentage is : ', rmse_per3, '%')"
   ]
  },
  {
   "cell_type": "markdown",
   "metadata": {},
   "source": [
    "# Model 4: Multiple Linear Regression"
   ]
  },
  {
   "cell_type": "markdown",
   "metadata": {},
   "source": [
    "Build Sales = beta_0 + beta_1 * TV + beta_2 * Radio"
   ]
  },
  {
   "cell_type": "code",
   "execution_count": 20,
   "metadata": {},
   "outputs": [
    {
     "name": "stdout",
     "output_type": "stream",
     "text": [
      "beta_0 :  [2.9211]\n",
      "beta_1 :  [[0.0458 0.188 ]]\n",
      "\n",
      "\n",
      "\n",
      "\n",
      "          Sales-TV  Sales-Radio  Sales-Newspaper     Sales-TV_Radio\n",
      "beta-0      7.0326       9.3116          12.3514           [2.9211]\n",
      "beta-1      0.0475       0.2025           0.0547  [[0.0458, 0.188]]\n",
      "rsme        3.2423       4.2535           5.0670             1.6687\n",
      "r-square    0.6119       0.3320           0.0521             0.8972\n",
      "rsme %     23.1221      30.3334          36.1348            11.9002\n",
      "\n",
      "\n",
      "Sales-TV_Radio Statistics :\n",
      "-----------------------\n",
      "rmse :  1.6687\n",
      "r-square :  0.8972\n",
      "RSME Percentage is :  11.9002 %\n"
     ]
    }
   ],
   "source": [
    "from sklearn.linear_model import LinearRegression\n",
    "from sklearn import metrics\n",
    "\n",
    "x = data[[\"TV\", \"Radio\"]]\n",
    "y = data[['Sales']]\n",
    "\n",
    "model4 = LinearRegression()\n",
    "\n",
    "model4.fit(x,y)\n",
    "beta_0 = np.around(model4.intercept_, decimals=4)\n",
    "beta_1 = np.around(model4.coef_, decimals=4)\n",
    "\n",
    "print('beta_0 : ', beta_0 )\n",
    "print('beta_1 : ', beta_1 )\n",
    "print('\\n')\n",
    "\n",
    "SalesPredictions = model4.predict(x)\n",
    "mse = metrics.mean_squared_error(y, SalesPredictions)\n",
    "rmse4 = round(mse/np.sqrt(mse),4)\n",
    "r_square4 = round(model4.score(x,y),4)\n",
    "rmse_per4 = round(rmse4/np.mean(y.Sales)*100,4)\n",
    "\n",
    "stats['Sales-TV_Radio'] = [beta_0, beta_1, rmse4, r_square4, rmse_per4]\n",
    "print('\\n')\n",
    "print(stats)\n",
    "print('\\n')\n",
    "\n",
    "print('Sales-TV_Radio Statistics :')\n",
    "print('-----------------------')\n",
    "print('rmse : ', rmse4)\n",
    "print('r-square : ', r_square4)\n",
    "print('RSME Percentage is : ', rmse_per4, '%')"
   ]
  },
  {
   "cell_type": "markdown",
   "metadata": {},
   "source": [
    "**Compare R^2 of Model 1 to 4**\n",
    "\n",
    "**Any observations?**"
   ]
  },
  {
   "cell_type": "markdown",
   "metadata": {},
   "source": [
    "# Model 5 : Multiple Linear Regression"
   ]
  },
  {
   "cell_type": "markdown",
   "metadata": {},
   "source": [
    "Build Sales = beta_0 + beta_1 TV + beta_2 Newspaper"
   ]
  },
  {
   "cell_type": "code",
   "execution_count": 21,
   "metadata": {},
   "outputs": [
    {
     "name": "stdout",
     "output_type": "stream",
     "text": [
      "beta_0 :  [5.7749]\n",
      "beta_1 :  [[0.0469 0.0442]]\n",
      "\n",
      "\n",
      "\n",
      "\n",
      "          Sales-TV  Sales-Radio  Sales-Newspaper     Sales-TV_Radio  \\\n",
      "beta-0      7.0326       9.3116          12.3514           [2.9211]   \n",
      "beta-1      0.0475       0.2025           0.0547  [[0.0458, 0.188]]   \n",
      "rsme        3.2423       4.2535           5.0670             1.6687   \n",
      "r-square    0.6119       0.3320           0.0521             0.8972   \n",
      "rsme %     23.1221      30.3334          36.1348            11.9002   \n",
      "\n",
      "          Sales-TV_Newspaper  \n",
      "beta-0              [5.7749]  \n",
      "beta-1    [[0.0469, 0.0442]]  \n",
      "rsme                  3.0972  \n",
      "r-square              0.6458  \n",
      "rsme %               22.0874  \n",
      "\n",
      "\n",
      "Sales-TV_Newspaper Statistics :\n",
      "-----------------------\n",
      "rmse :  3.0972\n",
      "r-square :  0.6458\n",
      "RSME Percentage is :  22.0874 %\n"
     ]
    }
   ],
   "source": [
    "from sklearn.linear_model import LinearRegression\n",
    "from sklearn import metrics\n",
    "\n",
    "x = data[[\"TV\", \"Newspaper\"]]\n",
    "y = data[['Sales']]\n",
    "\n",
    "model5 = LinearRegression()\n",
    "\n",
    "model5.fit(x,y)\n",
    "beta_0 = np.around(model5.intercept_, decimals=4)\n",
    "beta_1 = np.around(model5.coef_, decimals=4)\n",
    "\n",
    "print('beta_0 : ', beta_0 )\n",
    "print('beta_1 : ', beta_1 )\n",
    "print('\\n')\n",
    "\n",
    "SalesPredictions = model5.predict(x)\n",
    "mse = metrics.mean_squared_error(y, SalesPredictions)\n",
    "rmse5 = round(mse/np.sqrt(mse), 4)\n",
    "r_square5 = round(model5.score(x,y), 4)\n",
    "rmse_per5 = round(rmse5/np.mean(y.Sales)*100, 4)\n",
    "\n",
    "stats['Sales-TV_Newspaper'] = [beta_0, beta_1, rmse5, r_square5, rmse_per5]\n",
    "print('\\n')\n",
    "print(stats)\n",
    "print('\\n')\n",
    "\n",
    "print('Sales-TV_Newspaper Statistics :')\n",
    "print('-----------------------')\n",
    "print('rmse : ', rmse5)\n",
    "print('r-square : ', r_square5)\n",
    "print('RSME Percentage is : ', rmse_per5, '%')"
   ]
  },
  {
   "cell_type": "markdown",
   "metadata": {},
   "source": [
    "# Model 6"
   ]
  },
  {
   "cell_type": "markdown",
   "metadata": {},
   "source": [
    "Build Sales = beta_0 + beta_1 Radio + beta_2 Newspaper"
   ]
  },
  {
   "cell_type": "code",
   "execution_count": 22,
   "metadata": {},
   "outputs": [
    {
     "name": "stdout",
     "output_type": "stream",
     "text": [
      "beta_0 :  [9.1889]\n",
      "beta_1 :  [[0.199  0.0066]]\n",
      "\n",
      "\n",
      "\n",
      "\n",
      "          Sales-TV  Sales-Radio  Sales-Newspaper     Sales-TV_Radio  \\\n",
      "beta-0      7.0326       9.3116          12.3514           [2.9211]   \n",
      "beta-1      0.0475       0.2025           0.0547  [[0.0458, 0.188]]   \n",
      "rsme        3.2423       4.2535           5.0670             1.6687   \n",
      "r-square    0.6119       0.3320           0.0521             0.8972   \n",
      "rsme %     23.1221      30.3334          36.1348            11.9002   \n",
      "\n",
      "          Sales-TV_Newspaper Sales-Radio_Newspaper  \n",
      "beta-0              [5.7749]              [9.1889]  \n",
      "beta-1    [[0.0469, 0.0442]]     [[0.199, 0.0066]]  \n",
      "rsme                  3.0972                4.2514  \n",
      "r-square              0.6458                0.3327  \n",
      "rsme %               22.0874               30.3184  \n",
      "\n",
      "\n",
      "Sales-TV_Radio Statistics :\n",
      "-----------------------\n",
      "rmse :  4.2514\n",
      "r-square :  0.3327\n",
      "RSME Percentage is :  30.3184 %\n"
     ]
    }
   ],
   "source": [
    "from sklearn.linear_model import LinearRegression\n",
    "from sklearn import metrics\n",
    "\n",
    "x = data[['Radio','Newspaper']]\n",
    "y = data[['Sales']]\n",
    "\n",
    "model6 = LinearRegression()\n",
    "\n",
    "model6.fit(x,y)\n",
    "beta_0 = np.around(model6.intercept_, decimals=4)\n",
    "beta_1 = np.around(model6.coef_, decimals=4)\n",
    "\n",
    "print('beta_0 : ', beta_0 )\n",
    "print('beta_1 : ', beta_1 )\n",
    "print('\\n')\n",
    "\n",
    "SalesPredictions = model6.predict(x)\n",
    "mse = metrics.mean_squared_error(y, SalesPredictions)\n",
    "rmse6 = round(mse/np.sqrt(mse),4)\n",
    "r_square6 = round(model6.score(x,y),4)\n",
    "rmse_per6 = round(rmse6/np.mean(y.Sales)*100,4)\n",
    "\n",
    "stats['Sales-Radio_Newspaper'] = [beta_0, beta_1, rmse6, r_square6, rmse_per6]\n",
    "print('\\n')\n",
    "print(stats)\n",
    "print('\\n')\n",
    "\n",
    "print('Sales-TV_Radio Statistics :')\n",
    "print('-----------------------')\n",
    "print('rmse : ', rmse6)\n",
    "print('r-square : ', r_square6)\n",
    "print('RSME Percentage is : ', rmse_per6, '%')"
   ]
  },
  {
   "cell_type": "markdown",
   "metadata": {},
   "source": [
    "# Model 7"
   ]
  },
  {
   "cell_type": "markdown",
   "metadata": {},
   "source": [
    "Build Sales = beta_0 + beta_1 * TV + beta_2 Radio + beta_3 Newspaper"
   ]
  },
  {
   "cell_type": "code",
   "execution_count": 5,
   "metadata": {},
   "outputs": [
    {
     "name": "stdout",
     "output_type": "stream",
     "text": [
      "beta_0 :  [2.9389]\n",
      "beta_1 [TV, Radio, Newpaper] :  [[ 0.0458  0.1885 -0.001 ]]\n",
      "\n",
      "\n",
      "\n",
      "\n",
      "           Sales<-TV_Radio_Newspaper\n",
      "beta-0                      [2.9389]\n",
      "beta-1    [[0.0458, 0.1885, -0.001]]\n",
      "rsme                          1.6686\n",
      "r-square                      0.8972\n",
      "rsme %                       11.8994\n",
      "\n",
      "\n",
      "Sales-TV_Radio_Newspaper Statistics :\n",
      "-----------------------\n",
      "rmse :  1.6686\n",
      "r-square :  0.8972\n",
      "RSME Percentage is :  11.8994 %\n"
     ]
    }
   ],
   "source": [
    "from sklearn.linear_model import LinearRegression\n",
    "from sklearn import metrics\n",
    "\n",
    "x = data[['TV','Radio','Newspaper']]\n",
    "y = data[['Sales']]\n",
    "\n",
    "model7 = LinearRegression()\n",
    "\n",
    "model7.fit(x,y)\n",
    "beta_0 = np.around(model7.intercept_, decimals=4)\n",
    "beta_1 = np.around(model7.coef_, decimals=4)\n",
    "   \n",
    "print('beta_0 : ', beta_0 )\n",
    "print('beta_1 [TV, Radio, Newpaper] : ', beta_1 )\n",
    "print('\\n')\n",
    "\n",
    "SalesPredictions = model7.predict(x)\n",
    "mse = metrics.mean_squared_error(y, SalesPredictions)\n",
    "rmse7 = round(mse/np.sqrt(mse), 4)\n",
    "r_square7 = round(model7.score(x,y), 4)\n",
    "rmse_per7 = round(rmse7/np.mean(y.Sales)*100, 4)\n",
    "\n",
    "stats['Sales<-TV_Radio_Newspaper'] = [beta_0, beta_1, rmse7, r_square7, rmse_per7]\n",
    "print('\\n')\n",
    "print(stats)\n",
    "print('\\n')\n",
    "\n",
    "print('Sales-TV_Radio_Newspaper Statistics :')\n",
    "print('-----------------------')\n",
    "print('rmse : ', rmse7)\n",
    "print('r-square : ', r_square7)\n",
    "print('RSME Percentage is : ', rmse_per7, '%')"
   ]
  },
  {
   "cell_type": "markdown",
   "metadata": {},
   "source": [
    "# Model 8 : Interaction terms"
   ]
  },
  {
   "cell_type": "markdown",
   "metadata": {},
   "source": [
    "Build Sales = beta_0 + beta_1 * TV + beta_2 Radio + beta_3 * TV * Radio"
   ]
  },
  {
   "cell_type": "code",
   "execution_count": null,
   "metadata": {},
   "outputs": [],
   "source": []
  },
  {
   "cell_type": "code",
   "execution_count": 24,
   "metadata": {},
   "outputs": [],
   "source": [
    "x['TvRadio'] = x.TV*x.Radio"
   ]
  },
  {
   "cell_type": "code",
   "execution_count": 25,
   "metadata": {},
   "outputs": [
    {
     "data": {
      "text/html": [
       "<div>\n",
       "<style scoped>\n",
       "    .dataframe tbody tr th:only-of-type {\n",
       "        vertical-align: middle;\n",
       "    }\n",
       "\n",
       "    .dataframe tbody tr th {\n",
       "        vertical-align: top;\n",
       "    }\n",
       "\n",
       "    .dataframe thead th {\n",
       "        text-align: right;\n",
       "    }\n",
       "</style>\n",
       "<table border=\"1\" class=\"dataframe\">\n",
       "  <thead>\n",
       "    <tr style=\"text-align: right;\">\n",
       "      <th></th>\n",
       "      <th>TV</th>\n",
       "      <th>Radio</th>\n",
       "      <th>Newspaper</th>\n",
       "      <th>TvRadio</th>\n",
       "    </tr>\n",
       "  </thead>\n",
       "  <tbody>\n",
       "    <tr>\n",
       "      <th>0</th>\n",
       "      <td>230.1</td>\n",
       "      <td>37.8</td>\n",
       "      <td>69.2</td>\n",
       "      <td>8697.78</td>\n",
       "    </tr>\n",
       "    <tr>\n",
       "      <th>1</th>\n",
       "      <td>44.5</td>\n",
       "      <td>39.3</td>\n",
       "      <td>45.1</td>\n",
       "      <td>1748.85</td>\n",
       "    </tr>\n",
       "  </tbody>\n",
       "</table>\n",
       "</div>"
      ],
      "text/plain": [
       "      TV  Radio  Newspaper  TvRadio\n",
       "0  230.1   37.8       69.2  8697.78\n",
       "1   44.5   39.3       45.1  1748.85"
      ]
     },
     "execution_count": 25,
     "metadata": {},
     "output_type": "execute_result"
    }
   ],
   "source": [
    "x.head(2)"
   ]
  },
  {
   "cell_type": "code",
   "execution_count": 26,
   "metadata": {},
   "outputs": [
    {
     "name": "stdout",
     "output_type": "stream",
     "text": [
      "beta_0 :  [6.7502]\n",
      "beta_1 :  [[0.0191 0.0289 0.0011]]\n",
      "\n",
      "\n",
      "\n",
      "\n",
      "          Sales-TV  Sales-Radio  Sales-Newspaper     Sales-TV_Radio  \\\n",
      "beta-0      7.0326       9.3116          12.3514           [2.9211]   \n",
      "beta-1      0.0475       0.2025           0.0547  [[0.0458, 0.188]]   \n",
      "rsme        3.2423       4.2535           5.0670             1.6687   \n",
      "r-square    0.6119       0.3320           0.0521             0.8972   \n",
      "rsme %     23.1221      30.3334          36.1348            11.9002   \n",
      "\n",
      "          Sales-TV_Newspaper Sales-Radio_Newspaper  \\\n",
      "beta-0              [5.7749]              [9.1889]   \n",
      "beta-1    [[0.0469, 0.0442]]     [[0.199, 0.0066]]   \n",
      "rsme                  3.0972                4.2514   \n",
      "r-square              0.6458                0.3327   \n",
      "rsme %               22.0874               30.3184   \n",
      "\n",
      "           Sales<-TV_Radio_Newspaper    Sales<-TV_Radio_TV*Radio  \n",
      "beta-0                      [2.9389]                    [6.7502]  \n",
      "beta-1    [[0.0458, 0.1885, -0.001]]  [[0.0191, 0.0289, 0.0011]]  \n",
      "rsme                          1.6686                       0.934  \n",
      "r-square                      0.8972                      0.9678  \n",
      "rsme %                       11.8994                      6.6607  \n",
      "\n",
      "\n",
      "Sales-TV_Radio Statistics :\n",
      "-----------------------\n",
      "rmse :  0.934\n",
      "r-square :  0.9678\n",
      "RSME Percentage is :  6.6607 %\n"
     ]
    },
    {
     "name": "stderr",
     "output_type": "stream",
     "text": [
      "C:\\ProgramData\\Anaconda3\\lib\\site-packages\\ipykernel_launcher.py:5: SettingWithCopyWarning: \n",
      "A value is trying to be set on a copy of a slice from a DataFrame.\n",
      "Try using .loc[row_indexer,col_indexer] = value instead\n",
      "\n",
      "See the caveats in the documentation: http://pandas.pydata.org/pandas-docs/stable/indexing.html#indexing-view-versus-copy\n",
      "  \"\"\"\n"
     ]
    }
   ],
   "source": [
    "from sklearn.linear_model import LinearRegression\n",
    "from sklearn import metrics\n",
    "\n",
    "x = data[['TV', 'Radio']]\n",
    "x['TvRadio'] = x.TV*x.Radio\n",
    "y = data[['Sales']]\n",
    "\n",
    "model8 = LinearRegression()\n",
    "\n",
    "model8.fit(x,y)\n",
    "beta_0 = np.around(model8.intercept_, decimals=4)\n",
    "beta_1 = np.around(model8.coef_, decimals=4)\n",
    "\n",
    "print('beta_0 : ', beta_0 )\n",
    "print('beta_1 : ', beta_1 )\n",
    "print('\\n')\n",
    "\n",
    "SalesPredictions = model8.predict(x)\n",
    "mse = metrics.mean_squared_error(y, SalesPredictions)\n",
    "rmse8 = round(mse/np.sqrt(mse), 4)\n",
    "r_square8 = round(model8.score(x,y), 4)\n",
    "rmse_per8 = round(rmse8/np.mean(y.Sales)*100, 4)\n",
    "\n",
    "stats['Sales<-TV_Radio_TV*Radio'] = [beta_0, beta_1, rmse8, r_square8, rmse_per8]\n",
    "print('\\n')\n",
    "print(stats)\n",
    "print('\\n')\n",
    "\n",
    "print('Sales-TV_Radio Statistics :')\n",
    "print('-----------------------')\n",
    "print('rmse : ', rmse8)\n",
    "print('r-square : ', r_square8)\n",
    "print('RSME Percentage is : ', rmse_per8, '%')"
   ]
  },
  {
   "cell_type": "markdown",
   "metadata": {},
   "source": [
    "**Compare R^2 of Model 1 to 8**\n",
    "\n",
    "**Any observations?**"
   ]
  },
  {
   "cell_type": "code",
   "execution_count": 27,
   "metadata": {},
   "outputs": [],
   "source": [
    "## Adjusted R^2\n",
    "def AdjRsquare(modelToBeTested, indData, target):\n",
    "    Rsquare = modelToBeTested.score(indData, target)\n",
    "    NoData = len(target)\n",
    "    p = indData.shape[1]\n",
    "    tempRsquare = 1 - (1-Rsquare)*(NoData-1)/(NoData - p - 1)\n",
    "    return tempRsquare"
   ]
  },
  {
   "cell_type": "code",
   "execution_count": 28,
   "metadata": {},
   "outputs": [
    {
     "data": {
      "text/plain": [
       "0.9672975480602154"
      ]
     },
     "execution_count": 28,
     "metadata": {},
     "output_type": "execute_result"
    }
   ],
   "source": [
    "AdjRsquare(model8, x, y)"
   ]
  },
  {
   "cell_type": "code",
   "execution_count": 30,
   "metadata": {},
   "outputs": [
    {
     "data": {
      "text/plain": [
       "0.9677905498482523"
      ]
     },
     "execution_count": 30,
     "metadata": {},
     "output_type": "execute_result"
    }
   ],
   "source": [
    "model8.score(x, y)"
   ]
  },
  {
   "cell_type": "code",
   "execution_count": 31,
   "metadata": {},
   "outputs": [
    {
     "data": {
      "text/plain": [
       "(200, 3)"
      ]
     },
     "execution_count": 31,
     "metadata": {},
     "output_type": "execute_result"
    }
   ],
   "source": [
    "x.shape"
   ]
  },
  {
   "cell_type": "code",
   "execution_count": null,
   "metadata": {},
   "outputs": [],
   "source": [
    "seed = 7"
   ]
  },
  {
   "cell_type": "code",
   "execution_count": 46,
   "metadata": {},
   "outputs": [],
   "source": [
    "from sklearn.model_selection import train_test_split\n",
    "## Combine all the steps to test the model performance\n",
    "def linRegcheckModelPerformance(x, y):\n",
    "    model = LinearRegression()\n",
    "    # Covert data into train and test\n",
    "    seed = 100\n",
    "    x_train, x_test, y_train, y_test = train_test_split(x, y, test_size=0.3, \n",
    "                                                        random_state = seed)\n",
    "    # Build model with train data set\n",
    "    model.fit(x_train, y_train)\n",
    "    # Train accuracies\n",
    "    trainR2 = model.score(x_train, y_train)\n",
    "    predictedSales = model.predict(x_train)\n",
    "    mse = metrics.mean_squared_error(predictedSales, y_train)\n",
    "    trainRmse = np.sqrt(mse)\n",
    "    trainRmsePct = trainRmse/np.mean(np.mean(np.array(y_train)))*100\n",
    "    trainAdjR2 = AdjRsquare(model, x_train, y_train)\n",
    "    trainAccuracies = [len(y_train), trainRmse, trainRmsePct, trainR2, trainAdjR2]\n",
    "    # Test accuracies\n",
    "    testR2 = model.score(x_test, y_test)\n",
    "    predictedSales = model.predict(x_test)\n",
    "    mse = metrics.mean_squared_error(predictedSales, y_test)\n",
    "    testRmse = np.sqrt(mse)\n",
    "    testRmsePct = testRmse/np.mean(np.mean(np.array(y_test)))*100\n",
    "    testAdjR2 = AdjRsquare(model, x_test, y_test)\n",
    "    testAccuracies = [len(y_test), testRmse, testRmsePct, testR2, testAdjR2]\n",
    "    # Create dataframe for results\n",
    "    resultsDf = pd.DataFrame(index = [\"dataSize\", \"rmse\", \"rmsePct\", \"r2\", \"adjR2\"])\n",
    "    resultsDf['trainData'] = trainAccuracies\n",
    "    resultsDf['testData'] = testAccuracies\n",
    "    return ( round(resultsDf, 4))\n",
    "\n"
   ]
  },
  {
   "cell_type": "code",
   "execution_count": 47,
   "metadata": {},
   "outputs": [
    {
     "data": {
      "text/html": [
       "<div>\n",
       "<style scoped>\n",
       "    .dataframe tbody tr th:only-of-type {\n",
       "        vertical-align: middle;\n",
       "    }\n",
       "\n",
       "    .dataframe tbody tr th {\n",
       "        vertical-align: top;\n",
       "    }\n",
       "\n",
       "    .dataframe thead th {\n",
       "        text-align: right;\n",
       "    }\n",
       "</style>\n",
       "<table border=\"1\" class=\"dataframe\">\n",
       "  <thead>\n",
       "    <tr style=\"text-align: right;\">\n",
       "      <th></th>\n",
       "      <th>trainData</th>\n",
       "      <th>testData</th>\n",
       "    </tr>\n",
       "  </thead>\n",
       "  <tbody>\n",
       "    <tr>\n",
       "      <th>dataSize</th>\n",
       "      <td>140.0000</td>\n",
       "      <td>60.0000</td>\n",
       "    </tr>\n",
       "    <tr>\n",
       "      <th>rmse</th>\n",
       "      <td>3.4155</td>\n",
       "      <td>2.8241</td>\n",
       "    </tr>\n",
       "    <tr>\n",
       "      <th>rmsePct</th>\n",
       "      <td>24.6470</td>\n",
       "      <td>19.6030</td>\n",
       "    </tr>\n",
       "    <tr>\n",
       "      <th>r2</th>\n",
       "      <td>0.6134</td>\n",
       "      <td>0.5943</td>\n",
       "    </tr>\n",
       "    <tr>\n",
       "      <th>adjR2</th>\n",
       "      <td>0.6106</td>\n",
       "      <td>0.5873</td>\n",
       "    </tr>\n",
       "  </tbody>\n",
       "</table>\n",
       "</div>"
      ],
      "text/plain": [
       "          trainData  testData\n",
       "dataSize   140.0000   60.0000\n",
       "rmse         3.4155    2.8241\n",
       "rmsePct     24.6470   19.6030\n",
       "r2           0.6134    0.5943\n",
       "adjR2        0.6106    0.5873"
      ]
     },
     "execution_count": 47,
     "metadata": {},
     "output_type": "execute_result"
    }
   ],
   "source": [
    "# Model 1\n",
    "x = data[[\"TV\"]]\n",
    "y = data[[\"Sales\"]]\n",
    "linRegcheckModelPerformance(x, y)"
   ]
  },
  {
   "cell_type": "code",
   "execution_count": 48,
   "metadata": {},
   "outputs": [
    {
     "data": {
      "text/html": [
       "<div>\n",
       "<style scoped>\n",
       "    .dataframe tbody tr th:only-of-type {\n",
       "        vertical-align: middle;\n",
       "    }\n",
       "\n",
       "    .dataframe tbody tr th {\n",
       "        vertical-align: top;\n",
       "    }\n",
       "\n",
       "    .dataframe thead th {\n",
       "        text-align: right;\n",
       "    }\n",
       "</style>\n",
       "<table border=\"1\" class=\"dataframe\">\n",
       "  <thead>\n",
       "    <tr style=\"text-align: right;\">\n",
       "      <th></th>\n",
       "      <th>trainData</th>\n",
       "      <th>testData</th>\n",
       "    </tr>\n",
       "  </thead>\n",
       "  <tbody>\n",
       "    <tr>\n",
       "      <th>dataSize</th>\n",
       "      <td>140.0000</td>\n",
       "      <td>60.0000</td>\n",
       "    </tr>\n",
       "    <tr>\n",
       "      <th>rmse</th>\n",
       "      <td>4.5803</td>\n",
       "      <td>3.3747</td>\n",
       "    </tr>\n",
       "    <tr>\n",
       "      <th>rmsePct</th>\n",
       "      <td>33.0523</td>\n",
       "      <td>23.4246</td>\n",
       "    </tr>\n",
       "    <tr>\n",
       "      <th>r2</th>\n",
       "      <td>0.3048</td>\n",
       "      <td>0.4207</td>\n",
       "    </tr>\n",
       "    <tr>\n",
       "      <th>adjR2</th>\n",
       "      <td>0.2998</td>\n",
       "      <td>0.4107</td>\n",
       "    </tr>\n",
       "  </tbody>\n",
       "</table>\n",
       "</div>"
      ],
      "text/plain": [
       "          trainData  testData\n",
       "dataSize   140.0000   60.0000\n",
       "rmse         4.5803    3.3747\n",
       "rmsePct     33.0523   23.4246\n",
       "r2           0.3048    0.4207\n",
       "adjR2        0.2998    0.4107"
      ]
     },
     "execution_count": 48,
     "metadata": {},
     "output_type": "execute_result"
    }
   ],
   "source": [
    "# Model 2\n",
    "x = data[[\"Radio\"]]\n",
    "y = data[[\"Sales\"]]\n",
    "linRegcheckModelPerformance(x, y)"
   ]
  },
  {
   "cell_type": "code",
   "execution_count": 49,
   "metadata": {},
   "outputs": [
    {
     "data": {
      "text/html": [
       "<div>\n",
       "<style scoped>\n",
       "    .dataframe tbody tr th:only-of-type {\n",
       "        vertical-align: middle;\n",
       "    }\n",
       "\n",
       "    .dataframe tbody tr th {\n",
       "        vertical-align: top;\n",
       "    }\n",
       "\n",
       "    .dataframe thead th {\n",
       "        text-align: right;\n",
       "    }\n",
       "</style>\n",
       "<table border=\"1\" class=\"dataframe\">\n",
       "  <thead>\n",
       "    <tr style=\"text-align: right;\">\n",
       "      <th></th>\n",
       "      <th>trainData</th>\n",
       "      <th>testData</th>\n",
       "    </tr>\n",
       "  </thead>\n",
       "  <tbody>\n",
       "    <tr>\n",
       "      <th>dataSize</th>\n",
       "      <td>140.0000</td>\n",
       "      <td>60.0000</td>\n",
       "    </tr>\n",
       "    <tr>\n",
       "      <th>rmse</th>\n",
       "      <td>5.2231</td>\n",
       "      <td>4.7732</td>\n",
       "    </tr>\n",
       "    <tr>\n",
       "      <th>rmsePct</th>\n",
       "      <td>37.6908</td>\n",
       "      <td>33.1317</td>\n",
       "    </tr>\n",
       "    <tr>\n",
       "      <th>r2</th>\n",
       "      <td>0.0960</td>\n",
       "      <td>-0.1589</td>\n",
       "    </tr>\n",
       "    <tr>\n",
       "      <th>adjR2</th>\n",
       "      <td>0.0894</td>\n",
       "      <td>-0.1789</td>\n",
       "    </tr>\n",
       "  </tbody>\n",
       "</table>\n",
       "</div>"
      ],
      "text/plain": [
       "          trainData  testData\n",
       "dataSize   140.0000   60.0000\n",
       "rmse         5.2231    4.7732\n",
       "rmsePct     37.6908   33.1317\n",
       "r2           0.0960   -0.1589\n",
       "adjR2        0.0894   -0.1789"
      ]
     },
     "execution_count": 49,
     "metadata": {},
     "output_type": "execute_result"
    }
   ],
   "source": [
    "# Model 3\n",
    "x = data[[\"Newspaper\"]]\n",
    "y = data[[\"Sales\"]]\n",
    "linRegcheckModelPerformance(x, y)"
   ]
  },
  {
   "cell_type": "code",
   "execution_count": 50,
   "metadata": {},
   "outputs": [
    {
     "data": {
      "text/html": [
       "<div>\n",
       "<style scoped>\n",
       "    .dataframe tbody tr th:only-of-type {\n",
       "        vertical-align: middle;\n",
       "    }\n",
       "\n",
       "    .dataframe tbody tr th {\n",
       "        vertical-align: top;\n",
       "    }\n",
       "\n",
       "    .dataframe thead th {\n",
       "        text-align: right;\n",
       "    }\n",
       "</style>\n",
       "<table border=\"1\" class=\"dataframe\">\n",
       "  <thead>\n",
       "    <tr style=\"text-align: right;\">\n",
       "      <th></th>\n",
       "      <th>trainData</th>\n",
       "      <th>testData</th>\n",
       "    </tr>\n",
       "  </thead>\n",
       "  <tbody>\n",
       "    <tr>\n",
       "      <th>dataSize</th>\n",
       "      <td>140.0000</td>\n",
       "      <td>60.0000</td>\n",
       "    </tr>\n",
       "    <tr>\n",
       "      <th>rmse</th>\n",
       "      <td>1.8011</td>\n",
       "      <td>1.3359</td>\n",
       "    </tr>\n",
       "    <tr>\n",
       "      <th>rmsePct</th>\n",
       "      <td>12.9968</td>\n",
       "      <td>9.2731</td>\n",
       "    </tr>\n",
       "    <tr>\n",
       "      <th>r2</th>\n",
       "      <td>0.8925</td>\n",
       "      <td>0.9092</td>\n",
       "    </tr>\n",
       "    <tr>\n",
       "      <th>adjR2</th>\n",
       "      <td>0.8909</td>\n",
       "      <td>0.9060</td>\n",
       "    </tr>\n",
       "  </tbody>\n",
       "</table>\n",
       "</div>"
      ],
      "text/plain": [
       "          trainData  testData\n",
       "dataSize   140.0000   60.0000\n",
       "rmse         1.8011    1.3359\n",
       "rmsePct     12.9968    9.2731\n",
       "r2           0.8925    0.9092\n",
       "adjR2        0.8909    0.9060"
      ]
     },
     "execution_count": 50,
     "metadata": {},
     "output_type": "execute_result"
    }
   ],
   "source": [
    "# Model 4\n",
    "x = data[[\"TV\", \"Radio\"]]\n",
    "y = data[[\"Sales\"]]\n",
    "linRegcheckModelPerformance(x, y)"
   ]
  },
  {
   "cell_type": "code",
   "execution_count": 52,
   "metadata": {},
   "outputs": [
    {
     "data": {
      "text/html": [
       "<div>\n",
       "<style scoped>\n",
       "    .dataframe tbody tr th:only-of-type {\n",
       "        vertical-align: middle;\n",
       "    }\n",
       "\n",
       "    .dataframe tbody tr th {\n",
       "        vertical-align: top;\n",
       "    }\n",
       "\n",
       "    .dataframe thead th {\n",
       "        text-align: right;\n",
       "    }\n",
       "</style>\n",
       "<table border=\"1\" class=\"dataframe\">\n",
       "  <thead>\n",
       "    <tr style=\"text-align: right;\">\n",
       "      <th></th>\n",
       "      <th>trainData</th>\n",
       "      <th>testData</th>\n",
       "    </tr>\n",
       "  </thead>\n",
       "  <tbody>\n",
       "    <tr>\n",
       "      <th>dataSize</th>\n",
       "      <td>140.0000</td>\n",
       "      <td>60.0000</td>\n",
       "    </tr>\n",
       "    <tr>\n",
       "      <th>rmse</th>\n",
       "      <td>3.1807</td>\n",
       "      <td>2.9732</td>\n",
       "    </tr>\n",
       "    <tr>\n",
       "      <th>rmsePct</th>\n",
       "      <td>22.9522</td>\n",
       "      <td>20.6380</td>\n",
       "    </tr>\n",
       "    <tr>\n",
       "      <th>r2</th>\n",
       "      <td>0.6648</td>\n",
       "      <td>0.5503</td>\n",
       "    </tr>\n",
       "    <tr>\n",
       "      <th>adjR2</th>\n",
       "      <td>0.6599</td>\n",
       "      <td>0.5346</td>\n",
       "    </tr>\n",
       "  </tbody>\n",
       "</table>\n",
       "</div>"
      ],
      "text/plain": [
       "          trainData  testData\n",
       "dataSize   140.0000   60.0000\n",
       "rmse         3.1807    2.9732\n",
       "rmsePct     22.9522   20.6380\n",
       "r2           0.6648    0.5503\n",
       "adjR2        0.6599    0.5346"
      ]
     },
     "execution_count": 52,
     "metadata": {},
     "output_type": "execute_result"
    }
   ],
   "source": [
    "# Model 5\n",
    "x = data[[\"TV\", \"Newspaper\"]]\n",
    "y = data[[\"Sales\"]]\n",
    "linRegcheckModelPerformance(x, y)"
   ]
  },
  {
   "cell_type": "code",
   "execution_count": 53,
   "metadata": {},
   "outputs": [
    {
     "data": {
      "text/html": [
       "<div>\n",
       "<style scoped>\n",
       "    .dataframe tbody tr th:only-of-type {\n",
       "        vertical-align: middle;\n",
       "    }\n",
       "\n",
       "    .dataframe tbody tr th {\n",
       "        vertical-align: top;\n",
       "    }\n",
       "\n",
       "    .dataframe thead th {\n",
       "        text-align: right;\n",
       "    }\n",
       "</style>\n",
       "<table border=\"1\" class=\"dataframe\">\n",
       "  <thead>\n",
       "    <tr style=\"text-align: right;\">\n",
       "      <th></th>\n",
       "      <th>trainData</th>\n",
       "      <th>testData</th>\n",
       "    </tr>\n",
       "  </thead>\n",
       "  <tbody>\n",
       "    <tr>\n",
       "      <th>dataSize</th>\n",
       "      <td>140.0000</td>\n",
       "      <td>60.0000</td>\n",
       "    </tr>\n",
       "    <tr>\n",
       "      <th>rmse</th>\n",
       "      <td>4.5491</td>\n",
       "      <td>3.5395</td>\n",
       "    </tr>\n",
       "    <tr>\n",
       "      <th>rmsePct</th>\n",
       "      <td>32.8268</td>\n",
       "      <td>24.5687</td>\n",
       "    </tr>\n",
       "    <tr>\n",
       "      <th>r2</th>\n",
       "      <td>0.3143</td>\n",
       "      <td>0.3627</td>\n",
       "    </tr>\n",
       "    <tr>\n",
       "      <th>adjR2</th>\n",
       "      <td>0.3043</td>\n",
       "      <td>0.3404</td>\n",
       "    </tr>\n",
       "  </tbody>\n",
       "</table>\n",
       "</div>"
      ],
      "text/plain": [
       "          trainData  testData\n",
       "dataSize   140.0000   60.0000\n",
       "rmse         4.5491    3.5395\n",
       "rmsePct     32.8268   24.5687\n",
       "r2           0.3143    0.3627\n",
       "adjR2        0.3043    0.3404"
      ]
     },
     "execution_count": 53,
     "metadata": {},
     "output_type": "execute_result"
    }
   ],
   "source": [
    "# Model 6\n",
    "x = data[[\"Radio\", \"Newspaper\"]]\n",
    "y = data[[\"Sales\"]]\n",
    "linRegcheckModelPerformance(x, y)"
   ]
  },
  {
   "cell_type": "code",
   "execution_count": 54,
   "metadata": {},
   "outputs": [
    {
     "data": {
      "text/html": [
       "<div>\n",
       "<style scoped>\n",
       "    .dataframe tbody tr th:only-of-type {\n",
       "        vertical-align: middle;\n",
       "    }\n",
       "\n",
       "    .dataframe tbody tr th {\n",
       "        vertical-align: top;\n",
       "    }\n",
       "\n",
       "    .dataframe thead th {\n",
       "        text-align: right;\n",
       "    }\n",
       "</style>\n",
       "<table border=\"1\" class=\"dataframe\">\n",
       "  <thead>\n",
       "    <tr style=\"text-align: right;\">\n",
       "      <th></th>\n",
       "      <th>trainData</th>\n",
       "      <th>testData</th>\n",
       "    </tr>\n",
       "  </thead>\n",
       "  <tbody>\n",
       "    <tr>\n",
       "      <th>dataSize</th>\n",
       "      <td>140.0000</td>\n",
       "      <td>60.0000</td>\n",
       "    </tr>\n",
       "    <tr>\n",
       "      <th>rmse</th>\n",
       "      <td>1.7986</td>\n",
       "      <td>1.3604</td>\n",
       "    </tr>\n",
       "    <tr>\n",
       "      <th>rmsePct</th>\n",
       "      <td>12.9789</td>\n",
       "      <td>9.4428</td>\n",
       "    </tr>\n",
       "    <tr>\n",
       "      <th>r2</th>\n",
       "      <td>0.8928</td>\n",
       "      <td>0.9059</td>\n",
       "    </tr>\n",
       "    <tr>\n",
       "      <th>adjR2</th>\n",
       "      <td>0.8904</td>\n",
       "      <td>0.9008</td>\n",
       "    </tr>\n",
       "  </tbody>\n",
       "</table>\n",
       "</div>"
      ],
      "text/plain": [
       "          trainData  testData\n",
       "dataSize   140.0000   60.0000\n",
       "rmse         1.7986    1.3604\n",
       "rmsePct     12.9789    9.4428\n",
       "r2           0.8928    0.9059\n",
       "adjR2        0.8904    0.9008"
      ]
     },
     "execution_count": 54,
     "metadata": {},
     "output_type": "execute_result"
    }
   ],
   "source": [
    "# Model 7\n",
    "x = data[[\"TV\", \"Radio\", \"Newspaper\"]]\n",
    "y = data[[\"Sales\"]]\n",
    "linRegcheckModelPerformance(x, y)"
   ]
  },
  {
   "cell_type": "code",
   "execution_count": 55,
   "metadata": {},
   "outputs": [
    {
     "data": {
      "text/html": [
       "<div>\n",
       "<style scoped>\n",
       "    .dataframe tbody tr th:only-of-type {\n",
       "        vertical-align: middle;\n",
       "    }\n",
       "\n",
       "    .dataframe tbody tr th {\n",
       "        vertical-align: top;\n",
       "    }\n",
       "\n",
       "    .dataframe thead th {\n",
       "        text-align: right;\n",
       "    }\n",
       "</style>\n",
       "<table border=\"1\" class=\"dataframe\">\n",
       "  <thead>\n",
       "    <tr style=\"text-align: right;\">\n",
       "      <th></th>\n",
       "      <th>trainData</th>\n",
       "      <th>testData</th>\n",
       "    </tr>\n",
       "  </thead>\n",
       "  <tbody>\n",
       "    <tr>\n",
       "      <th>dataSize</th>\n",
       "      <td>140.0000</td>\n",
       "      <td>60.0000</td>\n",
       "    </tr>\n",
       "    <tr>\n",
       "      <th>rmse</th>\n",
       "      <td>1.0309</td>\n",
       "      <td>0.6918</td>\n",
       "    </tr>\n",
       "    <tr>\n",
       "      <th>rmsePct</th>\n",
       "      <td>7.4389</td>\n",
       "      <td>4.8018</td>\n",
       "    </tr>\n",
       "    <tr>\n",
       "      <th>r2</th>\n",
       "      <td>0.9648</td>\n",
       "      <td>0.9757</td>\n",
       "    </tr>\n",
       "    <tr>\n",
       "      <th>adjR2</th>\n",
       "      <td>0.9637</td>\n",
       "      <td>0.9739</td>\n",
       "    </tr>\n",
       "  </tbody>\n",
       "</table>\n",
       "</div>"
      ],
      "text/plain": [
       "          trainData  testData\n",
       "dataSize   140.0000   60.0000\n",
       "rmse         1.0309    0.6918\n",
       "rmsePct      7.4389    4.8018\n",
       "r2           0.9648    0.9757\n",
       "adjR2        0.9637    0.9739"
      ]
     },
     "execution_count": 55,
     "metadata": {},
     "output_type": "execute_result"
    }
   ],
   "source": [
    "# Model 7\n",
    "x = data[[\"TV\", \"Radio\", \"Newspaper\"]]\n",
    "x[\"TVRadio\"] = data[\"TV\"]*data[\"Radio\"] \n",
    "y = data[[\"Sales\"]]\n",
    "linRegcheckModelPerformance(x, y)\n"
   ]
  }
 ],
 "metadata": {
  "kernelspec": {
   "display_name": "Python 3",
   "language": "python",
   "name": "python3"
  },
  "language_info": {
   "codemirror_mode": {
    "name": "ipython",
    "version": 3
   },
   "file_extension": ".py",
   "mimetype": "text/x-python",
   "name": "python",
   "nbconvert_exporter": "python",
   "pygments_lexer": "ipython3",
   "version": "3.7.1"
  }
 },
 "nbformat": 4,
 "nbformat_minor": 2
}
