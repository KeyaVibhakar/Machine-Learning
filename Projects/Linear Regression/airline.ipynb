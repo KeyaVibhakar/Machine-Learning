{
 "cells": [
  {
   "cell_type": "markdown",
   "metadata": {},
   "source": [
    "Data Set - http://www.stat.ufl.edu/~winner/data/airq402.dat (Links to an external site.)\n",
    "csv - airline.csv\n",
    "dat file - airq402.dat\n",
    "Data Description - http://www.stat.ufl.edu/~winner/data/airq402.txt (Links to an external site.)\n",
    "Dataset:   airq402.dat\n",
    "Source: U.S. Department of Transportation\n",
    "Description: Airfsres and passengers for U.S. Domestic Routes for 4th Quarter of 2002.\n",
    "Variables/Columns\n",
    "City1   1-3\n",
    "City2   5-7\n",
    "Average Fare    11-17\n",
    "Distance      20-23\n",
    "Average weekly passengers   26-33\n",
    "market leading airline    36-37\n",
    "market share     40-45\n",
    "Average fare    48-54\n",
    "Low price airline   57-58\n",
    "market share    61-66\n",
    "price     69-75\n"
   ]
  },
  {
   "cell_type": "markdown",
   "metadata": {},
   "source": [
    "#### 1.\tImport and store the data in a data frame.\n"
   ]
  },
  {
   "cell_type": "code",
   "execution_count": 1,
   "metadata": {},
   "outputs": [],
   "source": [
    "import numpy as np\n",
    "import pandas as pd\n",
    "from sklearn.linear_model import LinearRegression\n",
    "from sklearn.model_selection import train_test_split\n",
    "import matplotlib.pyplot as plt\n",
    "from scipy import stats\n",
    "import seaborn as sns\n"
   ]
  },
  {
   "cell_type": "code",
   "execution_count": 61,
   "metadata": {},
   "outputs": [
    {
     "name": "stdout",
     "output_type": "stream",
     "text": [
      "<class 'pandas.core.frame.DataFrame'>\n",
      "RangeIndex: 1000 entries, 0 to 999\n",
      "Data columns (total 11 columns):\n",
      "City1                        1000 non-null object\n",
      "City2                        1000 non-null object\n",
      "Average Fare                 1000 non-null float64\n",
      "Distance                     1000 non-null int64\n",
      "Average weekly passengers    1000 non-null float64\n",
      "market leading airline       1000 non-null object\n",
      "ml_market share              1000 non-null float64\n",
      "ml_Average fare              1000 non-null float64\n",
      "Low price airline            1000 non-null object\n",
      "lp_market share              1000 non-null float64\n",
      "lp_price                     1000 non-null float64\n",
      "dtypes: float64(6), int64(1), object(4)\n",
      "memory usage: 86.0+ KB\n"
     ]
    }
   ],
   "source": [
    "airdata = pd.read_fwf(\"airq402.dat\",  header=None, names=['City1','City2','Average Fare','Distance','Average weekly passengers','market leading airline','ml_market share','ml_Average fare','Low price airline','lp_market share','lp_price'])\n",
    "airdata.info()"
   ]
  },
  {
   "cell_type": "code",
   "execution_count": 62,
   "metadata": {},
   "outputs": [
    {
     "data": {
      "text/html": [
       "<div>\n",
       "<style scoped>\n",
       "    .dataframe tbody tr th:only-of-type {\n",
       "        vertical-align: middle;\n",
       "    }\n",
       "\n",
       "    .dataframe tbody tr th {\n",
       "        vertical-align: top;\n",
       "    }\n",
       "\n",
       "    .dataframe thead th {\n",
       "        text-align: right;\n",
       "    }\n",
       "</style>\n",
       "<table border=\"1\" class=\"dataframe\">\n",
       "  <thead>\n",
       "    <tr style=\"text-align: right;\">\n",
       "      <th></th>\n",
       "      <th>City1</th>\n",
       "      <th>City2</th>\n",
       "      <th>Average Fare</th>\n",
       "      <th>Distance</th>\n",
       "      <th>Average weekly passengers</th>\n",
       "      <th>market leading airline</th>\n",
       "      <th>ml_market share</th>\n",
       "      <th>ml_Average fare</th>\n",
       "      <th>Low price airline</th>\n",
       "      <th>lp_market share</th>\n",
       "      <th>lp_price</th>\n",
       "    </tr>\n",
       "  </thead>\n",
       "  <tbody>\n",
       "    <tr>\n",
       "      <th>0</th>\n",
       "      <td>CAK</td>\n",
       "      <td>ATL</td>\n",
       "      <td>114.47</td>\n",
       "      <td>528</td>\n",
       "      <td>424.56</td>\n",
       "      <td>FL</td>\n",
       "      <td>70.19</td>\n",
       "      <td>111.03</td>\n",
       "      <td>FL</td>\n",
       "      <td>70.19</td>\n",
       "      <td>111.03</td>\n",
       "    </tr>\n",
       "    <tr>\n",
       "      <th>1</th>\n",
       "      <td>CAK</td>\n",
       "      <td>MCO</td>\n",
       "      <td>122.47</td>\n",
       "      <td>860</td>\n",
       "      <td>276.84</td>\n",
       "      <td>FL</td>\n",
       "      <td>75.10</td>\n",
       "      <td>123.09</td>\n",
       "      <td>DL</td>\n",
       "      <td>17.23</td>\n",
       "      <td>118.94</td>\n",
       "    </tr>\n",
       "    <tr>\n",
       "      <th>2</th>\n",
       "      <td>ALB</td>\n",
       "      <td>ATL</td>\n",
       "      <td>214.42</td>\n",
       "      <td>852</td>\n",
       "      <td>215.76</td>\n",
       "      <td>DL</td>\n",
       "      <td>78.89</td>\n",
       "      <td>223.98</td>\n",
       "      <td>CO</td>\n",
       "      <td>2.77</td>\n",
       "      <td>167.12</td>\n",
       "    </tr>\n",
       "    <tr>\n",
       "      <th>3</th>\n",
       "      <td>ALB</td>\n",
       "      <td>BWI</td>\n",
       "      <td>69.40</td>\n",
       "      <td>288</td>\n",
       "      <td>606.84</td>\n",
       "      <td>WN</td>\n",
       "      <td>96.97</td>\n",
       "      <td>68.86</td>\n",
       "      <td>WN</td>\n",
       "      <td>96.97</td>\n",
       "      <td>68.86</td>\n",
       "    </tr>\n",
       "    <tr>\n",
       "      <th>4</th>\n",
       "      <td>ALB</td>\n",
       "      <td>ORD</td>\n",
       "      <td>158.13</td>\n",
       "      <td>723</td>\n",
       "      <td>313.04</td>\n",
       "      <td>UA</td>\n",
       "      <td>39.79</td>\n",
       "      <td>161.36</td>\n",
       "      <td>WN</td>\n",
       "      <td>15.34</td>\n",
       "      <td>145.42</td>\n",
       "    </tr>\n",
       "  </tbody>\n",
       "</table>\n",
       "</div>"
      ],
      "text/plain": [
       "  City1 City2  Average Fare  Distance  Average weekly passengers  \\\n",
       "0   CAK   ATL        114.47       528                     424.56   \n",
       "1   CAK   MCO        122.47       860                     276.84   \n",
       "2   ALB   ATL        214.42       852                     215.76   \n",
       "3   ALB   BWI         69.40       288                     606.84   \n",
       "4   ALB   ORD        158.13       723                     313.04   \n",
       "\n",
       "  market leading airline  ml_market share  ml_Average fare Low price airline  \\\n",
       "0                     FL            70.19           111.03                FL   \n",
       "1                     FL            75.10           123.09                DL   \n",
       "2                     DL            78.89           223.98                CO   \n",
       "3                     WN            96.97            68.86                WN   \n",
       "4                     UA            39.79           161.36                WN   \n",
       "\n",
       "   lp_market share  lp_price  \n",
       "0            70.19    111.03  \n",
       "1            17.23    118.94  \n",
       "2             2.77    167.12  \n",
       "3            96.97     68.86  \n",
       "4            15.34    145.42  "
      ]
     },
     "execution_count": 62,
     "metadata": {},
     "output_type": "execute_result"
    }
   ],
   "source": [
    "airdata.head()"
   ]
  },
  {
   "cell_type": "markdown",
   "metadata": {},
   "source": [
    "#### 2.\tRemove the outliers from the data\n"
   ]
  },
  {
   "cell_type": "code",
   "execution_count": 63,
   "metadata": {},
   "outputs": [
    {
     "data": {
      "text/html": [
       "<div>\n",
       "<style scoped>\n",
       "    .dataframe tbody tr th:only-of-type {\n",
       "        vertical-align: middle;\n",
       "    }\n",
       "\n",
       "    .dataframe tbody tr th {\n",
       "        vertical-align: top;\n",
       "    }\n",
       "\n",
       "    .dataframe thead th {\n",
       "        text-align: right;\n",
       "    }\n",
       "</style>\n",
       "<table border=\"1\" class=\"dataframe\">\n",
       "  <thead>\n",
       "    <tr style=\"text-align: right;\">\n",
       "      <th></th>\n",
       "      <th>count</th>\n",
       "      <th>unique</th>\n",
       "      <th>top</th>\n",
       "      <th>freq</th>\n",
       "      <th>mean</th>\n",
       "      <th>std</th>\n",
       "      <th>min</th>\n",
       "      <th>25%</th>\n",
       "      <th>50%</th>\n",
       "      <th>75%</th>\n",
       "      <th>max</th>\n",
       "    </tr>\n",
       "  </thead>\n",
       "  <tbody>\n",
       "    <tr>\n",
       "      <th>City1</th>\n",
       "      <td>1000</td>\n",
       "      <td>90</td>\n",
       "      <td>ATL</td>\n",
       "      <td>64</td>\n",
       "      <td>NaN</td>\n",
       "      <td>NaN</td>\n",
       "      <td>NaN</td>\n",
       "      <td>NaN</td>\n",
       "      <td>NaN</td>\n",
       "      <td>NaN</td>\n",
       "      <td>NaN</td>\n",
       "    </tr>\n",
       "    <tr>\n",
       "      <th>City2</th>\n",
       "      <td>1000</td>\n",
       "      <td>85</td>\n",
       "      <td>TPA</td>\n",
       "      <td>46</td>\n",
       "      <td>NaN</td>\n",
       "      <td>NaN</td>\n",
       "      <td>NaN</td>\n",
       "      <td>NaN</td>\n",
       "      <td>NaN</td>\n",
       "      <td>NaN</td>\n",
       "      <td>NaN</td>\n",
       "    </tr>\n",
       "    <tr>\n",
       "      <th>Average Fare</th>\n",
       "      <td>1000</td>\n",
       "      <td>NaN</td>\n",
       "      <td>NaN</td>\n",
       "      <td>NaN</td>\n",
       "      <td>163.375</td>\n",
       "      <td>55.3655</td>\n",
       "      <td>50.52</td>\n",
       "      <td>125.975</td>\n",
       "      <td>161.345</td>\n",
       "      <td>197.392</td>\n",
       "      <td>401.23</td>\n",
       "    </tr>\n",
       "    <tr>\n",
       "      <th>Distance</th>\n",
       "      <td>1000</td>\n",
       "      <td>NaN</td>\n",
       "      <td>NaN</td>\n",
       "      <td>NaN</td>\n",
       "      <td>1056.97</td>\n",
       "      <td>643.203</td>\n",
       "      <td>108</td>\n",
       "      <td>553.5</td>\n",
       "      <td>919</td>\n",
       "      <td>1452.5</td>\n",
       "      <td>2724</td>\n",
       "    </tr>\n",
       "    <tr>\n",
       "      <th>Average weekly passengers</th>\n",
       "      <td>1000</td>\n",
       "      <td>NaN</td>\n",
       "      <td>NaN</td>\n",
       "      <td>NaN</td>\n",
       "      <td>672.279</td>\n",
       "      <td>766.519</td>\n",
       "      <td>181.41</td>\n",
       "      <td>257.197</td>\n",
       "      <td>404.78</td>\n",
       "      <td>769.912</td>\n",
       "      <td>8950.76</td>\n",
       "    </tr>\n",
       "    <tr>\n",
       "      <th>market leading airline</th>\n",
       "      <td>1000</td>\n",
       "      <td>16</td>\n",
       "      <td>WN</td>\n",
       "      <td>257</td>\n",
       "      <td>NaN</td>\n",
       "      <td>NaN</td>\n",
       "      <td>NaN</td>\n",
       "      <td>NaN</td>\n",
       "      <td>NaN</td>\n",
       "      <td>NaN</td>\n",
       "      <td>NaN</td>\n",
       "    </tr>\n",
       "    <tr>\n",
       "      <th>ml_market share</th>\n",
       "      <td>1000</td>\n",
       "      <td>NaN</td>\n",
       "      <td>NaN</td>\n",
       "      <td>NaN</td>\n",
       "      <td>60.1286</td>\n",
       "      <td>19.3678</td>\n",
       "      <td>17.68</td>\n",
       "      <td>46.51</td>\n",
       "      <td>59.24</td>\n",
       "      <td>73.51</td>\n",
       "      <td>100</td>\n",
       "    </tr>\n",
       "    <tr>\n",
       "      <th>ml_Average fare</th>\n",
       "      <td>1000</td>\n",
       "      <td>NaN</td>\n",
       "      <td>NaN</td>\n",
       "      <td>NaN</td>\n",
       "      <td>166.648</td>\n",
       "      <td>62.6601</td>\n",
       "      <td>50.52</td>\n",
       "      <td>124.085</td>\n",
       "      <td>161.4</td>\n",
       "      <td>202.977</td>\n",
       "      <td>490.03</td>\n",
       "    </tr>\n",
       "    <tr>\n",
       "      <th>Low price airline</th>\n",
       "      <td>1000</td>\n",
       "      <td>19</td>\n",
       "      <td>WN</td>\n",
       "      <td>230</td>\n",
       "      <td>NaN</td>\n",
       "      <td>NaN</td>\n",
       "      <td>NaN</td>\n",
       "      <td>NaN</td>\n",
       "      <td>NaN</td>\n",
       "      <td>NaN</td>\n",
       "      <td>NaN</td>\n",
       "    </tr>\n",
       "    <tr>\n",
       "      <th>lp_market share</th>\n",
       "      <td>1000</td>\n",
       "      <td>NaN</td>\n",
       "      <td>NaN</td>\n",
       "      <td>NaN</td>\n",
       "      <td>34.5515</td>\n",
       "      <td>27.097</td>\n",
       "      <td>1.06</td>\n",
       "      <td>13.195</td>\n",
       "      <td>26.14</td>\n",
       "      <td>52.9725</td>\n",
       "      <td>100</td>\n",
       "    </tr>\n",
       "    <tr>\n",
       "      <th>lp_price</th>\n",
       "      <td>1000</td>\n",
       "      <td>NaN</td>\n",
       "      <td>NaN</td>\n",
       "      <td>NaN</td>\n",
       "      <td>143.193</td>\n",
       "      <td>47.2292</td>\n",
       "      <td>49.61</td>\n",
       "      <td>113.767</td>\n",
       "      <td>137.825</td>\n",
       "      <td>168.53</td>\n",
       "      <td>387.94</td>\n",
       "    </tr>\n",
       "  </tbody>\n",
       "</table>\n",
       "</div>"
      ],
      "text/plain": [
       "                          count unique  top freq     mean      std     min  \\\n",
       "City1                      1000     90  ATL   64      NaN      NaN     NaN   \n",
       "City2                      1000     85  TPA   46      NaN      NaN     NaN   \n",
       "Average Fare               1000    NaN  NaN  NaN  163.375  55.3655   50.52   \n",
       "Distance                   1000    NaN  NaN  NaN  1056.97  643.203     108   \n",
       "Average weekly passengers  1000    NaN  NaN  NaN  672.279  766.519  181.41   \n",
       "market leading airline     1000     16   WN  257      NaN      NaN     NaN   \n",
       "ml_market share            1000    NaN  NaN  NaN  60.1286  19.3678   17.68   \n",
       "ml_Average fare            1000    NaN  NaN  NaN  166.648  62.6601   50.52   \n",
       "Low price airline          1000     19   WN  230      NaN      NaN     NaN   \n",
       "lp_market share            1000    NaN  NaN  NaN  34.5515   27.097    1.06   \n",
       "lp_price                   1000    NaN  NaN  NaN  143.193  47.2292   49.61   \n",
       "\n",
       "                               25%      50%      75%      max  \n",
       "City1                          NaN      NaN      NaN      NaN  \n",
       "City2                          NaN      NaN      NaN      NaN  \n",
       "Average Fare               125.975  161.345  197.392   401.23  \n",
       "Distance                     553.5      919   1452.5     2724  \n",
       "Average weekly passengers  257.197   404.78  769.912  8950.76  \n",
       "market leading airline         NaN      NaN      NaN      NaN  \n",
       "ml_market share              46.51    59.24    73.51      100  \n",
       "ml_Average fare            124.085    161.4  202.977   490.03  \n",
       "Low price airline              NaN      NaN      NaN      NaN  \n",
       "lp_market share             13.195    26.14  52.9725      100  \n",
       "lp_price                   113.767  137.825   168.53   387.94  "
      ]
     },
     "execution_count": 63,
     "metadata": {},
     "output_type": "execute_result"
    }
   ],
   "source": [
    "airdata.describe(include='all').T"
   ]
  },
  {
   "cell_type": "code",
   "execution_count": 64,
   "metadata": {},
   "outputs": [
    {
     "data": {
      "text/plain": [
       "<matplotlib.axes._subplots.AxesSubplot at 0x1b477e062e8>"
      ]
     },
     "execution_count": 64,
     "metadata": {},
     "output_type": "execute_result"
    },
    {
     "data": {
      "image/png": "[encoded data removed]",
      "text/plain": [
       "<Figure size 432x288 with 1 Axes>"
      ]
     },
     "metadata": {
      "needs_background": "light"
     },
     "output_type": "display_data"
    }
   ],
   "source": [
    "sns.boxplot(x=\"Average Fare\",data=airdata, notch=True, orient=\"h\")"
   ]
  },
  {
   "cell_type": "code",
   "execution_count": 65,
   "metadata": {},
   "outputs": [
    {
     "data": {
      "text/plain": [
       "<matplotlib.axes._subplots.AxesSubplot at 0x1b477e31160>"
      ]
     },
     "execution_count": 65,
     "metadata": {},
     "output_type": "execute_result"
    },
    {
     "data": {
      "image/png": "[encoded data removed]",
      "text/plain": [
       "<Figure size 432x288 with 1 Axes>"
      ]
     },
     "metadata": {
      "needs_background": "light"
     },
     "output_type": "display_data"
    }
   ],
   "source": [
    "sns.boxplot(x=\"Distance\",data=airdata, notch=True, orient=\"h\")"
   ]
  },
  {
   "cell_type": "markdown",
   "metadata": {},
   "source": [
    "Finding indices with non-outliers:\n",
    "\n",
    "        (np.abs(stats.zscore(df)) < 3)\n",
    "\n",
    "np.abs(stats.zscore(df)) - Calculates the absolute z-score of each value in the column(series), relative to the column mean and standard deviation.\n",
    "\n",
    "indices < 3, are non_outliers, and rest are ignored for further computing"
   ]
  },
  {
   "cell_type": "code",
   "execution_count": 67,
   "metadata": {},
   "outputs": [
    {
     "data": {
      "text/html": [
       "<div>\n",
       "<style scoped>\n",
       "    .dataframe tbody tr th:only-of-type {\n",
       "        vertical-align: middle;\n",
       "    }\n",
       "\n",
       "    .dataframe tbody tr th {\n",
       "        vertical-align: top;\n",
       "    }\n",
       "\n",
       "    .dataframe thead th {\n",
       "        text-align: right;\n",
       "    }\n",
       "</style>\n",
       "<table border=\"1\" class=\"dataframe\">\n",
       "  <thead>\n",
       "    <tr style=\"text-align: right;\">\n",
       "      <th></th>\n",
       "      <th>Average Fare</th>\n",
       "      <th>Distance</th>\n",
       "      <th>Average weekly passengers</th>\n",
       "      <th>ml_market share</th>\n",
       "      <th>ml_Average fare</th>\n",
       "      <th>lp_market share</th>\n",
       "      <th>lp_price</th>\n",
       "    </tr>\n",
       "  </thead>\n",
       "  <tbody>\n",
       "    <tr>\n",
       "      <th>count</th>\n",
       "      <td>966.000000</td>\n",
       "      <td>966.000000</td>\n",
       "      <td>966.000000</td>\n",
       "      <td>966.000000</td>\n",
       "      <td>966.000000</td>\n",
       "      <td>966.000000</td>\n",
       "      <td>966.000000</td>\n",
       "    </tr>\n",
       "    <tr>\n",
       "      <th>mean</th>\n",
       "      <td>161.170404</td>\n",
       "      <td>1038.634576</td>\n",
       "      <td>591.785839</td>\n",
       "      <td>60.600507</td>\n",
       "      <td>163.874576</td>\n",
       "      <td>34.691884</td>\n",
       "      <td>141.278033</td>\n",
       "    </tr>\n",
       "    <tr>\n",
       "      <th>std</th>\n",
       "      <td>51.726169</td>\n",
       "      <td>626.661777</td>\n",
       "      <td>494.415258</td>\n",
       "      <td>19.314748</td>\n",
       "      <td>57.242531</td>\n",
       "      <td>27.273184</td>\n",
       "      <td>43.507866</td>\n",
       "    </tr>\n",
       "    <tr>\n",
       "      <th>min</th>\n",
       "      <td>50.520000</td>\n",
       "      <td>108.000000</td>\n",
       "      <td>181.410000</td>\n",
       "      <td>17.680000</td>\n",
       "      <td>50.520000</td>\n",
       "      <td>1.060000</td>\n",
       "      <td>49.610000</td>\n",
       "    </tr>\n",
       "    <tr>\n",
       "      <th>25%</th>\n",
       "      <td>125.192500</td>\n",
       "      <td>550.000000</td>\n",
       "      <td>254.400000</td>\n",
       "      <td>47.012500</td>\n",
       "      <td>124.115000</td>\n",
       "      <td>13.097500</td>\n",
       "      <td>113.430000</td>\n",
       "    </tr>\n",
       "    <tr>\n",
       "      <th>50%</th>\n",
       "      <td>160.445000</td>\n",
       "      <td>902.000000</td>\n",
       "      <td>391.900000</td>\n",
       "      <td>59.625000</td>\n",
       "      <td>161.220000</td>\n",
       "      <td>26.285000</td>\n",
       "      <td>137.435000</td>\n",
       "    </tr>\n",
       "    <tr>\n",
       "      <th>75%</th>\n",
       "      <td>195.142500</td>\n",
       "      <td>1413.750000</td>\n",
       "      <td>717.412500</td>\n",
       "      <td>74.410000</td>\n",
       "      <td>201.200000</td>\n",
       "      <td>53.150000</td>\n",
       "      <td>167.117500</td>\n",
       "    </tr>\n",
       "    <tr>\n",
       "      <th>max</th>\n",
       "      <td>321.400000</td>\n",
       "      <td>2724.000000</td>\n",
       "      <td>2885.760000</td>\n",
       "      <td>100.000000</td>\n",
       "      <td>354.080000</td>\n",
       "      <td>100.000000</td>\n",
       "      <td>273.630000</td>\n",
       "    </tr>\n",
       "  </tbody>\n",
       "</table>\n",
       "</div>"
      ],
      "text/plain": [
       "       Average Fare     Distance  Average weekly passengers  ml_market share  \\\n",
       "count    966.000000   966.000000                 966.000000       966.000000   \n",
       "mean     161.170404  1038.634576                 591.785839        60.600507   \n",
       "std       51.726169   626.661777                 494.415258        19.314748   \n",
       "min       50.520000   108.000000                 181.410000        17.680000   \n",
       "25%      125.192500   550.000000                 254.400000        47.012500   \n",
       "50%      160.445000   902.000000                 391.900000        59.625000   \n",
       "75%      195.142500  1413.750000                 717.412500        74.410000   \n",
       "max      321.400000  2724.000000                2885.760000       100.000000   \n",
       "\n",
       "       ml_Average fare  lp_market share    lp_price  \n",
       "count       966.000000       966.000000  966.000000  \n",
       "mean        163.874576        34.691884  141.278033  \n",
       "std          57.242531        27.273184   43.507866  \n",
       "min          50.520000         1.060000   49.610000  \n",
       "25%         124.115000        13.097500  113.430000  \n",
       "50%         161.220000        26.285000  137.435000  \n",
       "75%         201.200000        53.150000  167.117500  \n",
       "max         354.080000       100.000000  273.630000  "
      ]
     },
     "execution_count": 67,
     "metadata": {},
     "output_type": "execute_result"
    }
   ],
   "source": [
    "df = airdata[[\"Average Fare\", \"Distance\", \"Average weekly passengers\", \"ml_market share\", \"ml_Average fare\", \"lp_market share\", \"lp_price\"]]\n",
    "non_outliers = (np.abs(stats.zscore(df)) < 3)\n",
    "indices = df[non_outliers.all(axis=1)].index\n",
    "data = pd.DataFrame(data=df,index=indices)\n",
    "data.describe()"
   ]
  },
  {
   "cell_type": "markdown",
   "metadata": {},
   "source": [
    "#### 3.\tTreat “Average Fare” – 3rdColumn as your Dependent Variable and Rest of the columns as Independent Variable.\n",
    "\n",
    "#### 4.\tDrop the independent variables which has less than 0.1 correlation with the dependent variable\n"
   ]
  },
  {
   "cell_type": "code",
   "execution_count": 68,
   "metadata": {},
   "outputs": [
    {
     "data": {
      "text/html": [
       "<div>\n",
       "<style scoped>\n",
       "    .dataframe tbody tr th:only-of-type {\n",
       "        vertical-align: middle;\n",
       "    }\n",
       "\n",
       "    .dataframe tbody tr th {\n",
       "        vertical-align: top;\n",
       "    }\n",
       "\n",
       "    .dataframe thead th {\n",
       "        text-align: right;\n",
       "    }\n",
       "</style>\n",
       "<table border=\"1\" class=\"dataframe\">\n",
       "  <thead>\n",
       "    <tr style=\"text-align: right;\">\n",
       "      <th></th>\n",
       "      <th>Average Fare</th>\n",
       "      <th>Distance</th>\n",
       "      <th>Average weekly passengers</th>\n",
       "      <th>ml_market share</th>\n",
       "      <th>ml_Average fare</th>\n",
       "      <th>lp_market share</th>\n",
       "      <th>lp_price</th>\n",
       "    </tr>\n",
       "  </thead>\n",
       "  <tbody>\n",
       "    <tr>\n",
       "      <th>Average Fare</th>\n",
       "      <td>1.000000</td>\n",
       "      <td>0.552015</td>\n",
       "      <td>-0.222121</td>\n",
       "      <td>-0.228129</td>\n",
       "      <td>0.981103</td>\n",
       "      <td>-0.476023</td>\n",
       "      <td>0.859362</td>\n",
       "    </tr>\n",
       "    <tr>\n",
       "      <th>Distance</th>\n",
       "      <td>0.552015</td>\n",
       "      <td>1.000000</td>\n",
       "      <td>-0.164635</td>\n",
       "      <td>-0.533325</td>\n",
       "      <td>0.526077</td>\n",
       "      <td>-0.365148</td>\n",
       "      <td>0.557689</td>\n",
       "    </tr>\n",
       "    <tr>\n",
       "      <th>Average weekly passengers</th>\n",
       "      <td>-0.222121</td>\n",
       "      <td>-0.164635</td>\n",
       "      <td>1.000000</td>\n",
       "      <td>0.032822</td>\n",
       "      <td>-0.190827</td>\n",
       "      <td>0.078109</td>\n",
       "      <td>-0.254185</td>\n",
       "    </tr>\n",
       "    <tr>\n",
       "      <th>ml_market share</th>\n",
       "      <td>-0.228129</td>\n",
       "      <td>-0.533325</td>\n",
       "      <td>0.032822</td>\n",
       "      <td>1.000000</td>\n",
       "      <td>-0.214354</td>\n",
       "      <td>0.298800</td>\n",
       "      <td>-0.314585</td>\n",
       "    </tr>\n",
       "    <tr>\n",
       "      <th>ml_Average fare</th>\n",
       "      <td>0.981103</td>\n",
       "      <td>0.526077</td>\n",
       "      <td>-0.190827</td>\n",
       "      <td>-0.214354</td>\n",
       "      <td>1.000000</td>\n",
       "      <td>-0.499622</td>\n",
       "      <td>0.817292</td>\n",
       "    </tr>\n",
       "    <tr>\n",
       "      <th>lp_market share</th>\n",
       "      <td>-0.476023</td>\n",
       "      <td>-0.365148</td>\n",
       "      <td>0.078109</td>\n",
       "      <td>0.298800</td>\n",
       "      <td>-0.499622</td>\n",
       "      <td>1.000000</td>\n",
       "      <td>-0.249619</td>\n",
       "    </tr>\n",
       "    <tr>\n",
       "      <th>lp_price</th>\n",
       "      <td>0.859362</td>\n",
       "      <td>0.557689</td>\n",
       "      <td>-0.254185</td>\n",
       "      <td>-0.314585</td>\n",
       "      <td>0.817292</td>\n",
       "      <td>-0.249619</td>\n",
       "      <td>1.000000</td>\n",
       "    </tr>\n",
       "  </tbody>\n",
       "</table>\n",
       "</div>"
      ],
      "text/plain": [
       "                           Average Fare  Distance  Average weekly passengers  \\\n",
       "Average Fare                   1.000000  0.552015                  -0.222121   \n",
       "Distance                       0.552015  1.000000                  -0.164635   \n",
       "Average weekly passengers     -0.222121 -0.164635                   1.000000   \n",
       "ml_market share               -0.228129 -0.533325                   0.032822   \n",
       "ml_Average fare                0.981103  0.526077                  -0.190827   \n",
       "lp_market share               -0.476023 -0.365148                   0.078109   \n",
       "lp_price                       0.859362  0.557689                  -0.254185   \n",
       "\n",
       "                           ml_market share  ml_Average fare  lp_market share  \\\n",
       "Average Fare                     -0.228129         0.981103        -0.476023   \n",
       "Distance                         -0.533325         0.526077        -0.365148   \n",
       "Average weekly passengers         0.032822        -0.190827         0.078109   \n",
       "ml_market share                   1.000000        -0.214354         0.298800   \n",
       "ml_Average fare                  -0.214354         1.000000        -0.499622   \n",
       "lp_market share                   0.298800        -0.499622         1.000000   \n",
       "lp_price                         -0.314585         0.817292        -0.249619   \n",
       "\n",
       "                           lp_price  \n",
       "Average Fare               0.859362  \n",
       "Distance                   0.557689  \n",
       "Average weekly passengers -0.254185  \n",
       "ml_market share           -0.314585  \n",
       "ml_Average fare            0.817292  \n",
       "lp_market share           -0.249619  \n",
       "lp_price                   1.000000  "
      ]
     },
     "execution_count": 68,
     "metadata": {},
     "output_type": "execute_result"
    }
   ],
   "source": [
    "correlations = data.corr()\n",
    "correlations"
   ]
  },
  {
   "cell_type": "code",
   "execution_count": 69,
   "metadata": {},
   "outputs": [
    {
     "data": {
      "text/plain": [
       "Average Fare                 1.000000\n",
       "Distance                     0.552015\n",
       "Average weekly passengers   -0.222121\n",
       "ml_market share             -0.228129\n",
       "ml_Average fare              0.981103\n",
       "lp_market share             -0.476023\n",
       "lp_price                     0.859362\n",
       "Name: Average Fare, dtype: float64"
      ]
     },
     "execution_count": 69,
     "metadata": {},
     "output_type": "execute_result"
    }
   ],
   "source": [
    "correlations['Average Fare']"
   ]
  },
  {
   "cell_type": "markdown",
   "metadata": {},
   "source": [
    "#### Considering absolute values > 0.1, for filtering independant variables. "
   ]
  },
  {
   "cell_type": "code",
   "execution_count": 70,
   "metadata": {},
   "outputs": [
    {
     "data": {
      "text/plain": [
       "Average Fare                 True\n",
       "Distance                     True\n",
       "Average weekly passengers    True\n",
       "ml_market share              True\n",
       "ml_Average fare              True\n",
       "lp_market share              True\n",
       "lp_price                     True\n",
       "Name: Average Fare, dtype: bool"
      ]
     },
     "execution_count": 70,
     "metadata": {},
     "output_type": "execute_result"
    }
   ],
   "source": [
    "(abs(data.corr()[\"Average Fare\"]) > 0.1)"
   ]
  },
  {
   "cell_type": "code",
   "execution_count": 71,
   "metadata": {},
   "outputs": [
    {
     "data": {
      "text/html": [
       "<div>\n",
       "<style scoped>\n",
       "    .dataframe tbody tr th:only-of-type {\n",
       "        vertical-align: middle;\n",
       "    }\n",
       "\n",
       "    .dataframe tbody tr th {\n",
       "        vertical-align: top;\n",
       "    }\n",
       "\n",
       "    .dataframe thead th {\n",
       "        text-align: right;\n",
       "    }\n",
       "</style>\n",
       "<table border=\"1\" class=\"dataframe\">\n",
       "  <thead>\n",
       "    <tr style=\"text-align: right;\">\n",
       "      <th></th>\n",
       "      <th>Average Fare</th>\n",
       "      <th>Distance</th>\n",
       "      <th>Average weekly passengers</th>\n",
       "      <th>ml_market share</th>\n",
       "      <th>ml_Average fare</th>\n",
       "      <th>lp_market share</th>\n",
       "      <th>lp_price</th>\n",
       "    </tr>\n",
       "  </thead>\n",
       "  <tbody>\n",
       "    <tr>\n",
       "      <th>0</th>\n",
       "      <td>114.47</td>\n",
       "      <td>528</td>\n",
       "      <td>424.56</td>\n",
       "      <td>70.19</td>\n",
       "      <td>111.03</td>\n",
       "      <td>70.19</td>\n",
       "      <td>111.03</td>\n",
       "    </tr>\n",
       "    <tr>\n",
       "      <th>1</th>\n",
       "      <td>122.47</td>\n",
       "      <td>860</td>\n",
       "      <td>276.84</td>\n",
       "      <td>75.10</td>\n",
       "      <td>123.09</td>\n",
       "      <td>17.23</td>\n",
       "      <td>118.94</td>\n",
       "    </tr>\n",
       "    <tr>\n",
       "      <th>2</th>\n",
       "      <td>214.42</td>\n",
       "      <td>852</td>\n",
       "      <td>215.76</td>\n",
       "      <td>78.89</td>\n",
       "      <td>223.98</td>\n",
       "      <td>2.77</td>\n",
       "      <td>167.12</td>\n",
       "    </tr>\n",
       "    <tr>\n",
       "      <th>3</th>\n",
       "      <td>69.40</td>\n",
       "      <td>288</td>\n",
       "      <td>606.84</td>\n",
       "      <td>96.97</td>\n",
       "      <td>68.86</td>\n",
       "      <td>96.97</td>\n",
       "      <td>68.86</td>\n",
       "    </tr>\n",
       "    <tr>\n",
       "      <th>4</th>\n",
       "      <td>158.13</td>\n",
       "      <td>723</td>\n",
       "      <td>313.04</td>\n",
       "      <td>39.79</td>\n",
       "      <td>161.36</td>\n",
       "      <td>15.34</td>\n",
       "      <td>145.42</td>\n",
       "    </tr>\n",
       "  </tbody>\n",
       "</table>\n",
       "</div>"
      ],
      "text/plain": [
       "   Average Fare  Distance  Average weekly passengers  ml_market share  \\\n",
       "0        114.47       528                     424.56            70.19   \n",
       "1        122.47       860                     276.84            75.10   \n",
       "2        214.42       852                     215.76            78.89   \n",
       "3         69.40       288                     606.84            96.97   \n",
       "4        158.13       723                     313.04            39.79   \n",
       "\n",
       "   ml_Average fare  lp_market share  lp_price  \n",
       "0           111.03            70.19    111.03  \n",
       "1           123.09            17.23    118.94  \n",
       "2           223.98             2.77    167.12  \n",
       "3            68.86            96.97     68.86  \n",
       "4           161.36            15.34    145.42  "
      ]
     },
     "execution_count": 71,
     "metadata": {},
     "output_type": "execute_result"
    }
   ],
   "source": [
    "data.head()"
   ]
  },
  {
   "cell_type": "code",
   "execution_count": 72,
   "metadata": {},
   "outputs": [
    {
     "data": {
      "text/plain": [
       "0    114.47\n",
       "1    122.47\n",
       "2    214.42\n",
       "3     69.40\n",
       "4    158.13\n",
       "Name: Average Fare, dtype: float64"
      ]
     },
     "execution_count": 72,
     "metadata": {},
     "output_type": "execute_result"
    }
   ],
   "source": [
    "y = data.iloc[:,0]\n",
    "y.head()"
   ]
  },
  {
   "cell_type": "code",
   "execution_count": 73,
   "metadata": {},
   "outputs": [
    {
     "data": {
      "text/html": [
       "<div>\n",
       "<style scoped>\n",
       "    .dataframe tbody tr th:only-of-type {\n",
       "        vertical-align: middle;\n",
       "    }\n",
       "\n",
       "    .dataframe tbody tr th {\n",
       "        vertical-align: top;\n",
       "    }\n",
       "\n",
       "    .dataframe thead th {\n",
       "        text-align: right;\n",
       "    }\n",
       "</style>\n",
       "<table border=\"1\" class=\"dataframe\">\n",
       "  <thead>\n",
       "    <tr style=\"text-align: right;\">\n",
       "      <th></th>\n",
       "      <th>Distance</th>\n",
       "      <th>Average weekly passengers</th>\n",
       "      <th>ml_market share</th>\n",
       "      <th>ml_Average fare</th>\n",
       "      <th>lp_market share</th>\n",
       "      <th>lp_price</th>\n",
       "    </tr>\n",
       "  </thead>\n",
       "  <tbody>\n",
       "    <tr>\n",
       "      <th>0</th>\n",
       "      <td>528</td>\n",
       "      <td>424.56</td>\n",
       "      <td>70.19</td>\n",
       "      <td>111.03</td>\n",
       "      <td>70.19</td>\n",
       "      <td>111.03</td>\n",
       "    </tr>\n",
       "    <tr>\n",
       "      <th>1</th>\n",
       "      <td>860</td>\n",
       "      <td>276.84</td>\n",
       "      <td>75.10</td>\n",
       "      <td>123.09</td>\n",
       "      <td>17.23</td>\n",
       "      <td>118.94</td>\n",
       "    </tr>\n",
       "    <tr>\n",
       "      <th>2</th>\n",
       "      <td>852</td>\n",
       "      <td>215.76</td>\n",
       "      <td>78.89</td>\n",
       "      <td>223.98</td>\n",
       "      <td>2.77</td>\n",
       "      <td>167.12</td>\n",
       "    </tr>\n",
       "    <tr>\n",
       "      <th>3</th>\n",
       "      <td>288</td>\n",
       "      <td>606.84</td>\n",
       "      <td>96.97</td>\n",
       "      <td>68.86</td>\n",
       "      <td>96.97</td>\n",
       "      <td>68.86</td>\n",
       "    </tr>\n",
       "    <tr>\n",
       "      <th>4</th>\n",
       "      <td>723</td>\n",
       "      <td>313.04</td>\n",
       "      <td>39.79</td>\n",
       "      <td>161.36</td>\n",
       "      <td>15.34</td>\n",
       "      <td>145.42</td>\n",
       "    </tr>\n",
       "  </tbody>\n",
       "</table>\n",
       "</div>"
      ],
      "text/plain": [
       "   Distance  Average weekly passengers  ml_market share  ml_Average fare  \\\n",
       "0       528                     424.56            70.19           111.03   \n",
       "1       860                     276.84            75.10           123.09   \n",
       "2       852                     215.76            78.89           223.98   \n",
       "3       288                     606.84            96.97            68.86   \n",
       "4       723                     313.04            39.79           161.36   \n",
       "\n",
       "   lp_market share  lp_price  \n",
       "0            70.19    111.03  \n",
       "1            17.23    118.94  \n",
       "2             2.77    167.12  \n",
       "3            96.97     68.86  \n",
       "4            15.34    145.42  "
      ]
     },
     "execution_count": 73,
     "metadata": {},
     "output_type": "execute_result"
    }
   ],
   "source": [
    "X = data.iloc[:,1:] \n",
    "X.head()"
   ]
  },
  {
   "cell_type": "code",
   "execution_count": 74,
   "metadata": {},
   "outputs": [
    {
     "data": {
      "text/plain": [
       "<matplotlib.axes._subplots.AxesSubplot at 0x1b477e9ca90>"
      ]
     },
     "execution_count": 74,
     "metadata": {},
     "output_type": "execute_result"
    },
    {
     "data": {
      "image/png": "[encoded data removed]",
      "text/plain": [
       "<Figure size 432x288 with 2 Axes>"
      ]
     },
     "metadata": {
      "needs_background": "light"
     },
     "output_type": "display_data"
    }
   ],
   "source": [
    "sns.heatmap(data.corr(), annot=True, cmap=\"YlGnBu\")"
   ]
  },
  {
   "cell_type": "markdown",
   "metadata": {},
   "source": [
    "#### 5.\tCreate scatter Plot of Independent Variable vs Dependent Variable.\n"
   ]
  },
  {
   "cell_type": "code",
   "execution_count": 76,
   "metadata": {},
   "outputs": [
    {
     "data": {
      "text/plain": [
       "<seaborn.axisgrid.PairGrid at 0x1b4797edeb8>"
      ]
     },
     "execution_count": 76,
     "metadata": {},
     "output_type": "execute_result"
    },
    {
     "data": {
      "image/png": "[encoded data removed]",
      "text/plain": [
       "<Figure size 1080x180 with 6 Axes>"
      ]
     },
     "metadata": {
      "needs_background": "light"
     },
     "output_type": "display_data"
    }
   ],
   "source": [
    "sns.pairplot(data, y_vars=\"Average Fare\", x_vars=[\"Distance\", \"Average weekly passengers\", \"ml_market share\", \"ml_Average fare\", \"lp_market share\", \"lp_price\"] )"
   ]
  },
  {
   "cell_type": "markdown",
   "metadata": {},
   "source": [
    "###### We can observe that 'Average Fare' for the particular route,  has   \n",
    "* Strong correlation with :\n",
    "    'Average fare - Market Leading Airline'(positive) and \n",
    "    'price - Low price Airline'(positive)  \n",
    "\n",
    "* Moderate correlation with :\n",
    "    'Distance' (positive) and\n",
    "    'market share - Low price Airline' (negative)\n",
    "     \n",
    "* Quite weak correlation with:\n",
    "    'Average weekly passengers' (negative) and\n",
    "    'market share - Market Leading Airline' (negative)"
   ]
  },
  {
   "cell_type": "markdown",
   "metadata": {},
   "source": [
    "#### 6. Divide the data set into training and test data set and build a Multiple Linear Regression model.\n"
   ]
  },
  {
   "cell_type": "code",
   "execution_count": 77,
   "metadata": {},
   "outputs": [],
   "source": [
    "X_train, X_test, y_train, y_test = train_test_split(X, y, random_state=1)"
   ]
  },
  {
   "cell_type": "code",
   "execution_count": 78,
   "metadata": {},
   "outputs": [],
   "source": [
    "model = LinearRegression()\n",
    "model.fit(X_train, y_train)\n",
    "y_pred = model.predict(X_test)"
   ]
  },
  {
   "cell_type": "markdown",
   "metadata": {},
   "source": [
    "#### 7.\tPrint the coefficients & intercepts of the linear regression model"
   ]
  },
  {
   "cell_type": "code",
   "execution_count": 79,
   "metadata": {},
   "outputs": [
    {
     "name": "stdout",
     "output_type": "stream",
     "text": [
      "Intercept =  5.284632850362186\n",
      "Coefficients =  [ 0.0025005  -0.00179929  0.0762812   0.74000553 -0.03512798  0.21065833]\n"
     ]
    }
   ],
   "source": [
    "print(\"Intercept = \", model.intercept_)\n",
    "print(\"Coefficients = \", model.coef_)"
   ]
  },
  {
   "cell_type": "markdown",
   "metadata": {},
   "source": [
    "#### 8.\tPrint the accuracy of the overall model"
   ]
  },
  {
   "cell_type": "code",
   "execution_count": 80,
   "metadata": {},
   "outputs": [
    {
     "name": "stdout",
     "output_type": "stream",
     "text": [
      "Train accuracy Score =  0.9748579051033945\n",
      "Test accuracy Score =  0.9694318293725684\n"
     ]
    }
   ],
   "source": [
    "print(\"Train accuracy Score = \", model.score(X_train, y_train))\n",
    "print(\"Test accuracy Score = \", model.score(X_test, y_test))"
   ]
  }
 ],
 "metadata": {
  "kernelspec": {
   "display_name": "Python 3",
   "language": "python",
   "name": "python3"
  },
  "language_info": {
   "codemirror_mode": {
    "name": "ipython",
    "version": 3
   },
   "file_extension": ".py",
   "mimetype": "text/x-python",
   "name": "python",
   "nbconvert_exporter": "python",
   "pygments_lexer": "ipython3",
   "version": "3.7.1"
  }
 },
 "nbformat": 4,
 "nbformat_minor": 2
}
